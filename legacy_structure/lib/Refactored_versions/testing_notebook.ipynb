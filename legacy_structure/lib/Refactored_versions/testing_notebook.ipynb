{
 "cells": [
  {
   "cell_type": "code",
   "execution_count": 1,
   "id": "7472f97c-5bd8-4320-9a0a-38878b665cb9",
   "metadata": {},
   "outputs": [
    {
     "name": "stdin",
     "output_type": "stream",
     "text": [
      "Provide working directory (ends with a /):  working_dir/\n",
      "WARNING: working_dir/ does not exist. Should it be created? [y/n]:  y\n",
      "Provide directory that contains raw read data:  ../../Data/sample_fast5/subset_fast5/\n",
      "Provide path to reference fasta file:  fasta_dir/fasta.fa\n"
     ]
    },
    {
     "name": "stdout",
     "output_type": "stream",
     "text": [
      "../../Data/sample_fast5/subset_fast5/APH167_a204cb54_df11909c_0.pod5 already exists.\n",
      "../../Data/sample_fast5/subset_fast5/APH167_a204cb54_df11909c_0.pod5 found.\n",
      "../../Data/sample_fast5/subset_fast5/APH167_a204cb54_df11909c_1.pod5 already exists.\n",
      "../../Data/sample_fast5/subset_fast5/APH167_a204cb54_df11909c_1.pod5 found.\n",
      "../../Data/sample_fast5/subset_fast5/APH167_a204cb54_df11909c_10.pod5 already exists.\n",
      "../../Data/sample_fast5/subset_fast5/APH167_a204cb54_df11909c_10.pod5 found.\n",
      "../../Data/sample_fast5/subset_fast5/APH167_a204cb54_df11909c_11.pod5 already exists.\n",
      "../../Data/sample_fast5/subset_fast5/APH167_a204cb54_df11909c_11.pod5 found.\n",
      "../../Data/sample_fast5/subset_fast5/APH167_a204cb54_df11909c_12.pod5 already exists.\n",
      "../../Data/sample_fast5/subset_fast5/APH167_a204cb54_df11909c_12.pod5 found.\n",
      "../../Data/sample_fast5/subset_fast5/APH167_a204cb54_df11909c_13.pod5 already exists.\n",
      "../../Data/sample_fast5/subset_fast5/APH167_a204cb54_df11909c_13.pod5 found.\n",
      "../../Data/sample_fast5/subset_fast5/APH167_a204cb54_df11909c_14.pod5 already exists.\n",
      "../../Data/sample_fast5/subset_fast5/APH167_a204cb54_df11909c_14.pod5 found.\n",
      "../../Data/sample_fast5/subset_fast5/APH167_a204cb54_df11909c_15.pod5 already exists.\n",
      "../../Data/sample_fast5/subset_fast5/APH167_a204cb54_df11909c_15.pod5 found.\n",
      "../../Data/sample_fast5/subset_fast5/APH167_a204cb54_df11909c_16.pod5 already exists.\n",
      "../../Data/sample_fast5/subset_fast5/APH167_a204cb54_df11909c_16.pod5 found.\n",
      "../../Data/sample_fast5/subset_fast5/APH167_a204cb54_df11909c_17.pod5 already exists.\n",
      "../../Data/sample_fast5/subset_fast5/APH167_a204cb54_df11909c_17.pod5 found.\n",
      "../../Data/sample_fast5/subset_fast5/APH167_a204cb54_df11909c_18.pod5 already exists.\n",
      "../../Data/sample_fast5/subset_fast5/APH167_a204cb54_df11909c_18.pod5 found.\n",
      "../../Data/sample_fast5/subset_fast5/APH167_a204cb54_df11909c_19.pod5 already exists.\n",
      "../../Data/sample_fast5/subset_fast5/APH167_a204cb54_df11909c_19.pod5 found.\n",
      "../../Data/sample_fast5/subset_fast5/APH167_a204cb54_df11909c_2.pod5 already exists.\n",
      "../../Data/sample_fast5/subset_fast5/APH167_a204cb54_df11909c_2.pod5 found.\n",
      "../../Data/sample_fast5/subset_fast5/APH167_a204cb54_df11909c_20.pod5 already exists.\n",
      "../../Data/sample_fast5/subset_fast5/APH167_a204cb54_df11909c_20.pod5 found.\n",
      "../../Data/sample_fast5/subset_fast5/APH167_a204cb54_df11909c_21.pod5 already exists.\n",
      "../../Data/sample_fast5/subset_fast5/APH167_a204cb54_df11909c_21.pod5 found.\n",
      "../../Data/sample_fast5/subset_fast5/APH167_a204cb54_df11909c_22.pod5 already exists.\n",
      "../../Data/sample_fast5/subset_fast5/APH167_a204cb54_df11909c_22.pod5 found.\n",
      "../../Data/sample_fast5/subset_fast5/APH167_a204cb54_df11909c_23.pod5 already exists.\n",
      "../../Data/sample_fast5/subset_fast5/APH167_a204cb54_df11909c_23.pod5 found.\n",
      "../../Data/sample_fast5/subset_fast5/APH167_a204cb54_df11909c_24.pod5 already exists.\n",
      "../../Data/sample_fast5/subset_fast5/APH167_a204cb54_df11909c_24.pod5 found.\n",
      "../../Data/sample_fast5/subset_fast5/APH167_a204cb54_df11909c_25.pod5 already exists.\n",
      "../../Data/sample_fast5/subset_fast5/APH167_a204cb54_df11909c_25.pod5 found.\n",
      "../../Data/sample_fast5/subset_fast5/APH167_a204cb54_df11909c_26.pod5 already exists.\n",
      "../../Data/sample_fast5/subset_fast5/APH167_a204cb54_df11909c_26.pod5 found.\n",
      "../../Data/sample_fast5/subset_fast5/APH167_a204cb54_df11909c_27.pod5 already exists.\n",
      "../../Data/sample_fast5/subset_fast5/APH167_a204cb54_df11909c_27.pod5 found.\n",
      "../../Data/sample_fast5/subset_fast5/APH167_a204cb54_df11909c_28.pod5 already exists.\n",
      "../../Data/sample_fast5/subset_fast5/APH167_a204cb54_df11909c_28.pod5 found.\n",
      "../../Data/sample_fast5/subset_fast5/APH167_a204cb54_df11909c_29.pod5 already exists.\n",
      "../../Data/sample_fast5/subset_fast5/APH167_a204cb54_df11909c_29.pod5 found.\n",
      "../../Data/sample_fast5/subset_fast5/APH167_a204cb54_df11909c_3.pod5 already exists.\n",
      "../../Data/sample_fast5/subset_fast5/APH167_a204cb54_df11909c_3.pod5 found.\n",
      "../../Data/sample_fast5/subset_fast5/APH167_a204cb54_df11909c_30.pod5 already exists.\n",
      "../../Data/sample_fast5/subset_fast5/APH167_a204cb54_df11909c_30.pod5 found.\n",
      "../../Data/sample_fast5/subset_fast5/APH167_a204cb54_df11909c_31.pod5 already exists.\n",
      "../../Data/sample_fast5/subset_fast5/APH167_a204cb54_df11909c_31.pod5 found.\n",
      "../../Data/sample_fast5/subset_fast5/APH167_a204cb54_df11909c_32.pod5 already exists.\n",
      "../../Data/sample_fast5/subset_fast5/APH167_a204cb54_df11909c_32.pod5 found.\n",
      "../../Data/sample_fast5/subset_fast5/APH167_a204cb54_df11909c_33.pod5 already exists.\n",
      "../../Data/sample_fast5/subset_fast5/APH167_a204cb54_df11909c_33.pod5 found.\n",
      "../../Data/sample_fast5/subset_fast5/APH167_a204cb54_df11909c_34.pod5 already exists.\n",
      "../../Data/sample_fast5/subset_fast5/APH167_a204cb54_df11909c_34.pod5 found.\n",
      "../../Data/sample_fast5/subset_fast5/APH167_a204cb54_df11909c_35.pod5 already exists.\n",
      "../../Data/sample_fast5/subset_fast5/APH167_a204cb54_df11909c_35.pod5 found.\n",
      "../../Data/sample_fast5/subset_fast5/APH167_a204cb54_df11909c_36.pod5 already exists.\n",
      "../../Data/sample_fast5/subset_fast5/APH167_a204cb54_df11909c_36.pod5 found.\n",
      "../../Data/sample_fast5/subset_fast5/APH167_a204cb54_df11909c_37.pod5 already exists.\n",
      "../../Data/sample_fast5/subset_fast5/APH167_a204cb54_df11909c_37.pod5 found.\n",
      "../../Data/sample_fast5/subset_fast5/APH167_a204cb54_df11909c_38.pod5 already exists.\n",
      "../../Data/sample_fast5/subset_fast5/APH167_a204cb54_df11909c_38.pod5 found.\n",
      "../../Data/sample_fast5/subset_fast5/APH167_a204cb54_df11909c_39.pod5 already exists.\n",
      "../../Data/sample_fast5/subset_fast5/APH167_a204cb54_df11909c_39.pod5 found.\n",
      "../../Data/sample_fast5/subset_fast5/APH167_a204cb54_df11909c_4.pod5 already exists.\n",
      "../../Data/sample_fast5/subset_fast5/APH167_a204cb54_df11909c_4.pod5 found.\n",
      "../../Data/sample_fast5/subset_fast5/APH167_a204cb54_df11909c_40.pod5 already exists.\n",
      "../../Data/sample_fast5/subset_fast5/APH167_a204cb54_df11909c_40.pod5 found.\n",
      "../../Data/sample_fast5/subset_fast5/APH167_a204cb54_df11909c_41.pod5 already exists.\n",
      "../../Data/sample_fast5/subset_fast5/APH167_a204cb54_df11909c_41.pod5 found.\n",
      "../../Data/sample_fast5/subset_fast5/APH167_a204cb54_df11909c_42.pod5 already exists.\n",
      "../../Data/sample_fast5/subset_fast5/APH167_a204cb54_df11909c_42.pod5 found.\n",
      "../../Data/sample_fast5/subset_fast5/APH167_a204cb54_df11909c_43.pod5 already exists.\n",
      "../../Data/sample_fast5/subset_fast5/APH167_a204cb54_df11909c_43.pod5 found.\n",
      "../../Data/sample_fast5/subset_fast5/APH167_a204cb54_df11909c_44.pod5 already exists.\n",
      "../../Data/sample_fast5/subset_fast5/APH167_a204cb54_df11909c_44.pod5 found.\n",
      "../../Data/sample_fast5/subset_fast5/APH167_a204cb54_df11909c_45.pod5 already exists.\n",
      "../../Data/sample_fast5/subset_fast5/APH167_a204cb54_df11909c_45.pod5 found.\n",
      "../../Data/sample_fast5/subset_fast5/APH167_a204cb54_df11909c_46.pod5 already exists.\n",
      "../../Data/sample_fast5/subset_fast5/APH167_a204cb54_df11909c_46.pod5 found.\n",
      "../../Data/sample_fast5/subset_fast5/APH167_a204cb54_df11909c_47.pod5 already exists.\n",
      "../../Data/sample_fast5/subset_fast5/APH167_a204cb54_df11909c_47.pod5 found.\n",
      "../../Data/sample_fast5/subset_fast5/APH167_a204cb54_df11909c_48.pod5 already exists.\n",
      "../../Data/sample_fast5/subset_fast5/APH167_a204cb54_df11909c_48.pod5 found.\n",
      "../../Data/sample_fast5/subset_fast5/APH167_a204cb54_df11909c_49.pod5 already exists.\n",
      "../../Data/sample_fast5/subset_fast5/APH167_a204cb54_df11909c_49.pod5 found.\n",
      "../../Data/sample_fast5/subset_fast5/APH167_a204cb54_df11909c_5.pod5 already exists.\n",
      "../../Data/sample_fast5/subset_fast5/APH167_a204cb54_df11909c_5.pod5 found.\n",
      "../../Data/sample_fast5/subset_fast5/APH167_a204cb54_df11909c_50.pod5 already exists.\n",
      "../../Data/sample_fast5/subset_fast5/APH167_a204cb54_df11909c_50.pod5 found.\n",
      "../../Data/sample_fast5/subset_fast5/APH167_a204cb54_df11909c_51.pod5 already exists.\n",
      "../../Data/sample_fast5/subset_fast5/APH167_a204cb54_df11909c_51.pod5 found.\n",
      "../../Data/sample_fast5/subset_fast5/APH167_a204cb54_df11909c_52.pod5 already exists.\n",
      "../../Data/sample_fast5/subset_fast5/APH167_a204cb54_df11909c_52.pod5 found.\n",
      "../../Data/sample_fast5/subset_fast5/APH167_a204cb54_df11909c_53.pod5 already exists.\n",
      "../../Data/sample_fast5/subset_fast5/APH167_a204cb54_df11909c_53.pod5 found.\n",
      "../../Data/sample_fast5/subset_fast5/APH167_a204cb54_df11909c_54.pod5 already exists.\n",
      "../../Data/sample_fast5/subset_fast5/APH167_a204cb54_df11909c_54.pod5 found.\n",
      "../../Data/sample_fast5/subset_fast5/APH167_a204cb54_df11909c_55.pod5 already exists.\n",
      "../../Data/sample_fast5/subset_fast5/APH167_a204cb54_df11909c_55.pod5 found.\n",
      "../../Data/sample_fast5/subset_fast5/APH167_a204cb54_df11909c_56.pod5 already exists.\n",
      "../../Data/sample_fast5/subset_fast5/APH167_a204cb54_df11909c_56.pod5 found.\n",
      "../../Data/sample_fast5/subset_fast5/APH167_a204cb54_df11909c_57.pod5 already exists.\n",
      "../../Data/sample_fast5/subset_fast5/APH167_a204cb54_df11909c_57.pod5 found.\n",
      "../../Data/sample_fast5/subset_fast5/APH167_a204cb54_df11909c_58.pod5 already exists.\n",
      "../../Data/sample_fast5/subset_fast5/APH167_a204cb54_df11909c_58.pod5 found.\n",
      "../../Data/sample_fast5/subset_fast5/APH167_a204cb54_df11909c_59.pod5 already exists.\n",
      "../../Data/sample_fast5/subset_fast5/APH167_a204cb54_df11909c_59.pod5 found.\n",
      "../../Data/sample_fast5/subset_fast5/APH167_a204cb54_df11909c_6.pod5 already exists.\n",
      "../../Data/sample_fast5/subset_fast5/APH167_a204cb54_df11909c_6.pod5 found.\n",
      "../../Data/sample_fast5/subset_fast5/APH167_a204cb54_df11909c_60.pod5 already exists.\n",
      "../../Data/sample_fast5/subset_fast5/APH167_a204cb54_df11909c_60.pod5 found.\n",
      "../../Data/sample_fast5/subset_fast5/APH167_a204cb54_df11909c_61.pod5 already exists.\n",
      "../../Data/sample_fast5/subset_fast5/APH167_a204cb54_df11909c_61.pod5 found.\n",
      "../../Data/sample_fast5/subset_fast5/APH167_a204cb54_df11909c_62.pod5 already exists.\n",
      "../../Data/sample_fast5/subset_fast5/APH167_a204cb54_df11909c_62.pod5 found.\n",
      "../../Data/sample_fast5/subset_fast5/APH167_a204cb54_df11909c_63.pod5 already exists.\n",
      "../../Data/sample_fast5/subset_fast5/APH167_a204cb54_df11909c_63.pod5 found.\n",
      "../../Data/sample_fast5/subset_fast5/APH167_a204cb54_df11909c_64.pod5 already exists.\n",
      "../../Data/sample_fast5/subset_fast5/APH167_a204cb54_df11909c_64.pod5 found.\n",
      "../../Data/sample_fast5/subset_fast5/APH167_a204cb54_df11909c_65.pod5 already exists.\n",
      "../../Data/sample_fast5/subset_fast5/APH167_a204cb54_df11909c_65.pod5 found.\n",
      "../../Data/sample_fast5/subset_fast5/APH167_a204cb54_df11909c_66.pod5 already exists.\n",
      "../../Data/sample_fast5/subset_fast5/APH167_a204cb54_df11909c_66.pod5 found.\n",
      "../../Data/sample_fast5/subset_fast5/APH167_a204cb54_df11909c_67.pod5 already exists.\n",
      "../../Data/sample_fast5/subset_fast5/APH167_a204cb54_df11909c_67.pod5 found.\n",
      "../../Data/sample_fast5/subset_fast5/APH167_a204cb54_df11909c_68.pod5 already exists.\n",
      "../../Data/sample_fast5/subset_fast5/APH167_a204cb54_df11909c_68.pod5 found.\n",
      "../../Data/sample_fast5/subset_fast5/APH167_a204cb54_df11909c_69.pod5 already exists.\n",
      "../../Data/sample_fast5/subset_fast5/APH167_a204cb54_df11909c_69.pod5 found.\n",
      "../../Data/sample_fast5/subset_fast5/APH167_a204cb54_df11909c_7.pod5 already exists.\n",
      "../../Data/sample_fast5/subset_fast5/APH167_a204cb54_df11909c_7.pod5 found.\n",
      "../../Data/sample_fast5/subset_fast5/APH167_a204cb54_df11909c_70.pod5 already exists.\n",
      "../../Data/sample_fast5/subset_fast5/APH167_a204cb54_df11909c_70.pod5 found.\n",
      "../../Data/sample_fast5/subset_fast5/APH167_a204cb54_df11909c_71.pod5 already exists.\n",
      "../../Data/sample_fast5/subset_fast5/APH167_a204cb54_df11909c_71.pod5 found.\n",
      "../../Data/sample_fast5/subset_fast5/APH167_a204cb54_df11909c_72.pod5 already exists.\n",
      "../../Data/sample_fast5/subset_fast5/APH167_a204cb54_df11909c_72.pod5 found.\n",
      "../../Data/sample_fast5/subset_fast5/APH167_a204cb54_df11909c_73.pod5 already exists.\n",
      "../../Data/sample_fast5/subset_fast5/APH167_a204cb54_df11909c_73.pod5 found.\n",
      "../../Data/sample_fast5/subset_fast5/APH167_a204cb54_df11909c_74.pod5 already exists.\n",
      "../../Data/sample_fast5/subset_fast5/APH167_a204cb54_df11909c_74.pod5 found.\n",
      "../../Data/sample_fast5/subset_fast5/APH167_a204cb54_df11909c_75.pod5 already exists.\n",
      "../../Data/sample_fast5/subset_fast5/APH167_a204cb54_df11909c_75.pod5 found.\n",
      "../../Data/sample_fast5/subset_fast5/APH167_a204cb54_df11909c_76.pod5 already exists.\n",
      "../../Data/sample_fast5/subset_fast5/APH167_a204cb54_df11909c_76.pod5 found.\n",
      "../../Data/sample_fast5/subset_fast5/APH167_a204cb54_df11909c_77.pod5 already exists.\n",
      "../../Data/sample_fast5/subset_fast5/APH167_a204cb54_df11909c_77.pod5 found.\n",
      "../../Data/sample_fast5/subset_fast5/APH167_a204cb54_df11909c_78.pod5 already exists.\n",
      "../../Data/sample_fast5/subset_fast5/APH167_a204cb54_df11909c_78.pod5 found.\n",
      "../../Data/sample_fast5/subset_fast5/APH167_a204cb54_df11909c_79.pod5 already exists.\n",
      "../../Data/sample_fast5/subset_fast5/APH167_a204cb54_df11909c_79.pod5 found.\n",
      "../../Data/sample_fast5/subset_fast5/APH167_a204cb54_df11909c_8.pod5 already exists.\n",
      "../../Data/sample_fast5/subset_fast5/APH167_a204cb54_df11909c_8.pod5 found.\n",
      "../../Data/sample_fast5/subset_fast5/APH167_a204cb54_df11909c_80.pod5 already exists.\n",
      "../../Data/sample_fast5/subset_fast5/APH167_a204cb54_df11909c_80.pod5 found.\n",
      "../../Data/sample_fast5/subset_fast5/APH167_a204cb54_df11909c_81.pod5 already exists.\n",
      "../../Data/sample_fast5/subset_fast5/APH167_a204cb54_df11909c_81.pod5 found.\n",
      "../../Data/sample_fast5/subset_fast5/APH167_a204cb54_df11909c_82.pod5 already exists.\n",
      "../../Data/sample_fast5/subset_fast5/APH167_a204cb54_df11909c_82.pod5 found.\n",
      "../../Data/sample_fast5/subset_fast5/APH167_a204cb54_df11909c_83.pod5 already exists.\n",
      "../../Data/sample_fast5/subset_fast5/APH167_a204cb54_df11909c_83.pod5 found.\n",
      "../../Data/sample_fast5/subset_fast5/APH167_a204cb54_df11909c_84.pod5 already exists.\n",
      "../../Data/sample_fast5/subset_fast5/APH167_a204cb54_df11909c_84.pod5 found.\n",
      "../../Data/sample_fast5/subset_fast5/APH167_a204cb54_df11909c_85.pod5 already exists.\n",
      "../../Data/sample_fast5/subset_fast5/APH167_a204cb54_df11909c_85.pod5 found.\n",
      "../../Data/sample_fast5/subset_fast5/APH167_a204cb54_df11909c_86.pod5 already exists.\n",
      "../../Data/sample_fast5/subset_fast5/APH167_a204cb54_df11909c_86.pod5 found.\n",
      "../../Data/sample_fast5/subset_fast5/APH167_a204cb54_df11909c_87.pod5 already exists.\n",
      "../../Data/sample_fast5/subset_fast5/APH167_a204cb54_df11909c_87.pod5 found.\n",
      "../../Data/sample_fast5/subset_fast5/APH167_a204cb54_df11909c_88.pod5 already exists.\n",
      "../../Data/sample_fast5/subset_fast5/APH167_a204cb54_df11909c_88.pod5 found.\n",
      "../../Data/sample_fast5/subset_fast5/APH167_a204cb54_df11909c_89.pod5 already exists.\n",
      "../../Data/sample_fast5/subset_fast5/APH167_a204cb54_df11909c_89.pod5 found.\n",
      "../../Data/sample_fast5/subset_fast5/APH167_a204cb54_df11909c_9.pod5 already exists.\n",
      "../../Data/sample_fast5/subset_fast5/APH167_a204cb54_df11909c_9.pod5 found.\n",
      "../../Data/sample_fast5/subset_fast5/APH167_a204cb54_df11909c_90.pod5 already exists.\n",
      "../../Data/sample_fast5/subset_fast5/APH167_a204cb54_df11909c_90.pod5 found.\n",
      "../../Data/sample_fast5/subset_fast5/APH167_a204cb54_df11909c_91.pod5 already exists.\n",
      "../../Data/sample_fast5/subset_fast5/APH167_a204cb54_df11909c_91.pod5 found.\n",
      "../../Data/sample_fast5/subset_fast5/APH167_a204cb54_df11909c_92.pod5 already exists.\n",
      "../../Data/sample_fast5/subset_fast5/APH167_a204cb54_df11909c_92.pod5 found.\n",
      "../../Data/sample_fast5/subset_fast5/APH167_a204cb54_df11909c_93.pod5 already exists.\n",
      "../../Data/sample_fast5/subset_fast5/APH167_a204cb54_df11909c_93.pod5 found.\n",
      "../../Data/sample_fast5/subset_fast5/APH167_a204cb54_df11909c_94.pod5 already exists.\n",
      "../../Data/sample_fast5/subset_fast5/APH167_a204cb54_df11909c_94.pod5 found.\n",
      "../../Data/sample_fast5/subset_fast5/APH167_a204cb54_df11909c_95.pod5 already exists.\n",
      "../../Data/sample_fast5/subset_fast5/APH167_a204cb54_df11909c_95.pod5 found.\n",
      "successful merge into working_dir/pod5merged_reads.pod5.\n"
     ]
    }
   ],
   "source": [
    "import xf_low_qual_revamp as xlr"
   ]
  },
  {
   "cell_type": "code",
   "execution_count": null,
   "id": "fb8d2724-a8ec-42db-a789-f6f326bf4d99",
   "metadata": {},
   "outputs": [],
   "source": [
    "\"../../Data/sample_fast5/subset_fast5/\"\n",
    "\"fasta_dir/fasta.fa\""
   ]
  },
  {
   "cell_type": "code",
   "execution_count": 2,
   "id": "dc1548dd-f26e-4bc4-b96c-0f91c2d26f88",
   "metadata": {},
   "outputs": [
    {
     "name": "stdin",
     "output_type": "stream",
     "text": [
      "Provide working directory (ends with a /):  \n",
      "WARNING:  does not exist. Should it be created? [y/n]:  \n"
     ]
    },
    {
     "name": "stdout",
     "output_type": "stream",
     "text": [
      "Exiting.\n"
     ]
    },
    {
     "ename": "SystemExit",
     "evalue": "",
     "output_type": "error",
     "traceback": [
      "An exception has occurred, use %tb to see the full traceback.\n",
      "\u001b[1;31mSystemExit\u001b[0m\n"
     ]
    },
    {
     "name": "stderr",
     "output_type": "stream",
     "text": [
      "C:\\Users\\Sebastian\\anaconda3\\envs\\xna_seq\\lib\\site-packages\\IPython\\core\\interactiveshell.py:3516: UserWarning: To exit: use 'exit', 'quit', or Ctrl-D.\n",
      "  warn(\"To exit: use 'exit', 'quit', or Ctrl-D.\", stacklevel=1)\n"
     ]
    }
   ],
   "source": [
    "print(xlr.request_directories())"
   ]
  },
  {
   "cell_type": "code",
   "execution_count": null,
   "id": "276d6998-7eba-4105-9eca-9c43b4b12d62",
   "metadata": {},
   "outputs": [],
   "source": [
    "# a, Valid working directory\n",
    "# b, Valid fast5 directory with pod5's\n",
    "# c, valid fasta file\n",
    "# assert xlr.request_directories(a, b, c) = a, b, c\n",
    "\n",
    "# a, none\n",
    "# b, none\n",
    "# c, none\n",
    "# assert xlr.request_directories() = \n",
    "\n",
    "#oh no, each one should have their own method\n",
    "\n",
    "#aaaaaaa\n"
   ]
  },
  {
   "cell_type": "code",
   "execution_count": 3,
   "id": "4476a766-8bd2-46ba-9d96-507040eebb41",
   "metadata": {},
   "outputs": [
    {
     "name": "stdout",
     "output_type": "stream",
     "text": [
      " Volume in drive C has no label.\n",
      " Volume Serial Number is 82C9-3693\n",
      "\n",
      " Directory of C:\\Users\\Sebastian\\documents\\GitHub\\xapstone\\lib\\Refactored_versions\n",
      "\n",
      "03/04/2024  11:06 PM    <DIR>          .\n",
      "03/04/2024  11:06 PM    <DIR>          ..\n",
      "03/04/2024  10:40 PM    <DIR>          .ipynb_checkpoints\n",
      "02/28/2024  01:04 PM             4,822 consensus_refactor.py\n",
      "03/04/2024  10:56 PM    <DIR>          fasta_dir\n",
      "03/04/2024  11:06 PM            20,832 testing_notebook.ipynb\n",
      "03/04/2024  10:52 PM    <DIR>          Untitled Folder\n",
      "03/04/2024  10:54 PM            20,588 Untitled1.ipynb\n",
      "03/04/2024  10:56 PM    <DIR>          working_dir\n",
      "03/04/2024  11:01 PM             9,559 xf_low_qual_revamp.py\n",
      "03/04/2024  10:42 PM             3,241 xf_params.py\n",
      "03/04/2024  10:40 PM             6,587 xf_tools.py\n",
      "03/04/2024  10:52 PM    <DIR>          __pycache__\n",
      "               6 File(s)         65,629 bytes\n",
      "               7 Dir(s)  568,171,433,984 bytes free\n"
     ]
    }
   ],
   "source": [
    "!dir"
   ]
  },
  {
   "cell_type": "code",
   "execution_count": 4,
   "id": "1b9d3c71-ae30-43a8-9991-87959ff061ce",
   "metadata": {},
   "outputs": [
    {
     "name": "stderr",
     "output_type": "stream",
     "text": [
      "WARNING: Astrometry.net API key not found in configuration file [astroquery.astrometry_net.core]\n",
      "WARNING: You need to manually edit the configuration file and add it [astroquery.astrometry_net.core]\n",
      "WARNING: You may also register it for this session with AstrometryNet.key = 'XXXXXXXX' [astroquery.astrometry_net.core]\n",
      "WARNING: Astrometry.net API key not found in configuration file [astroquery.astrometry_net.core]\n",
      "WARNING: You need to manually edit the configuration file and add it [astroquery.astrometry_net.core]\n",
      "WARNING: You may also register it for this session with AstrometryNet.key = 'XXXXXXXX' [astroquery.astrometry_net.core]\n"
     ]
    }
   ],
   "source": [
    "import dorado"
   ]
  },
  {
   "cell_type": "code",
   "execution_count": 7,
   "id": "5af134e1-5e55-41d0-8dd9-1b8eed3d6798",
   "metadata": {},
   "outputs": [
    {
     "name": "stderr",
     "output_type": "stream",
     "text": [
      "'dorado' is not recognized as an internal or external command,\n",
      "operable program or batch file.\n"
     ]
    }
   ],
   "source": [
    "!dorado basecaller hac pod5s/ > calls.bam"
   ]
  },
  {
   "cell_type": "code",
   "execution_count": 8,
   "id": "74c66782-4034-4d0b-8749-35ce599c6379",
   "metadata": {},
   "outputs": [
    {
     "name": "stdout",
     "output_type": "stream",
     "text": [
      "C:\\Users\\Sebastian\\anaconda3\\envs\\xna_seq\\Lib\\site-packages\n"
     ]
    }
   ],
   "source": [
    "from distutils.sysconfig import get_python_lib\n",
    "print(get_python_lib())"
   ]
  },
  {
   "cell_type": "code",
   "execution_count": 14,
   "id": "dee0a281-ef4c-422a-8caf-1cb4953c3845",
   "metadata": {},
   "outputs": [
    {
     "data": {
      "text/plain": [
       "'C:/Users/Sebastian/anaconda3/envs/xna_seq/Lib/site-packages/dorado basecaller hac C:/Users/Sebastian/Documents/GitHub/xapstone/Data/sample_fast5/merged_folder/merged.pod5 > C:/Users/Sebastian/Documents/GitHub/xapstone/Data/sample_fast5/merged_folder/calls.bam'"
      ]
     },
     "execution_count": 14,
     "metadata": {},
     "output_type": "execute_result"
    }
   ],
   "source": [
    "str_cmd = \"C:/Users/Sebastian/anaconda3/envs/xna_seq/Lib/site-packages/dorado basecaller hac C:/Users/Sebastian/Documents/GitHub/xapstone/Data/sample_fast5/merged_folder/merged.pod5 > C:/Users/Sebastian/Documents/GitHub/xapstone/Data/sample_fast5/merged_folder/calls.bam\"\n",
    "str_cmd"
   ]
  },
  {
   "cell_type": "code",
   "execution_count": 4,
   "id": "0cc2441e-84e8-4aed-8e96-30569c00ef02",
   "metadata": {},
   "outputs": [
    {
     "name": "stderr",
     "output_type": "stream",
     "text": [
      "'dorado-0.5.3-win64' is not recognized as an internal or external command,\n",
      "operable program or batch file.\n"
     ]
    }
   ],
   "source": [
    "!dorado-0.5.3-win64/bin/dorado basecaller hac C:/Users/Sebastian/Documents/GitHub/xapstone/Data/sample_fast5/merged_folder/merged.pod5 > C:/Users/Sebastian/Documents/GitHub/xapstone/Data/sample_fast5/merged_folder/calls.bam"
   ]
  },
  {
   "cell_type": "code",
   "execution_count": 2,
   "id": "9c1e7cd2-ecf4-47a4-80c0-70ee13c10909",
   "metadata": {},
   "outputs": [
    {
     "name": "stdout",
     "output_type": "stream",
     "text": [
      "C:/Users/Sebastian/documents/GitHub/xapstone/lib/Refactored_versions/dorado-0.5.3-win64/bin/dorado.exe basecaller hac C:/Users/Sebastian/Documents/GitHub/xapstone/Data/sample_fast5/merged_folder/merged.pod5 > C:/Users/Sebastian/Documents/GitHub/xapstone/Data/sample_fast5/merged_folder/calls.bam\n"
     ]
    }
   ],
   "source": [
    "dorado_path = 'C:/Users/Sebastian/documents/GitHub/xapstone/lib/Refactored_versions/dorado-0.5.3-win64/bin/dorado.exe'\n",
    "pod5_path = 'C:/Users/Sebastian/Documents/GitHub/xapstone/Data/sample_fast5/merged_folder/merged.pod5'\n",
    "output_path = 'C:/Users/Sebastian/Documents/GitHub/xapstone/Data/sample_fast5/merged_folder/calls.bam'\n",
    "cmd = \"{} basecaller hac {} > {}\".format(dorado_path, pod5_path, output_path)\n",
    "print(cmd)"
   ]
  },
  {
   "cell_type": "code",
   "execution_count": 4,
   "id": "2bb515df-4dd0-49ea-8445-58c56fde9e66",
   "metadata": {},
   "outputs": [
    {
     "ename": "SystemExit",
     "evalue": "",
     "output_type": "error",
     "traceback": [
      "An exception has occurred, use %tb to see the full traceback.\n",
      "\u001b[1;31mSystemExit\u001b[0m\n"
     ]
    }
   ],
   "source": [
    "import sys\n",
    "val = sys.exit()"
   ]
  },
  {
   "cell_type": "code",
   "execution_count": 3,
   "id": "651d3058-ea68-47de-aa92-5248e4e6d9e0",
   "metadata": {},
   "outputs": [
    {
     "data": {
      "text/plain": [
       "True"
      ]
     },
     "execution_count": 3,
     "metadata": {},
     "output_type": "execute_result"
    }
   ],
   "source": [
    "import os\n",
    "subfiles = os.listdir()\n",
    "subfolders = []\n",
    "for file in subfiles: \n",
    "    if os.path.isdir(file): \n",
    "        subfolders.append(file)\n",
    "subfolders\n",
    "os.path.isdir('C:\\\\Users\\\\Sebastian\\\\documents\\\\GitHub\\\\xapstone\\\\lib\\\\Refactored_versions\\\\')"
   ]
  },
  {
   "cell_type": "code",
   "execution_count": 9,
   "id": "0e988069-b1b0-4dda-ac49-6638abb91fc0",
   "metadata": {},
   "outputs": [
    {
     "data": {
      "text/plain": [
       "['caffe2_nvrtc.dll',\n",
       " 'cublas64_11.dll',\n",
       " 'cublasLt64_11.dll',\n",
       " 'cudnn64_8.dll',\n",
       " 'cudnn_adv_infer64_8.dll',\n",
       " 'cudnn_cnn_infer64_8.dll',\n",
       " 'cudnn_ops_infer64_8.dll',\n",
       " 'cufft64_10.dll',\n",
       " 'cusolver64_11.dll',\n",
       " 'cusparse64_11.dll',\n",
       " 'dorado.exe',\n",
       " 'hts-3.dll',\n",
       " 'libbrotlicommon.dll',\n",
       " 'libbrotlidec.dll',\n",
       " 'libbrotlienc.dll',\n",
       " 'libbz2-1.dll',\n",
       " 'libcrypto-3-x64.dll',\n",
       " 'libcurl-4.dll',\n",
       " 'libdeflate.dll',\n",
       " 'libiconv-2.dll',\n",
       " 'libidn2-0.dll',\n",
       " 'libintl-8.dll',\n",
       " 'libiomp5md.dll',\n",
       " 'liblzma-5.dll',\n",
       " 'libnghttp2-14.dll',\n",
       " 'libpsl-5.dll',\n",
       " 'libssh2-1.dll',\n",
       " 'libssl-3-x64.dll',\n",
       " 'libsystre-0.dll',\n",
       " 'libtre-5.dll',\n",
       " 'libunistring-5.dll',\n",
       " 'libwinpthread-1.dll',\n",
       " 'libzstd.dll',\n",
       " 'nvToolsExt64_1.dll',\n",
       " 'zlib.dll',\n",
       " 'zlib1.dll',\n",
       " 'zlibwapi.dll',\n",
       " 'zstd.dll']"
      ]
     },
     "execution_count": 9,
     "metadata": {},
     "output_type": "execute_result"
    }
   ],
   "source": [
    "os.listdir('C:\\\\Users\\\\Sebastian\\\\documents\\\\GitHub\\\\xapstone\\\\lib\\\\Refactored_versions\\\\dorado-0.5.3-win64\\\\bin\\\\dorado.exe')"
   ]
  },
  {
   "cell_type": "code",
   "execution_count": 1,
   "id": "9250e096-92f0-45be-8e08-1412358e032b",
   "metadata": {},
   "outputs": [
    {
     "ename": "SyntaxError",
     "evalue": "invalid syntax (pybam.py, line 589)",
     "output_type": "error",
     "traceback": [
      "Traceback \u001b[1;36m(most recent call last)\u001b[0m:\n",
      "\u001b[0m  File \u001b[0;32m~\\anaconda3\\envs\\xna_seq\\lib\\site-packages\\IPython\\core\\interactiveshell.py:3508\u001b[0m in \u001b[0;35mrun_code\u001b[0m\n    exec(code_obj, self.user_global_ns, self.user_ns)\u001b[0m\n",
      "\u001b[1;36m  Cell \u001b[1;32mIn[1], line 1\u001b[1;36m\n\u001b[1;33m    import pybam\u001b[1;36m\n",
      "\u001b[1;36m  File \u001b[1;32m~\\documents\\GitHub\\xapstone\\lib\\Refactored_versions\\pybam.py:589\u001b[1;36m\u001b[0m\n\u001b[1;33m    exec code in exec_dict            # exec() compiles \"code\" to real code, creating the \"parser\" function and adding it to exec_dict['parser']\u001b[0m\n\u001b[1;37m         ^\u001b[0m\n\u001b[1;31mSyntaxError\u001b[0m\u001b[1;31m:\u001b[0m invalid syntax\n"
     ]
    }
   ],
   "source": [
    "import pybam"
   ]
  },
  {
   "cell_type": "code",
   "execution_count": 1,
   "id": "78924af5-705c-44e0-973f-c083535c9dbc",
   "metadata": {},
   "outputs": [
    {
     "name": "stdin",
     "output_type": "stream",
     "text": [
      "Provide working directory (ends with /):  working_dir/\n"
     ]
    },
    {
     "name": "stdout",
     "output_type": "stream",
     "text": [
      "working folders generated\n"
     ]
    },
    {
     "name": "stdin",
     "output_type": "stream",
     "text": [
      "Provide raw read directory (ends with /):  ../../Data/sample_fast5/subset_fast5/\n"
     ]
    },
    {
     "name": "stdout",
     "output_type": "stream",
     "text": [
      "../../Data/sample_fast5/subset_fast5/APH167_a204cb54_df11909c_0.pod5 already exists.\n",
      "../../Data/sample_fast5/subset_fast5/APH167_a204cb54_df11909c_0.pod5 found.\n",
      "../../Data/sample_fast5/subset_fast5/APH167_a204cb54_df11909c_1.pod5 already exists.\n",
      "../../Data/sample_fast5/subset_fast5/APH167_a204cb54_df11909c_1.pod5 found.\n",
      "../../Data/sample_fast5/subset_fast5/APH167_a204cb54_df11909c_10.pod5 already exists.\n",
      "../../Data/sample_fast5/subset_fast5/APH167_a204cb54_df11909c_10.pod5 found.\n",
      "../../Data/sample_fast5/subset_fast5/APH167_a204cb54_df11909c_11.pod5 already exists.\n",
      "../../Data/sample_fast5/subset_fast5/APH167_a204cb54_df11909c_11.pod5 found.\n",
      "../../Data/sample_fast5/subset_fast5/APH167_a204cb54_df11909c_12.pod5 already exists.\n",
      "../../Data/sample_fast5/subset_fast5/APH167_a204cb54_df11909c_12.pod5 found.\n",
      "../../Data/sample_fast5/subset_fast5/APH167_a204cb54_df11909c_13.pod5 already exists.\n",
      "../../Data/sample_fast5/subset_fast5/APH167_a204cb54_df11909c_13.pod5 found.\n",
      "../../Data/sample_fast5/subset_fast5/APH167_a204cb54_df11909c_14.pod5 already exists.\n",
      "../../Data/sample_fast5/subset_fast5/APH167_a204cb54_df11909c_14.pod5 found.\n",
      "../../Data/sample_fast5/subset_fast5/APH167_a204cb54_df11909c_15.pod5 already exists.\n",
      "../../Data/sample_fast5/subset_fast5/APH167_a204cb54_df11909c_15.pod5 found.\n",
      "../../Data/sample_fast5/subset_fast5/APH167_a204cb54_df11909c_16.pod5 already exists.\n",
      "../../Data/sample_fast5/subset_fast5/APH167_a204cb54_df11909c_16.pod5 found.\n",
      "../../Data/sample_fast5/subset_fast5/APH167_a204cb54_df11909c_17.pod5 already exists.\n",
      "../../Data/sample_fast5/subset_fast5/APH167_a204cb54_df11909c_17.pod5 found.\n",
      "../../Data/sample_fast5/subset_fast5/APH167_a204cb54_df11909c_18.pod5 already exists.\n",
      "../../Data/sample_fast5/subset_fast5/APH167_a204cb54_df11909c_18.pod5 found.\n",
      "../../Data/sample_fast5/subset_fast5/APH167_a204cb54_df11909c_19.pod5 already exists.\n",
      "../../Data/sample_fast5/subset_fast5/APH167_a204cb54_df11909c_19.pod5 found.\n",
      "../../Data/sample_fast5/subset_fast5/APH167_a204cb54_df11909c_2.pod5 already exists.\n",
      "../../Data/sample_fast5/subset_fast5/APH167_a204cb54_df11909c_2.pod5 found.\n",
      "../../Data/sample_fast5/subset_fast5/APH167_a204cb54_df11909c_20.pod5 already exists.\n",
      "../../Data/sample_fast5/subset_fast5/APH167_a204cb54_df11909c_20.pod5 found.\n",
      "../../Data/sample_fast5/subset_fast5/APH167_a204cb54_df11909c_21.pod5 already exists.\n",
      "../../Data/sample_fast5/subset_fast5/APH167_a204cb54_df11909c_21.pod5 found.\n",
      "../../Data/sample_fast5/subset_fast5/APH167_a204cb54_df11909c_22.pod5 already exists.\n",
      "../../Data/sample_fast5/subset_fast5/APH167_a204cb54_df11909c_22.pod5 found.\n",
      "../../Data/sample_fast5/subset_fast5/APH167_a204cb54_df11909c_23.pod5 already exists.\n",
      "../../Data/sample_fast5/subset_fast5/APH167_a204cb54_df11909c_23.pod5 found.\n",
      "../../Data/sample_fast5/subset_fast5/APH167_a204cb54_df11909c_24.pod5 already exists.\n",
      "../../Data/sample_fast5/subset_fast5/APH167_a204cb54_df11909c_24.pod5 found.\n",
      "../../Data/sample_fast5/subset_fast5/APH167_a204cb54_df11909c_25.pod5 already exists.\n",
      "../../Data/sample_fast5/subset_fast5/APH167_a204cb54_df11909c_25.pod5 found.\n",
      "../../Data/sample_fast5/subset_fast5/APH167_a204cb54_df11909c_26.pod5 already exists.\n",
      "../../Data/sample_fast5/subset_fast5/APH167_a204cb54_df11909c_26.pod5 found.\n",
      "../../Data/sample_fast5/subset_fast5/APH167_a204cb54_df11909c_27.pod5 already exists.\n",
      "../../Data/sample_fast5/subset_fast5/APH167_a204cb54_df11909c_27.pod5 found.\n",
      "../../Data/sample_fast5/subset_fast5/APH167_a204cb54_df11909c_28.pod5 already exists.\n",
      "../../Data/sample_fast5/subset_fast5/APH167_a204cb54_df11909c_28.pod5 found.\n",
      "../../Data/sample_fast5/subset_fast5/APH167_a204cb54_df11909c_29.pod5 already exists.\n",
      "../../Data/sample_fast5/subset_fast5/APH167_a204cb54_df11909c_29.pod5 found.\n",
      "../../Data/sample_fast5/subset_fast5/APH167_a204cb54_df11909c_3.pod5 already exists.\n",
      "../../Data/sample_fast5/subset_fast5/APH167_a204cb54_df11909c_3.pod5 found.\n",
      "../../Data/sample_fast5/subset_fast5/APH167_a204cb54_df11909c_30.pod5 already exists.\n",
      "../../Data/sample_fast5/subset_fast5/APH167_a204cb54_df11909c_30.pod5 found.\n",
      "../../Data/sample_fast5/subset_fast5/APH167_a204cb54_df11909c_31.pod5 already exists.\n",
      "../../Data/sample_fast5/subset_fast5/APH167_a204cb54_df11909c_31.pod5 found.\n",
      "../../Data/sample_fast5/subset_fast5/APH167_a204cb54_df11909c_32.pod5 already exists.\n",
      "../../Data/sample_fast5/subset_fast5/APH167_a204cb54_df11909c_32.pod5 found.\n",
      "../../Data/sample_fast5/subset_fast5/APH167_a204cb54_df11909c_33.pod5 already exists.\n",
      "../../Data/sample_fast5/subset_fast5/APH167_a204cb54_df11909c_33.pod5 found.\n",
      "../../Data/sample_fast5/subset_fast5/APH167_a204cb54_df11909c_34.pod5 already exists.\n",
      "../../Data/sample_fast5/subset_fast5/APH167_a204cb54_df11909c_34.pod5 found.\n",
      "../../Data/sample_fast5/subset_fast5/APH167_a204cb54_df11909c_35.pod5 already exists.\n",
      "../../Data/sample_fast5/subset_fast5/APH167_a204cb54_df11909c_35.pod5 found.\n",
      "../../Data/sample_fast5/subset_fast5/APH167_a204cb54_df11909c_36.pod5 already exists.\n",
      "../../Data/sample_fast5/subset_fast5/APH167_a204cb54_df11909c_36.pod5 found.\n",
      "../../Data/sample_fast5/subset_fast5/APH167_a204cb54_df11909c_37.pod5 already exists.\n",
      "../../Data/sample_fast5/subset_fast5/APH167_a204cb54_df11909c_37.pod5 found.\n",
      "../../Data/sample_fast5/subset_fast5/APH167_a204cb54_df11909c_38.pod5 already exists.\n",
      "../../Data/sample_fast5/subset_fast5/APH167_a204cb54_df11909c_38.pod5 found.\n",
      "../../Data/sample_fast5/subset_fast5/APH167_a204cb54_df11909c_39.pod5 already exists.\n",
      "../../Data/sample_fast5/subset_fast5/APH167_a204cb54_df11909c_39.pod5 found.\n",
      "../../Data/sample_fast5/subset_fast5/APH167_a204cb54_df11909c_4.pod5 already exists.\n",
      "../../Data/sample_fast5/subset_fast5/APH167_a204cb54_df11909c_4.pod5 found.\n",
      "../../Data/sample_fast5/subset_fast5/APH167_a204cb54_df11909c_40.pod5 already exists.\n",
      "../../Data/sample_fast5/subset_fast5/APH167_a204cb54_df11909c_40.pod5 found.\n",
      "../../Data/sample_fast5/subset_fast5/APH167_a204cb54_df11909c_41.pod5 already exists.\n",
      "../../Data/sample_fast5/subset_fast5/APH167_a204cb54_df11909c_41.pod5 found.\n",
      "../../Data/sample_fast5/subset_fast5/APH167_a204cb54_df11909c_42.pod5 already exists.\n",
      "../../Data/sample_fast5/subset_fast5/APH167_a204cb54_df11909c_42.pod5 found.\n",
      "../../Data/sample_fast5/subset_fast5/APH167_a204cb54_df11909c_43.pod5 already exists.\n",
      "../../Data/sample_fast5/subset_fast5/APH167_a204cb54_df11909c_43.pod5 found.\n",
      "../../Data/sample_fast5/subset_fast5/APH167_a204cb54_df11909c_44.pod5 already exists.\n",
      "../../Data/sample_fast5/subset_fast5/APH167_a204cb54_df11909c_44.pod5 found.\n",
      "../../Data/sample_fast5/subset_fast5/APH167_a204cb54_df11909c_45.pod5 already exists.\n",
      "../../Data/sample_fast5/subset_fast5/APH167_a204cb54_df11909c_45.pod5 found.\n",
      "../../Data/sample_fast5/subset_fast5/APH167_a204cb54_df11909c_46.pod5 already exists.\n",
      "../../Data/sample_fast5/subset_fast5/APH167_a204cb54_df11909c_46.pod5 found.\n",
      "../../Data/sample_fast5/subset_fast5/APH167_a204cb54_df11909c_47.pod5 already exists.\n",
      "../../Data/sample_fast5/subset_fast5/APH167_a204cb54_df11909c_47.pod5 found.\n",
      "../../Data/sample_fast5/subset_fast5/APH167_a204cb54_df11909c_48.pod5 already exists.\n",
      "../../Data/sample_fast5/subset_fast5/APH167_a204cb54_df11909c_48.pod5 found.\n",
      "../../Data/sample_fast5/subset_fast5/APH167_a204cb54_df11909c_49.pod5 already exists.\n",
      "../../Data/sample_fast5/subset_fast5/APH167_a204cb54_df11909c_49.pod5 found.\n",
      "../../Data/sample_fast5/subset_fast5/APH167_a204cb54_df11909c_5.pod5 already exists.\n",
      "../../Data/sample_fast5/subset_fast5/APH167_a204cb54_df11909c_5.pod5 found.\n",
      "../../Data/sample_fast5/subset_fast5/APH167_a204cb54_df11909c_50.pod5 already exists.\n",
      "../../Data/sample_fast5/subset_fast5/APH167_a204cb54_df11909c_50.pod5 found.\n",
      "../../Data/sample_fast5/subset_fast5/APH167_a204cb54_df11909c_51.pod5 already exists.\n",
      "../../Data/sample_fast5/subset_fast5/APH167_a204cb54_df11909c_51.pod5 found.\n",
      "../../Data/sample_fast5/subset_fast5/APH167_a204cb54_df11909c_52.pod5 already exists.\n",
      "../../Data/sample_fast5/subset_fast5/APH167_a204cb54_df11909c_52.pod5 found.\n",
      "../../Data/sample_fast5/subset_fast5/APH167_a204cb54_df11909c_53.pod5 already exists.\n",
      "../../Data/sample_fast5/subset_fast5/APH167_a204cb54_df11909c_53.pod5 found.\n",
      "../../Data/sample_fast5/subset_fast5/APH167_a204cb54_df11909c_54.pod5 already exists.\n",
      "../../Data/sample_fast5/subset_fast5/APH167_a204cb54_df11909c_54.pod5 found.\n",
      "../../Data/sample_fast5/subset_fast5/APH167_a204cb54_df11909c_55.pod5 already exists.\n",
      "../../Data/sample_fast5/subset_fast5/APH167_a204cb54_df11909c_55.pod5 found.\n",
      "../../Data/sample_fast5/subset_fast5/APH167_a204cb54_df11909c_56.pod5 already exists.\n",
      "../../Data/sample_fast5/subset_fast5/APH167_a204cb54_df11909c_56.pod5 found.\n",
      "../../Data/sample_fast5/subset_fast5/APH167_a204cb54_df11909c_57.pod5 already exists.\n",
      "../../Data/sample_fast5/subset_fast5/APH167_a204cb54_df11909c_57.pod5 found.\n",
      "../../Data/sample_fast5/subset_fast5/APH167_a204cb54_df11909c_58.pod5 already exists.\n",
      "../../Data/sample_fast5/subset_fast5/APH167_a204cb54_df11909c_58.pod5 found.\n",
      "../../Data/sample_fast5/subset_fast5/APH167_a204cb54_df11909c_59.pod5 already exists.\n",
      "../../Data/sample_fast5/subset_fast5/APH167_a204cb54_df11909c_59.pod5 found.\n",
      "../../Data/sample_fast5/subset_fast5/APH167_a204cb54_df11909c_6.pod5 already exists.\n",
      "../../Data/sample_fast5/subset_fast5/APH167_a204cb54_df11909c_6.pod5 found.\n",
      "../../Data/sample_fast5/subset_fast5/APH167_a204cb54_df11909c_60.pod5 already exists.\n",
      "../../Data/sample_fast5/subset_fast5/APH167_a204cb54_df11909c_60.pod5 found.\n",
      "../../Data/sample_fast5/subset_fast5/APH167_a204cb54_df11909c_61.pod5 already exists.\n",
      "../../Data/sample_fast5/subset_fast5/APH167_a204cb54_df11909c_61.pod5 found.\n",
      "../../Data/sample_fast5/subset_fast5/APH167_a204cb54_df11909c_62.pod5 already exists.\n",
      "../../Data/sample_fast5/subset_fast5/APH167_a204cb54_df11909c_62.pod5 found.\n",
      "../../Data/sample_fast5/subset_fast5/APH167_a204cb54_df11909c_63.pod5 already exists.\n",
      "../../Data/sample_fast5/subset_fast5/APH167_a204cb54_df11909c_63.pod5 found.\n",
      "../../Data/sample_fast5/subset_fast5/APH167_a204cb54_df11909c_64.pod5 already exists.\n",
      "../../Data/sample_fast5/subset_fast5/APH167_a204cb54_df11909c_64.pod5 found.\n",
      "../../Data/sample_fast5/subset_fast5/APH167_a204cb54_df11909c_65.pod5 already exists.\n",
      "../../Data/sample_fast5/subset_fast5/APH167_a204cb54_df11909c_65.pod5 found.\n",
      "../../Data/sample_fast5/subset_fast5/APH167_a204cb54_df11909c_66.pod5 already exists.\n",
      "../../Data/sample_fast5/subset_fast5/APH167_a204cb54_df11909c_66.pod5 found.\n",
      "../../Data/sample_fast5/subset_fast5/APH167_a204cb54_df11909c_67.pod5 already exists.\n",
      "../../Data/sample_fast5/subset_fast5/APH167_a204cb54_df11909c_67.pod5 found.\n",
      "../../Data/sample_fast5/subset_fast5/APH167_a204cb54_df11909c_68.pod5 already exists.\n",
      "../../Data/sample_fast5/subset_fast5/APH167_a204cb54_df11909c_68.pod5 found.\n",
      "../../Data/sample_fast5/subset_fast5/APH167_a204cb54_df11909c_69.pod5 already exists.\n",
      "../../Data/sample_fast5/subset_fast5/APH167_a204cb54_df11909c_69.pod5 found.\n",
      "../../Data/sample_fast5/subset_fast5/APH167_a204cb54_df11909c_7.pod5 already exists.\n",
      "../../Data/sample_fast5/subset_fast5/APH167_a204cb54_df11909c_7.pod5 found.\n",
      "../../Data/sample_fast5/subset_fast5/APH167_a204cb54_df11909c_70.pod5 already exists.\n",
      "../../Data/sample_fast5/subset_fast5/APH167_a204cb54_df11909c_70.pod5 found.\n",
      "../../Data/sample_fast5/subset_fast5/APH167_a204cb54_df11909c_71.pod5 already exists.\n",
      "../../Data/sample_fast5/subset_fast5/APH167_a204cb54_df11909c_71.pod5 found.\n",
      "../../Data/sample_fast5/subset_fast5/APH167_a204cb54_df11909c_72.pod5 already exists.\n",
      "../../Data/sample_fast5/subset_fast5/APH167_a204cb54_df11909c_72.pod5 found.\n",
      "../../Data/sample_fast5/subset_fast5/APH167_a204cb54_df11909c_73.pod5 already exists.\n",
      "../../Data/sample_fast5/subset_fast5/APH167_a204cb54_df11909c_73.pod5 found.\n",
      "../../Data/sample_fast5/subset_fast5/APH167_a204cb54_df11909c_74.pod5 already exists.\n",
      "../../Data/sample_fast5/subset_fast5/APH167_a204cb54_df11909c_74.pod5 found.\n",
      "../../Data/sample_fast5/subset_fast5/APH167_a204cb54_df11909c_75.pod5 already exists.\n",
      "../../Data/sample_fast5/subset_fast5/APH167_a204cb54_df11909c_75.pod5 found.\n",
      "../../Data/sample_fast5/subset_fast5/APH167_a204cb54_df11909c_76.pod5 already exists.\n",
      "../../Data/sample_fast5/subset_fast5/APH167_a204cb54_df11909c_76.pod5 found.\n",
      "../../Data/sample_fast5/subset_fast5/APH167_a204cb54_df11909c_77.pod5 already exists.\n",
      "../../Data/sample_fast5/subset_fast5/APH167_a204cb54_df11909c_77.pod5 found.\n",
      "../../Data/sample_fast5/subset_fast5/APH167_a204cb54_df11909c_78.pod5 already exists.\n",
      "../../Data/sample_fast5/subset_fast5/APH167_a204cb54_df11909c_78.pod5 found.\n",
      "../../Data/sample_fast5/subset_fast5/APH167_a204cb54_df11909c_79.pod5 already exists.\n",
      "../../Data/sample_fast5/subset_fast5/APH167_a204cb54_df11909c_79.pod5 found.\n",
      "../../Data/sample_fast5/subset_fast5/APH167_a204cb54_df11909c_8.pod5 already exists.\n",
      "../../Data/sample_fast5/subset_fast5/APH167_a204cb54_df11909c_8.pod5 found.\n",
      "../../Data/sample_fast5/subset_fast5/APH167_a204cb54_df11909c_80.pod5 already exists.\n",
      "../../Data/sample_fast5/subset_fast5/APH167_a204cb54_df11909c_80.pod5 found.\n",
      "../../Data/sample_fast5/subset_fast5/APH167_a204cb54_df11909c_81.pod5 already exists.\n",
      "../../Data/sample_fast5/subset_fast5/APH167_a204cb54_df11909c_81.pod5 found.\n",
      "../../Data/sample_fast5/subset_fast5/APH167_a204cb54_df11909c_82.pod5 already exists.\n",
      "../../Data/sample_fast5/subset_fast5/APH167_a204cb54_df11909c_82.pod5 found.\n",
      "../../Data/sample_fast5/subset_fast5/APH167_a204cb54_df11909c_83.pod5 already exists.\n",
      "../../Data/sample_fast5/subset_fast5/APH167_a204cb54_df11909c_83.pod5 found.\n",
      "../../Data/sample_fast5/subset_fast5/APH167_a204cb54_df11909c_84.pod5 already exists.\n",
      "../../Data/sample_fast5/subset_fast5/APH167_a204cb54_df11909c_84.pod5 found.\n",
      "../../Data/sample_fast5/subset_fast5/APH167_a204cb54_df11909c_85.pod5 already exists.\n",
      "../../Data/sample_fast5/subset_fast5/APH167_a204cb54_df11909c_85.pod5 found.\n",
      "../../Data/sample_fast5/subset_fast5/APH167_a204cb54_df11909c_86.pod5 already exists.\n",
      "../../Data/sample_fast5/subset_fast5/APH167_a204cb54_df11909c_86.pod5 found.\n",
      "../../Data/sample_fast5/subset_fast5/APH167_a204cb54_df11909c_87.pod5 already exists.\n",
      "../../Data/sample_fast5/subset_fast5/APH167_a204cb54_df11909c_87.pod5 found.\n",
      "../../Data/sample_fast5/subset_fast5/APH167_a204cb54_df11909c_88.pod5 already exists.\n",
      "../../Data/sample_fast5/subset_fast5/APH167_a204cb54_df11909c_88.pod5 found.\n",
      "../../Data/sample_fast5/subset_fast5/APH167_a204cb54_df11909c_89.pod5 already exists.\n",
      "../../Data/sample_fast5/subset_fast5/APH167_a204cb54_df11909c_89.pod5 found.\n",
      "../../Data/sample_fast5/subset_fast5/APH167_a204cb54_df11909c_9.pod5 already exists.\n",
      "../../Data/sample_fast5/subset_fast5/APH167_a204cb54_df11909c_9.pod5 found.\n",
      "../../Data/sample_fast5/subset_fast5/APH167_a204cb54_df11909c_90.pod5 already exists.\n",
      "../../Data/sample_fast5/subset_fast5/APH167_a204cb54_df11909c_90.pod5 found.\n",
      "../../Data/sample_fast5/subset_fast5/APH167_a204cb54_df11909c_91.pod5 already exists.\n",
      "../../Data/sample_fast5/subset_fast5/APH167_a204cb54_df11909c_91.pod5 found.\n",
      "../../Data/sample_fast5/subset_fast5/APH167_a204cb54_df11909c_92.pod5 already exists.\n",
      "../../Data/sample_fast5/subset_fast5/APH167_a204cb54_df11909c_92.pod5 found.\n",
      "../../Data/sample_fast5/subset_fast5/APH167_a204cb54_df11909c_93.pod5 already exists.\n",
      "../../Data/sample_fast5/subset_fast5/APH167_a204cb54_df11909c_93.pod5 found.\n",
      "../../Data/sample_fast5/subset_fast5/APH167_a204cb54_df11909c_94.pod5 already exists.\n",
      "../../Data/sample_fast5/subset_fast5/APH167_a204cb54_df11909c_94.pod5 found.\n",
      "../../Data/sample_fast5/subset_fast5/APH167_a204cb54_df11909c_95.pod5 already exists.\n",
      "../../Data/sample_fast5/subset_fast5/APH167_a204cb54_df11909c_95.pod5 found.\n"
     ]
    },
    {
     "name": "stdin",
     "output_type": "stream",
     "text": [
      "File already exists at working_dir/pod5/merged.pod5. Overwrite? [y/else] y\n"
     ]
    },
    {
     "name": "stdout",
     "output_type": "stream",
     "text": [
      "successful merge into working_dir/pod5/merged.pod5.\n",
      "True\n"
     ]
    },
    {
     "name": "stdin",
     "output_type": "stream",
     "text": [
      "Provide reference directory (ends with /):  ../../Data/sample_fast5/fasta_metadata/fastafile.fa\n"
     ]
    },
    {
     "name": "stdout",
     "output_type": "stream",
     "text": [
      "True\n"
     ]
    },
    {
     "name": "stdin",
     "output_type": "stream",
     "text": [
      "Provide basecall directory (ends with /):  ../../Data/sample_fast5/merged_folder/calls.bam\n"
     ]
    },
    {
     "name": "stdout",
     "output_type": "stream",
     "text": [
      "True\n"
     ]
    }
   ],
   "source": [
    "import os\n",
    "import xf_lq_v3 as xf3 # working_dir/"
   ]
  },
  {
   "cell_type": "code",
   "execution_count": null,
   "id": "cafbc453-b83d-49da-a94d-db4c99a5642c",
   "metadata": {},
   "outputs": [],
   "source": [
    "xf3.get_directory('../../Data/sample_fast5/subset_fast5/', 'raw read')"
   ]
  },
  {
   "cell_type": "code",
   "execution_count": 3,
   "id": "ac053f3c-2095-41e0-956b-c287d0ea355c",
   "metadata": {},
   "outputs": [
    {
     "name": "stdout",
     "output_type": "stream",
     "text": [
      "True\n"
     ]
    },
    {
     "data": {
      "text/plain": [
       "'../../Data/sample_fast5/fasta_metadata/fastafile.fa'"
      ]
     },
     "execution_count": 3,
     "metadata": {},
     "output_type": "execute_result"
    }
   ],
   "source": [
    "xf3.get_directory('../../Data/sample_fast5/fasta_metadata/fastafile.fa', 'reference')"
   ]
  },
  {
   "cell_type": "code",
   "execution_count": 4,
   "id": "d5c61b40-4ac2-4c5f-88f7-5d28b169b72a",
   "metadata": {},
   "outputs": [
    {
     "name": "stdout",
     "output_type": "stream",
     "text": [
      "True\n"
     ]
    },
    {
     "data": {
      "text/plain": [
       "'../../Data/sample_fast5/merged_folder/calls.bam'"
      ]
     },
     "execution_count": 4,
     "metadata": {},
     "output_type": "execute_result"
    }
   ],
   "source": [
    "xf3.get_directory('../../Data/sample_fast5/merged_folder/calls.bam', 'basecall')"
   ]
  },
  {
   "cell_type": "code",
   "execution_count": 4,
   "id": "6ea306ca-fa8b-4e52-bda4-25fda14c84c5",
   "metadata": {},
   "outputs": [
    {
     "data": {
      "text/plain": [
       "True"
      ]
     },
     "execution_count": 4,
     "metadata": {},
     "output_type": "execute_result"
    }
   ],
   "source": [
    "os.path.exists('../../Data/sample_fast5/subset_fast5/')"
   ]
  },
  {
   "cell_type": "code",
   "execution_count": null,
   "id": "6dda9666-ea8a-4046-ab44-ab4a919868a0",
   "metadata": {},
   "outputs": [],
   "source": []
  }
 ],
 "metadata": {
  "kernelspec": {
   "display_name": "xna_seq",
   "language": "python",
   "name": "xna_seq"
  },
  "language_info": {
   "codemirror_mode": {
    "name": "ipython",
    "version": 3
   },
   "file_extension": ".py",
   "mimetype": "text/x-python",
   "name": "python",
   "nbconvert_exporter": "python",
   "pygments_lexer": "ipython3",
   "version": "3.8.15"
  }
 },
 "nbformat": 4,
 "nbformat_minor": 5
}
