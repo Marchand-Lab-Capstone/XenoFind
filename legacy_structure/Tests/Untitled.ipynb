{
 "cells": [
  {
   "cell_type": "code",
   "execution_count": 1,
   "id": "df8f1880-0664-46d2-a944-95993df52d14",
   "metadata": {},
   "outputs": [],
   "source": [
    "import os\n",
    "import sys"
   ]
  },
  {
   "cell_type": "code",
   "execution_count": 2,
   "id": "93deef88-568f-4321-adc0-65e2ecf82aad",
   "metadata": {},
   "outputs": [],
   "source": [
    "sys.path.append('../lib/')"
   ]
  },
  {
   "cell_type": "code",
   "execution_count": 3,
   "id": "53cb1173-6884-473d-9793-9a0716fd2094",
   "metadata": {},
   "outputs": [],
   "source": [
    "import xf_low_qual_script as xlfq"
   ]
  },
  {
   "cell_type": "code",
   "execution_count": null,
   "id": "5098b692-38ff-4071-bbde-b21b7c75f93d",
   "metadata": {},
   "outputs": [],
   "source": [
    "method_call = type(xlfq.get_directory(None, 'working'))"
   ]
  },
  {
   "cell_type": "code",
   "execution_count": 4,
   "id": "53b90065-a568-4b0f-b454-c21989af6b12",
   "metadata": {},
   "outputs": [
    {
     "ename": "TypeError",
     "evalue": "<lambda>() takes 0 positional arguments but 1 was given",
     "output_type": "error",
     "traceback": [
      "\u001b[1;31m---------------------------------------------------------------------------\u001b[0m",
      "\u001b[1;31mTypeError\u001b[0m                                 Traceback (most recent call last)",
      "Cell \u001b[1;32mIn[4], line 2\u001b[0m\n\u001b[0;32m      1\u001b[0m xlfq\u001b[38;5;241m.\u001b[39minput \u001b[38;5;241m=\u001b[39m \u001b[38;5;28;01mlambda\u001b[39;00m: \u001b[38;5;124m'\u001b[39m\u001b[38;5;124mworking_dir/\u001b[39m\u001b[38;5;124m'\u001b[39m\n\u001b[1;32m----> 2\u001b[0m method_call \u001b[38;5;241m=\u001b[39m \u001b[43mxlfq\u001b[49m\u001b[38;5;241;43m.\u001b[39;49m\u001b[43mget_directory\u001b[49m\u001b[43m(\u001b[49m\u001b[38;5;28;43;01mNone\u001b[39;49;00m\u001b[43m,\u001b[49m\u001b[43m \u001b[49m\u001b[38;5;124;43m'\u001b[39;49m\u001b[38;5;124;43mworking\u001b[39;49m\u001b[38;5;124;43m'\u001b[39;49m\u001b[43m)\u001b[49m\n",
      "File \u001b[1;32m~\\documents\\GitHub\\xapstone\\Tests\\../lib\\xf_low_qual_script.py:23\u001b[0m, in \u001b[0;36mget_directory\u001b[1;34m(path, typ)\u001b[0m\n\u001b[0;32m     20\u001b[0m     \u001b[38;5;28mprint\u001b[39m(validate_dirtype(directory, typ)) \u001b[38;5;66;03m# if false, handle based on type.\u001b[39;00m\n\u001b[0;32m     22\u001b[0m \u001b[38;5;28;01melse\u001b[39;00m:\n\u001b[1;32m---> 23\u001b[0m     path \u001b[38;5;241m=\u001b[39m \u001b[38;5;28;43minput\u001b[39;49m\u001b[43m(\u001b[49m\u001b[38;5;124;43m\"\u001b[39;49m\u001b[38;5;124;43mProvide \u001b[39;49m\u001b[38;5;132;43;01m{}\u001b[39;49;00m\u001b[38;5;124;43m directory (ends with /): \u001b[39;49m\u001b[38;5;124;43m\"\u001b[39;49m\u001b[38;5;241;43m.\u001b[39;49m\u001b[43mformat\u001b[49m\u001b[43m(\u001b[49m\u001b[43mtyp\u001b[49m\u001b[43m)\u001b[49m\u001b[43m)\u001b[49m\n\u001b[0;32m     24\u001b[0m     directory \u001b[38;5;241m=\u001b[39m xft\u001b[38;5;241m.\u001b[39mcheck_make_dir(path)\n\u001b[0;32m     25\u001b[0m     \u001b[38;5;28mprint\u001b[39m(validate_dirtype(directory, typ))\n",
      "\u001b[1;31mTypeError\u001b[0m: <lambda>() takes 0 positional arguments but 1 was given"
     ]
    }
   ],
   "source": [
    "xlfq.input = lambda: 'working_dir/'\n",
    "method_call = xlfq.get_directory(None, 'working')"
   ]
  },
  {
   "cell_type": "code",
   "execution_count": null,
   "id": "6174dc1c-d40e-4af7-9a85-f5c1df34b608",
   "metadata": {},
   "outputs": [],
   "source": []
  }
 ],
 "metadata": {
  "kernelspec": {
   "display_name": "xna_seq",
   "language": "python",
   "name": "xna_seq"
  },
  "language_info": {
   "codemirror_mode": {
    "name": "ipython",
    "version": 3
   },
   "file_extension": ".py",
   "mimetype": "text/x-python",
   "name": "python",
   "nbconvert_exporter": "python",
   "pygments_lexer": "ipython3",
   "version": "3.8.15"
  }
 },
 "nbformat": 4,
 "nbformat_minor": 5
}
