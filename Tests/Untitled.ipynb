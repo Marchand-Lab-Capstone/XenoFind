{
 "cells": [
  {
   "cell_type": "code",
   "execution_count": 5,
   "id": "df8f1880-0664-46d2-a944-95993df52d14",
   "metadata": {},
   "outputs": [],
   "source": [
    "import os\n",
    "import sys"
   ]
  },
  {
   "cell_type": "code",
   "execution_count": 7,
   "id": "93deef88-568f-4321-adc0-65e2ecf82aad",
   "metadata": {},
   "outputs": [
    {
     "data": {
      "text/plain": [
       "['C:\\\\Users\\\\Sebastian\\\\anaconda3\\\\envs\\\\xna_seq\\\\python38.zip',\n",
       " 'C:\\\\Users\\\\Sebastian\\\\anaconda3\\\\envs\\\\xna_seq\\\\DLLs',\n",
       " 'C:\\\\Users\\\\Sebastian\\\\anaconda3\\\\envs\\\\xna_seq\\\\lib',\n",
       " 'C:\\\\Users\\\\Sebastian\\\\anaconda3\\\\envs\\\\xna_seq',\n",
       " '',\n",
       " 'C:\\\\Users\\\\Sebastian\\\\anaconda3\\\\envs\\\\xna_seq\\\\lib\\\\site-packages',\n",
       " 'C:\\\\Users\\\\Sebastian\\\\anaconda3\\\\envs\\\\xna_seq\\\\lib\\\\site-packages\\\\win32',\n",
       " 'C:\\\\Users\\\\Sebastian\\\\anaconda3\\\\envs\\\\xna_seq\\\\lib\\\\site-packages\\\\win32\\\\lib',\n",
       " 'C:\\\\Users\\\\Sebastian\\\\anaconda3\\\\envs\\\\xna_seq\\\\lib\\\\site-packages\\\\Pythonwin']"
      ]
     },
     "execution_count": 7,
     "metadata": {},
     "output_type": "execute_result"
    }
   ],
   "source": [
    "sys.path"
   ]
  },
  {
   "cell_type": "code",
   "execution_count": 10,
   "id": "53cb1173-6884-473d-9793-9a0716fd2094",
   "metadata": {},
   "outputs": [],
   "source": [
    "import xf_low_qual_script"
   ]
  },
  {
   "cell_type": "code",
   "execution_count": 9,
   "id": "5098b692-38ff-4071-bbde-b21b7c75f93d",
   "metadata": {},
   "outputs": [],
   "source": []
  },
  {
   "cell_type": "code",
   "execution_count": null,
   "id": "53b90065-a568-4b0f-b454-c21989af6b12",
   "metadata": {},
   "outputs": [],
   "source": []
  }
 ],
 "metadata": {
  "kernelspec": {
   "display_name": "xna_seq",
   "language": "python",
   "name": "xna_seq"
  },
  "language_info": {
   "codemirror_mode": {
    "name": "ipython",
    "version": 3
   },
   "file_extension": ".py",
   "mimetype": "text/x-python",
   "name": "python",
   "nbconvert_exporter": "python",
   "pygments_lexer": "ipython3",
   "version": "3.8.15"
  }
 },
 "nbformat": 4,
 "nbformat_minor": 5
}
