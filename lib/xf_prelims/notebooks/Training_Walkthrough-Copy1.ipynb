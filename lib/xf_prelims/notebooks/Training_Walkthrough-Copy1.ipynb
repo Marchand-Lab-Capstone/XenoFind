{
 "cells": [
  {
   "cell_type": "markdown",
   "id": "c00c7107-017d-4a16-84d3-fa1b80379529",
   "metadata": {},
   "source": [
    "# Training Walkthrough\n",
    "Sebastian Peck, June 4th 2024\n",
    "\n",
    "This is a notebook-level walthrough of the training process for our current model."
   ]
  },
  {
   "cell_type": "code",
   "execution_count": 1,
   "id": "aa748ae2-d725-400e-bec1-4f8612e1460b",
   "metadata": {
    "tags": []
   },
   "outputs": [],
   "source": [
    "# First, we import all the relevant packages:\n",
    "# Base packages for data processing and cleanliness\n",
    "import os\n",
    "import sys\n",
    "import numpy as np\n",
    "import subprocess\n",
    "import multiprocessing\n",
    "import itertools\n",
    "import matplotlib.pyplot as plt\n",
    "import pandas as pd\n",
    "import random\n",
    "import datetime\n",
    "\n",
    "# adjust the path to include the directory for our own python files\n",
    "sys.path.append('..//..//model_gen')\n",
    "import feature_extraction as fe"
   ]
  },
  {
   "cell_type": "code",
   "execution_count": 2,
   "id": "b4cb7f40-7711-4644-9cd8-15b0a5a3b507",
   "metadata": {
    "tags": []
   },
   "outputs": [
    {
     "name": "stdout",
     "output_type": "stream",
     "text": [
      "cuda\n"
     ]
    }
   ],
   "source": [
    "# Then,the machine learning packages\n",
    "import torch\n",
    "from torch import nn\n",
    "from sklearn.model_selection import train_test_split\n",
    "from sklearn.preprocessing import StandardScaler\n",
    "from sklearn.decomposition import PCA\n",
    "from sklearn.metrics import confusion_matrix\n",
    "import seaborn as sns\n",
    "\n",
    "# and setup the device\n",
    "device = (\n",
    "    \"cuda\"\n",
    "    if torch.cuda.is_available()\n",
    "    else \"mps\"\n",
    "    if torch.backends.mps.is_available()\n",
    "    else \"cpu\"\n",
    ")\n",
    "print(device)"
   ]
  },
  {
   "cell_type": "code",
   "execution_count": 3,
   "id": "83298af3-84a2-4000-8067-815411af7f0f",
   "metadata": {
    "tags": []
   },
   "outputs": [],
   "source": [
    "# set up the operational directories\n",
    "\n",
    "# working directory, reference fasta, etc. The stuff typically handled by the pipeline\n",
    "working_directory = '/media/sebastian/Slepnir/xenofind_datasets/Working_directory_PZ/'\n",
    "ref_fasta = \"/media/sebastian/Slepnir/xenofind_datasets/xref_libv2_PZ_CxDx.fa\"\n",
    "working_subdir=''\n",
    "fasta_path = ''\n",
    "IS_TRAINING = True\n",
    "GLOBAL_RANDOM_STATE = 0\n",
    "window_size = 3\n",
    "\n",
    "# set up the random seed\n",
    "random.seed(0)\n",
    "\n",
    "if IS_TRAINING:\n",
    "    fasta_path = ref_fasta\n",
    "    working_subdir = 'model_training/'\n",
    "else:\n",
    "    working_subdir = 'model_testing/'\n",
    "    fasta_path = working_directory + working_subdir + 'consensus.fa'\n",
    "    \n",
    "bam_path = working_directory + working_subdir + 'basecall_directory/fwd_filtered.bam'\n",
    "pod5_path = working_directory + working_subdir + 'merged_pod5/merged.pod5'\n",
    "json_dir = working_directory + working_subdir + 'json_files/'\n",
    "parquet_dir = working_directory + working_subdir + 'parquet_superdirectory/'\n",
    "singlet_consensus_dir = working_directory + working_subdir + \"json_feature_files/\"\n"
   ]
  },
  {
   "cell_type": "markdown",
   "id": "c3db7915-ff3a-47de-a9f4-d7c14af4e3be",
   "metadata": {
    "tags": []
   },
   "source": [
    "### Custom Methods for optimization:\n",
    "percenttobar - takes a fraction and converts it to a loading bar string \n",
    "\n",
    "\n",
    "find_pca_components - generates a list of explained variance as percent for each number of components \n",
    "\n",
    "\n",
    "PyTorchClassifier - A custom sklearn-styled classifyer for generating a variable pytorch model"
   ]
  },
  {
   "cell_type": "code",
   "execution_count": 38,
   "id": "af5f2263-6941-4548-a020-779121e6823c",
   "metadata": {
    "tags": []
   },
   "outputs": [],
   "source": [
    "def percenttobar(frac):\n",
    "    bar_str = \"|\"\n",
    "    max_bars = 20\n",
    "    perc = frac*2000\n",
    "    n_bars = int(perc/100)\n",
    "    for i in range(n_bars):\n",
    "        bar_str += \"=\"\n",
    "    for i in range(max_bars-n_bars):\n",
    "        bar_str += \" \"\n",
    "    bar_str += \"|  {}%                \".format(round(frac*100, 3))\n",
    "    return bar_str\n",
    "    \n",
    "def find_pca_components(comp_list, data):\n",
    "    '''\n",
    "    find_pca_components takes in a list of number of components to be used,\n",
    "    as well as feature data to be used for PCA, and returns the\n",
    "    list of total explained variance as a percent for each number of components.\n",
    "    \n",
    "    Parameters:\n",
    "    comp_list: List of ints representing number of components of interest\n",
    "    data: pandas dataframe containing scaled unit variance feature data\n",
    "    \n",
    "    Returns:\n",
    "    a list of explained variance as a percent for each number of components\n",
    "    '''\n",
    "    \n",
    "    # Set up empty list\n",
    "    explained = []\n",
    "    # Loop through all components in the list\n",
    "    for components in comp_list:\n",
    "        # Set up PCA with the number of components of interest and the global random\n",
    "        pca = PCA(n_components=components, random_state = GLOBAL_RANDOM_STATE)\n",
    "        # Fit the data\n",
    "        pca.fit(data)\n",
    "        # Get the total explained variance ratio\n",
    "        pcen_expl = (pca.explained_variance_ratio_).sum()\n",
    "        # Add the value to the empty list\n",
    "        explained.append(pcen_expl)\n",
    "        \n",
    "    # return the explained list\n",
    "    return explained\n",
    "\n",
    "class PyTorchClassifier:\n",
    "    '''\n",
    "    Originally written by S. Peck and A. Mahmoud, Adapted for this project by S. Peck.\n",
    "    \n",
    "    PyTorchClassifier - Sebastian Peck, 12/1/2023\n",
    "    PyTorchClassifier is an sklearn-styled class to aid in\n",
    "    the classification of data using a pytorch neural network.\n",
    "    Initialization requires the device to run pytorch on,\n",
    "    number of input features, and number of classes.\n",
    "    \n",
    "    Updated 6/4/2024 - S. Peck\n",
    "    \n",
    "    '''\n",
    "    def __init__(self,\n",
    "                 device,\n",
    "                 n_features:int,\n",
    "                 out_features:int,\n",
    "                 nl_list:list=[5, 5, 5],\n",
    "                 activation_function=nn.ReLU(),\n",
    "                 loss_function=nn.CrossEntropyLoss(),\n",
    "                 n_epochs:int=1000,\n",
    "                 learning_rate:float=.1,\n",
    "                 random_state:int=42):\n",
    "        '''\n",
    "        initializing PyTorchClassifyer sets pytoch's random\n",
    "        seed and generates the loss function, optimizer,\n",
    "        and model of neural network based on passed parameters.\n",
    "        \n",
    "        Parameters:\n",
    "        device: the device running pytorch\n",
    "        n_features: number of features in data as int\n",
    "        out_features: number of classes in the data as int\n",
    "        nl_list: a list, with number of indexes as layers, \n",
    "                 and values representing neurons at that layer(as ints) Default = [5, 5, 5]\n",
    "        activation_function: the torch.nn activation function of choice. Default = ReLU()\n",
    "        loss_function: the torch.nn loss function of choice. Defualt = CrossEntropyLoss()\n",
    "        n_epochs: int of number of epochs to perform when training. Default= 1000\n",
    "        learning_rate: float representing learning rate. Defualt = .1\n",
    "        random_state: the random state to use. Default = 42\n",
    "\n",
    "        '''\n",
    "        \n",
    "        # Generate a string of the parameters\n",
    "        self._param_string = (str(device) +', '+ str(n_features) +', '+ str(out_features) +', '+ str(nl_list) +', '+ str(activation_function) +', '+str(loss_function)+', '+ str(n_epochs) +', '+ str(learning_rate) +', '+ str(random_state))\n",
    "        \n",
    "        # assign the random seed to pytorch\n",
    "        torch.manual_seed(random_state)\n",
    "        \n",
    "        # set the class variables\n",
    "        self.epochs = n_epochs\n",
    "        self.activation_function = activation_function\n",
    "        self.loss_function = loss_function\n",
    "        self.device = device\n",
    "        \n",
    "        # Generate the model using the local ClassifierNetwork class\n",
    "        self.model = (self.ClassifierNetwork(input_features=n_features,output_features=out_features,nl_list = nl_list, activation_function = self.activation_function)).to(device)\n",
    "        \n",
    "        # Optimize the model using SGD\n",
    "        self.optimizer = torch.optim.SGD(params = self.model.parameters(), lr=learning_rate)\n",
    "        \n",
    "\n",
    "    \n",
    "    def train_model(self, dataloader, epochs=None):\n",
    "        if type(epochs) == type(None):epochs=self.epochs\n",
    "        '''\n",
    "        train_model takes in a torch formatted dataset of features,\n",
    "        and the corresponding torch formatted dataset of classes,\n",
    "        and trains the current model version on that data.\n",
    "        \n",
    "        Parameters:\n",
    "        dataloader: a TensorDataset DataLoader object containing the data to be processed.\n",
    "        epochs: an int representing number of epochs to train this dataset. Default is the passed epochs when creating the model.\n",
    "        \n",
    "        Returns:\n",
    "        The trained model.\n",
    "        '''\n",
    "        \n",
    "        # Set up the model to train\n",
    "        self.model.train()\n",
    "        \n",
    "        # repeat for every epoch\n",
    "        for epoch in range(epochs):\n",
    "            \n",
    "            \n",
    "            # load a subset from the dataloader\n",
    "            for i, (x, y) in enumerate(dataloader):\n",
    "                \n",
    "                # generate the features and classes\n",
    "                features, classes = x.to(self.device), y.to(self.device)\n",
    "\n",
    "                # Forward Pass - pass the features and\n",
    "                # convert to class logits\n",
    "                class_logits = self.model(features)\n",
    "\n",
    "                # Convert the logits to probabilities to labels using softmax\n",
    "                class_predictions = torch.softmax(class_logits, dim=1).argmax(dim=1)\n",
    "\n",
    "                # Calculate loss\n",
    "                # passing the logits and the training classes\n",
    "                loss = self.loss_function(class_logits, classes)\n",
    "\n",
    "                # Reset the optimizer gradient\n",
    "                self.optimizer.zero_grad()\n",
    "\n",
    "                # set backwards loss training\n",
    "                loss.backward()\n",
    "\n",
    "                # step the optimizer by one\n",
    "                self.optimizer.step()\n",
    "            print(\"{}  {}/{}         \".format(percenttobar(epoch/epochs), epoch, epochs), end=\"\\r\")\n",
    "            \n",
    "        # return the model\n",
    "        return self.model\n",
    "    \n",
    "    \n",
    "    def save_model_state(self, path, filename):\n",
    "        '''\n",
    "        save_model saves the model state to the given path.\n",
    "        \n",
    "        Parameters:\n",
    "        path: path, as str, to the save location directory, must end with '/'\n",
    "        filename: name of the file to be saved, as str\n",
    "        \n",
    "        Returns:\n",
    "        path to saved file, as str\n",
    "        '''\n",
    "        \n",
    "        save_path_str = '{}{}.pt'.format(path, filename)\n",
    "        torch.save(self.model.state_dict(), save_path_str)\n",
    "        \n",
    "        return save_path_str\n",
    "    \n",
    "    \n",
    "    def load_model_state(self, path):\n",
    "        '''\n",
    "        load_model_state loads the model state from a given path.\n",
    "        \n",
    "        Parameters:\n",
    "        path: Path, as str, to the saved parameters file\n",
    "        \n",
    "        Returns:\n",
    "        the loaded model, in evaluation state\n",
    "        '''\n",
    "        \n",
    "        # load the model from the path\n",
    "        self.model.load_state_dict(torch.load(path))\n",
    "\n",
    "        # set the model into evaluation mode\n",
    "        self.model.eval()\n",
    "        \n",
    "        # return the model\n",
    "        return self.model\n",
    "            \n",
    "    \n",
    "    def accuracy_score(self, y_true, y_pred):\n",
    "        '''\n",
    "        accuracy_score takes in two torch tensors of true and predicted values\n",
    "        and returns the accuracy as a percentage fraction.\n",
    "        \n",
    "        Parameters:\n",
    "        y_true: pytorch tensor of LongTensors representing classes of each point\n",
    "        y_pred: pytorch tesnor of Longtensors representing predicted classses of each point\n",
    "        \n",
    "        Returns:\n",
    "        the accuracy fraction\n",
    "        '''\n",
    "        \n",
    "        # get number of the true predicted values to get the valid ones using torch.eq()\n",
    "        valid = torch.eq(y_true, y_pred).sum().item()\n",
    "        \n",
    "        # Generate the precentage fraction\n",
    "        acc = (valid/len(y_pred))\n",
    "        \n",
    "        # return the accuracy\n",
    "        return acc\n",
    "    \n",
    "    \n",
    "    def test_model(self, features, classes):\n",
    "        '''\n",
    "        test_model takes in a set of features and corresponding classes to\n",
    "        test how the model performs with that dataset.\n",
    "        \n",
    "        Parameters:\n",
    "        features: a pytorch tensor of floats representing the data for each feature\n",
    "        classes: a pytorch tensor of LongTensors representing the classes for each point\n",
    "        \n",
    "        Returns:\n",
    "        a touple containing the loss and the accuracy.\n",
    "        \n",
    "        '''\n",
    "        \n",
    "        # generate the logit values from the model by passing the test features\n",
    "        test_logits = self.model(features)\n",
    "        \n",
    "        # generate the predictions using torch.softmax() and the test logits\n",
    "        test_predictions = torch.softmax(test_logits, dim=1).argmax(dim=1)\n",
    "        \n",
    "        # Generate the loss using the class's loss function\n",
    "        test_loss = self.loss_function(test_logits,\n",
    "                                       classes)\n",
    "        \n",
    "        # Generate the accuracy score using the class accuracy score function\n",
    "        test_acc = self.accuracy_score(classes,\n",
    "                                       test_predictions)\n",
    "        \n",
    "        # Generate a string to hold the results for pretty-printing if needed\n",
    "        #results = \"Loss: {}, Accuracy Score: {}\".format(test_loss, test_acc)\n",
    "        #print(results)\n",
    "        \n",
    "        # return a touple of the loss value and the test accuracy.\n",
    "        return (test_loss.item(), test_acc)\n",
    "    \n",
    "        \n",
    "    class ClassifierNetwork(nn.Module):\n",
    "        '''\n",
    "        ClassifierNetwork is a subclass of the Pytorch nn.Module,\n",
    "        which is meant to be used as a classifier.\n",
    "        '''\n",
    "        def __init__(self,\n",
    "                     input_features:int,\n",
    "                     output_features:int,\n",
    "                     nl_list:list=[5, 5, 5],\n",
    "                     activation_function=nn.ReLU()):\n",
    "            '''\n",
    "            Extends nn.Module.\n",
    "            \n",
    "            initializer sets up the model stack in sequential order according to the passed parameters.\n",
    "            Uses linear layer stack of linear nn layers.\n",
    "            \n",
    "            Parameters:\n",
    "            input_features: an int representing the number of features in the dataset\n",
    "            output_features: an int representing the number of classes in the dataset\n",
    "            nl_list: list representing number of neurons per layer,\n",
    "                     with n indexes as the number of layers, Default = [5, 5, 5]\n",
    "            activation_function: activation function of choice between layers. Default=nn.ReLU()\n",
    "            \n",
    "            Returns:\n",
    "            N/A\n",
    "            '''\n",
    "            \n",
    "            # Initialize the superclass\n",
    "            super().__init__()\n",
    "            \n",
    "            # generate the starting neurons as the first index in the list\n",
    "            starting_neurons = nl_list[0]\n",
    "            \n",
    "            # set up a sequential stack\n",
    "            self.linear_layer_stack = nn.Sequential()\n",
    "            \n",
    "            # add the first layer where the input features is the first number of neurons, and the output features are the starting neurons\n",
    "            self.linear_layer_stack.append(nn.Linear(in_features = input_features, out_features = starting_neurons))\n",
    "            \n",
    "            \n",
    "            # loop through each layer of the nl_list.\n",
    "            for i in range(len(nl_list)-1):\n",
    "                \n",
    "                # append the activation function to the linear layer stack\n",
    "                self.linear_layer_stack.append(activation_function)\n",
    "                \n",
    "                # check if the index is the last layer\n",
    "                if (i == (len(nl_list)-2)):\n",
    "                    \n",
    "                    # if so, append the final layer with the number of target output features.\n",
    "                    self.linear_layer_stack.append(nn.Linear(in_features=nl_list[i], out_features = output_features))\n",
    "                else:\n",
    "                    # otherwise, append a new layer where the input features is the current index in the nl_list, and the subsequent is the next.\n",
    "                    self.linear_layer_stack.append(nn.Linear(in_features=nl_list[i], out_features = nl_list[i+1]))\n",
    "\n",
    "\n",
    "        def forward(self, x):\n",
    "            '''\n",
    "            forward takes in a set of features and applies it to the linear layer stack.\n",
    "            \n",
    "            Paramters:\n",
    "            x: set of features. \n",
    "            \n",
    "            Returns:\n",
    "            the linear layer stack with the passed features.\n",
    "            '''\n",
    "            return self.linear_layer_stack(x)\n",
    "        \n",
    "        \n",
    "    def __str__(self):\n",
    "        '''\n",
    "        export self as string.\n",
    "        '''\n",
    "        return self._param_string"
   ]
  },
  {
   "cell_type": "markdown",
   "id": "8522456c-32c9-45ef-a003-dd4812aa9494",
   "metadata": {
    "tags": []
   },
   "source": [
    "### Importing the data\n",
    "The data can come in either as Json files or parquet files. If the files are Json files, they will need to have their features extracted. Likewise, if they are parquets, you need to know their batching. For this model, we are merging all reads per reference sequence ot one set of consensus features per reference, from existing parquet files."
   ]
  },
  {
   "cell_type": "markdown",
   "id": "0792665f-1903-471b-aec6-e590970b32c2",
   "metadata": {
    "tags": []
   },
   "source": [
    "#### Json-To-Parquet:"
   ]
  },
  {
   "cell_type": "code",
   "execution_count": 5,
   "id": "2f848676-2270-4cce-a847-763bd2ff8c7c",
   "metadata": {
    "tags": []
   },
   "outputs": [],
   "source": [
    "def yoink_features(json_file,json_dir, singlet_consensus_dir, extracted_features):\n",
    "    # THIS CODE IS PRESENTLY BAD AS IT REFERENCES GLOBAL item JSON_DIR\n",
    "    if \"{}.parquet\".format(json_file) not in extracted_features:\n",
    "        json_file_path = json_dir + json_file\n",
    "        fe.feature_extraction(json_file_path).to_parquet(singlet_consensus_dir+\"{}.parquet\".format(json_file))\n",
    "\n",
    "def json_to_singlets(json_dir, singlet_consensus_dir, batch_size=15):\n",
    "    # List the files in the json directory\n",
    "    json_files = os.listdir(json_dir)\n",
    "\n",
    "    # get the files in the extracted features directory\n",
    "    extracted_features = os.listdir(singlet_consensus_dir)\n",
    "\n",
    "    # generate an empty list for read features\n",
    "    feature_read_list = []\n",
    "\n",
    "    # get the last time \n",
    "    last_time = datetime.datetime.now()\n",
    "\n",
    "    # Get the batches of json files in the directory\n",
    "    batched_json = [json_files[i:i+batch_size] for i in range(0, len(json_files), batch_size)]\n",
    "\n",
    "        \n",
    "    # set up dummy to hold run duration      \n",
    "    dur = 0\n",
    "\n",
    "    # loop through each batch in the batched json files\n",
    "    for i in range(len(batched_json)):\n",
    "\n",
    "        # get the batch of json files\n",
    "        json_batch = batched_json[i]\n",
    "        \n",
    "        j = []\n",
    "        s = []\n",
    "        e = []\n",
    "        for item in json_batch:\n",
    "            j.append(json_dir)\n",
    "            s.append(singlet_consensus_dir)\n",
    "            e.append(extracted_features)\n",
    " \n",
    "        zip_batch = list(zip(json_batch, j, s, e))\n",
    "\n",
    "        # setup a multiprocessing pool matching the batch size\n",
    "        with multiprocessing.Pool(batch_size) as pool:\n",
    "\n",
    "            # run feature extraction on the json files in the pool using yoink_features\n",
    "            feature_read_list.extend(pool.starmap(yoink_features, zip_batch))\n",
    "\n",
    "        # Get the time estimate and duration\n",
    "        time = datetime.datetime.now()\n",
    "        dt = (time-last_time).total_seconds()\n",
    "        dur += dt\n",
    "        mean_time = dur/(i+1)\n",
    "        est_time = datetime.timedelta(seconds = mean_time*len(batched_json))\n",
    "        last_time=time\n",
    "\n",
    "        # print an update on progress\n",
    "        print(percenttobar(i*batch_size/len(json_files)) + \"{}/{}   est_time:{} | {}\".format(i*batch_size, len(json_files), est_time, datetime.timedelta(seconds=dur)),end='\\r')\n",
    "    print(percenttobar(1))"
   ]
  },
  {
   "cell_type": "code",
   "execution_count": null,
   "id": "69b8a628-9646-4466-aecc-c305cc0b668c",
   "metadata": {
    "tags": []
   },
   "outputs": [],
   "source": [
    "json_to_singlets(json_dir, singlet_consensus_dir, 20)"
   ]
  },
  {
   "cell_type": "code",
   "execution_count": 6,
   "id": "dcdb7acd-40b3-49db-9036-38ae5f9c3c9a",
   "metadata": {},
   "outputs": [],
   "source": [
    "def get_features_from_singlets(singlet_consensus_dir):\n",
    "    '''\n",
    "    get_features_from_singlets takes in a singlet consensus directory,\n",
    "    and then returns a list of dataframes of each reference sequence's consensus features.\n",
    "    Parameters:\n",
    "    singlet_consensus_dir: directory to all singlet consensus feature parquet files\n",
    "    \n",
    "    Returns:\n",
    "    List of dataframes, with ecach index being a different reference sequence\n",
    "    '''\n",
    "    \n",
    "    \n",
    "    # get the extracted features in the directory\n",
    "    extracted_features = os.listdir(singlet_consensus_dir)\n",
    "    \n",
    "    # generate an empty list to contain the features\n",
    "    feature_read_list = []\n",
    "    \n",
    "    # loop through all the extracted feature files\n",
    "    for i in range(len(extracted_features)):\n",
    "        \n",
    "        # append the parquet file to the feature read list after reading it using pandas\n",
    "        feature_read_list.append(pd.read_parquet(singlet_consensus_dir+ extracted_features[i]))\n",
    "        \n",
    "        # print the progress\n",
    "        print(percenttobar(i/len(extracted_features)) + \"{}/{}     \".format(i, len(extracted_features)),end='\\r')\n",
    "    print(percenttobar(1))\n",
    "        \n",
    "    # return the features list\n",
    "    return feature_read_list"
   ]
  },
  {
   "cell_type": "code",
   "execution_count": 7,
   "id": "3b21a7b3-d96d-4166-8390-0783bc5470bc",
   "metadata": {},
   "outputs": [
    {
     "name": "stdout",
     "output_type": "stream",
     "text": [
      "|====================|  100%                   8191/8192     \n"
     ]
    }
   ],
   "source": [
    "feature_read_list = get_features_from_singlets(singlet_consensus_dir)"
   ]
  },
  {
   "cell_type": "code",
   "execution_count": 8,
   "id": "71db00f6-4a2a-4233-9ab7-b1c85b599efa",
   "metadata": {},
   "outputs": [],
   "source": [
    "raw_df= pd.concat(feature_read_list[10:])\n",
    "n_bases = len(raw_df['XNA_PRESENT'])\n",
    "n_xna = len(raw_df[raw_df['XNA_PRESENT'] == 1])\n",
    "weights = torch.tensor([(1-((n_bases-n_xna)/(n_bases))), (1-(n_xna/(n_bases)))]).type(torch.float).to(device)"
   ]
  },
  {
   "cell_type": "markdown",
   "id": "ae9220ad-177e-4ad3-8e4d-59bf5b0830ae",
   "metadata": {
    "tags": []
   },
   "source": [
    "### Generating a model for XNA windows\n",
    "The following is designed to setup a model to identify windows of potential interest for XNA."
   ]
  },
  {
   "cell_type": "markdown",
   "id": "f58219e9-9e75-4423-bfa4-b12cf69032c5",
   "metadata": {},
   "source": [
    "#### Feature Extraction"
   ]
  },
  {
   "cell_type": "code",
   "execution_count": 11,
   "id": "c7c0feb0-457b-45e6-b7e7-92ade95bcffe",
   "metadata": {},
   "outputs": [],
   "source": [
    "def extract_training_dataframe(feature_read_list, window_size, n_strands_excluded = 10):\n",
    "    \n",
    "    # get the nmer window\n",
    "    nmer_dim = window_size*2 + 1\n",
    "    \n",
    "    # generate empty list for windowed parameters\n",
    "    windowed_params = []\n",
    "    \n",
    "    ind = 0\n",
    "    # for eacah strand in the subset of strands we care about,\n",
    "    for strand_features in feature_read_list[n_strands_excluded:]:\n",
    "        \n",
    "        # loop twice as many items as windows would fit in the strand\n",
    "        for i in range(int(len(strand_features)/nmer_dim)*2):\n",
    "            \n",
    "            # generate a random base position in the strand\n",
    "            random_base_pos = random.randrange(window_size, len(strand_features)-window_size-1, 1)\n",
    "            \n",
    "            # get the upper and lower indexes for the base window\n",
    "            upper = random_base_pos + window_size + 1\n",
    "            lower = random_base_pos - window_size\n",
    "            \n",
    "            # get the subset of the bases in the strand corresponding to the window\n",
    "            strand_features_subset = strand_features[lower:upper]\n",
    "            \n",
    "            #check if xna is present in the subset\n",
    "            xna_present = len(strand_features_subset[strand_features_subset['XNA_PRESENT'] > 0].index.tolist())>0\n",
    "            \n",
    "            # get the features for the xna window\n",
    "            features_2d = strand_features_subset.loc[:, strand_features_subset.columns != 'XNA_PRESENT']\n",
    "            \n",
    "            # convert to a long 1d array of features for each base in the window\n",
    "            features_long = [x for xs in features_2d.values for x in xs]\n",
    "            \n",
    "            # append the features and xna_present to the windowed_praams list\n",
    "            windowed_params.append({'XNA_PRESENT': int(xna_present), 'window_features':features_long})\n",
    "        ind += 1\n",
    "        print(percenttobar(ind/len(feature_read_list[n_strands_excluded:])) + \"{}/{}     \".format(ind, len(feature_read_list[n_strands_excluded:])),end='\\r')\n",
    "    print(percenttobar(1))\n",
    "        \n",
    "    \n",
    "    # generate a dataframe of the windowed params\n",
    "    window_df = pd.DataFrame(windowed_params)\n",
    "    \n",
    "    # get the features of the windowed_dataframe\n",
    "    window_df_features = pd.DataFrame.from_dict(dict(zip(window_df['window_features'].index, window_df['window_features'].values))).T\n",
    "    \n",
    "    # make a column where the XNA is present and reset to window_df\n",
    "    window_df_features['XNA_PRESENT'] = window_df['XNA_PRESENT']\n",
    "    window_df= window_df_features\n",
    "    \n",
    "    # Get all the windows that have an XNA\n",
    "    xna_windows = window_df[window_df['XNA_PRESENT'] == 1]\n",
    "    \n",
    "    # Get all the windows without XNA\n",
    "    rand_windows = window_df[window_df['XNA_PRESENT'] == 0]#.sample(n=len(xna_windows), random_state=0)\n",
    "    \n",
    "    # combine into a single dataframe\n",
    "    training_df = pd.concat([xna_windows, rand_windows]).reset_index(drop=True)\n",
    "    \n",
    "    return training_df"
   ]
  },
  {
   "cell_type": "code",
   "execution_count": 10,
   "id": "c78f90ca-00cf-46ef-8844-809964c1df08",
   "metadata": {},
   "outputs": [
    {
     "name": "stdout",
     "output_type": "stream",
     "text": [
      "|====================|  100%                  37/8182      \n"
     ]
    }
   ],
   "source": [
    "training_df = extract_training_dataframe(feature_read_list, 3, 10)"
   ]
  },
  {
   "cell_type": "code",
   "execution_count": 12,
   "id": "671fd7cd-6658-45be-9fe6-e94c5796c45a",
   "metadata": {
    "tags": []
   },
   "outputs": [],
   "source": [
    "def plot_component_explained_variance(component_range, scaled_features):\n",
    "    '''\n",
    "    plot_component_explained_variances generates plots of the explained variance as\n",
    "    a function of PCA components by using find_pca_components.\n",
    "    \n",
    "    Parameters:\n",
    "    Component_range: max number of components to examine.\n",
    "    scaled_features: features that have been scaled with standardscaler\n",
    "    \n",
    "    Returns:\n",
    "    N/A\n",
    "    '''\n",
    "\n",
    "    component_list = list(np.arange(1,component_range, 1))\n",
    "    explained_variances = find_pca_components(component_list, scaled_features)\n",
    "\n",
    "    dy = np.diff(explained_variances)\n",
    "    dx = np.diff(component_list)\n",
    "\n",
    "    deriv = dy/dx\n",
    "    fig, ax = plt.subplots(1,2, figsize = (10,5))\n",
    "    ax[0].plot(component_list, explained_variances)\n",
    "    ax[0].grid()\n",
    "    ax[0].set_title('Total Explained Variance Ratio vs n_components')\n",
    "    ax[0].set_xlabel('n_components')\n",
    "    ax[0].set_ylabel('Total Explained Variance Ratio')\n",
    "    ax[1].plot(component_list[1:], dy/dx)\n",
    "    ax[1].grid()\n",
    "    ax[1].set_title('Rate of change of EV vs n_components')\n",
    "    ax[1].set_xlabel('n_components')\n",
    "    ax[1].set_ylabel('Rate of Change of EV Ratio')\n",
    "    print()"
   ]
  },
  {
   "cell_type": "code",
   "execution_count": 13,
   "id": "32e4167b-a95b-4967-b346-ac87642703e7",
   "metadata": {
    "tags": []
   },
   "outputs": [],
   "source": [
    "features = training_df.loc[:, training_df.columns != 'XNA_PRESENT']\n",
    "labels = training_df['XNA_PRESENT']\n",
    "\n",
    "scaler = StandardScaler()\n",
    "\n",
    "scaled_features = features.copy()\n",
    "scaled_features = pd.DataFrame(scaler.fit_transform(scaled_features))"
   ]
  },
  {
   "cell_type": "code",
   "execution_count": null,
   "id": "388bd14b-926e-4108-92d8-ef05e98666ec",
   "metadata": {},
   "outputs": [],
   "source": [
    "#plot_component_explained_variance(50, scaled_features)"
   ]
  },
  {
   "cell_type": "markdown",
   "id": "f2acd7f3-70f5-41ea-b34e-818678b12db8",
   "metadata": {
    "tags": []
   },
   "source": [
    "From this, we can then generate an ideal PCA that maximizes EVR and minimizes components."
   ]
  },
  {
   "cell_type": "code",
   "execution_count": 14,
   "id": "6609f9d7-cdfe-4ca4-8427-be2803ae5fc9",
   "metadata": {},
   "outputs": [
    {
     "name": "stdout",
     "output_type": "stream",
     "text": [
      "Component Variance Ratio:  [0.08551858 0.06974055 0.05454175 0.04535495 0.04469373 0.04261305\n",
      " 0.03762059 0.03371472 0.0321609  0.0317582  0.03150415 0.03119837\n",
      " 0.03044408 0.02960296 0.02773897 0.02731649 0.02632434 0.02424923\n",
      " 0.02175151 0.01744437 0.01567401 0.01425973 0.01380025 0.01185548\n",
      " 0.01093938 0.01029546]\n",
      "Total Explained Variance Ratio:  0.8221158094817365\n"
     ]
    }
   ],
   "source": [
    "# Set the number of components\n",
    "comp = 26\n",
    "\n",
    "# generate PCA\n",
    "pca = PCA(n_components = comp, random_state=GLOBAL_RANDOM_STATE)\n",
    "\n",
    "# fit the scaled features to the pca\n",
    "pca.fit(scaled_features)\n",
    "\n",
    "# transform the features with pca\n",
    "x_pca = pca.transform(scaled_features)\n",
    "\n",
    "# get the explained variance ratios\n",
    "evrs = pca.explained_variance_ratio_\n",
    "\n",
    "# get the PCA datagrame\n",
    "pca_df = pd.DataFrame(x_pca)\n",
    "\n",
    "#reset the index of labels. Not sure why i have this here.\n",
    "labels.reset_index(drop=True)\n",
    "\n",
    "# split the pca features and labels to train-test, size 30%\n",
    "x_tr, x_te, y_tr, y_te = train_test_split(pca_df,\n",
    "                                          labels,\n",
    "                                          test_size=0.0012207,\n",
    "                                          random_state = GLOBAL_RANDOM_STATE)\n",
    "\n",
    "print(\"Component Variance Ratio: \", evrs)\n",
    "print(\"Total Explained Variance Ratio: \", evrs.sum())"
   ]
  },
  {
   "cell_type": "code",
   "execution_count": 17,
   "id": "b728254c-5bd0-4430-a86b-19321e654b46",
   "metadata": {},
   "outputs": [],
   "source": [
    "# set up the model \n",
    "\n",
    "# Convert training data to tensors\n",
    "tr_x_tensor = torch.tensor(x_tr.values).type(torch.float)\n",
    "tr_y_tensor = torch.tensor(np.asarray(y_tr)).type(torch.LongTensor)\n",
    "\n",
    "# generate the dataloader\n",
    "training_dataset = torch.utils.data.TensorDataset(tr_x_tensor, tr_y_tensor)\n",
    "training_dataloader = torch.utils.data.DataLoader(training_dataset, batch_size = int(len(tr_x_tensor)/4), shuffle=True)\n",
    "\n",
    "# Convert testing data to tensors\n",
    "te_x_tensor = torch.tensor(x_te.values).type(torch.float).to(device)\n",
    "te_y_tensor = torch.tensor(np.asarray(y_te)).type(torch.LongTensor).to(device)\n",
    "\n",
    "# PARAMS FOR 7-mer:\n",
    "# number of features\n",
    "feature_num = tr_x_tensor.shape[1]\n",
    "out_features = 2\n",
    "epochs = 1000\n",
    "l_rate = .01\n",
    "rs=42\n",
    "nl_list = [52, 2704, 55, 10]\n",
    "loss_fxn = nn.CrossEntropyLoss()\n",
    "actv_fxn = nn.Tanh()\n",
    "\n",
    "# generate the window model. \n",
    "window_model = PyTorchClassifier(device=device,\n",
    "                            n_features = feature_num,\n",
    "                            out_features = out_features,\n",
    "                            nl_list = nl_list,\n",
    "                            activation_function = actv_fxn,\n",
    "                            loss_function = loss_fxn,\n",
    "                            n_epochs=epochs,\n",
    "                            learning_rate=l_rate,\n",
    "                            random_state=rs)\n"
   ]
  },
  {
   "cell_type": "code",
   "execution_count": 18,
   "id": "909a8392-ded8-4c8e-94b6-d65a163fe542",
   "metadata": {
    "tags": []
   },
   "outputs": [],
   "source": [
    "torch.cuda.memory_summary(device=None, abbreviated=False)\n",
    "torch.cuda.empty_cache()"
   ]
  },
  {
   "cell_type": "code",
   "execution_count": 19,
   "id": "f81a95ab-e225-40eb-9c56-89522176cb0c",
   "metadata": {
    "tags": []
   },
   "outputs": [
    {
     "name": "stdout",
     "output_type": "stream",
     "text": [
      "|=================== |  99.9%                  999/1000         \r"
     ]
    }
   ],
   "source": [
    "window_model.train_model(training_dataloader)\n",
    "\n",
    "torch.cuda.memory_summary(device=None, abbreviated=False)\n",
    "torch.cuda.empty_cache()"
   ]
  },
  {
   "cell_type": "code",
   "execution_count": 20,
   "id": "d509217a-5b56-43d2-a656-c02fb77e6d25",
   "metadata": {},
   "outputs": [
    {
     "name": "stdout",
     "output_type": "stream",
     "text": [
      "Training: 0, Testing: 1.0\n"
     ]
    },
    {
     "data": {
      "image/png": "[encoded data removed]",
      "text/plain": [
       "<Figure size 250x200 with 2 Axes>"
      ]
     },
     "metadata": {},
     "output_type": "display_data"
    }
   ],
   "source": [
    "# get and report the loss and accuracies.\n",
    "train_loss, train_acc = 0, 0 #window_model.test_model(tr_x_tensor.to('cpu'), tr_y_tensor.to('))\n",
    "test_loss, test_acc = window_model.test_model(te_x_tensor, te_y_tensor)\n",
    "\n",
    "print(\"Training: {}, Testing: {}\".format(train_acc, test_acc))\n",
    "# generate a confusion matrix for the overall model. \n",
    "cm = confusion_matrix(te_y_tensor.tolist(), torch.softmax(window_model.model(torch.tensor(x_te.values).type(torch.float).to(device)), dim=1).argmax(dim=1).tolist())\n",
    "fig, ax = plt.subplots(1, figsize=(2.5, 2))\n",
    "sns.heatmap(cm, annot=True, fmt='g', ax=ax)\n",
    "ax.set_xlabel(\"Predicted Labels\")\n",
    "ax.set_ylabel(\"True Labels\")\n",
    "ax.set_title(\"Confusion Matrix\")\n",
    "plt.show()"
   ]
  },
  {
   "cell_type": "code",
   "execution_count": 21,
   "id": "246ad709-72d5-4971-9053-821c6ee81cca",
   "metadata": {},
   "outputs": [
    {
     "name": "stdout",
     "output_type": "stream",
     "text": [
      "[(63, 70), (70, 77)]\n"
     ]
    },
    {
     "data": {
      "image/png": "[encoded data removed]",
      "text/plain": [
       "<Figure size 250x200 with 2 Axes>"
      ]
     },
     "metadata": {},
     "output_type": "display_data"
    },
    {
     "name": "stdout",
     "output_type": "stream",
     "text": [
      "[(63, 70), (77, 84)]\n"
     ]
    },
    {
     "data": {
      "image/png": "[encoded data removed]",
      "text/plain": [
       "<Figure size 250x200 with 2 Axes>"
      ]
     },
     "metadata": {},
     "output_type": "display_data"
    },
    {
     "name": "stdout",
     "output_type": "stream",
     "text": [
      "[(63, 70)]\n"
     ]
    },
    {
     "data": {
      "image/png": "[encoded data removed]",
      "text/plain": [
       "<Figure size 250x200 with 2 Axes>"
      ]
     },
     "metadata": {},
     "output_type": "display_data"
    },
    {
     "name": "stdout",
     "output_type": "stream",
     "text": [
      "[(84, 91)]\n"
     ]
    },
    {
     "data": {
      "image/png": "[encoded data removed]",
      "text/plain": [
       "<Figure size 250x200 with 2 Axes>"
      ]
     },
     "metadata": {},
     "output_type": "display_data"
    },
    {
     "name": "stdout",
     "output_type": "stream",
     "text": [
      "[(42, 49), (63, 70)]\n"
     ]
    },
    {
     "data": {
      "image/png": "[encoded data removed]",
      "text/plain": [
       "<Figure size 250x200 with 2 Axes>"
      ]
     },
     "metadata": {},
     "output_type": "display_data"
    },
    {
     "name": "stdout",
     "output_type": "stream",
     "text": [
      "[(63, 70), (77, 84), (84, 91)]\n"
     ]
    },
    {
     "data": {
      "image/png": "[encoded data removed]",
      "text/plain": [
       "<Figure size 250x200 with 2 Axes>"
      ]
     },
     "metadata": {},
     "output_type": "display_data"
    },
    {
     "name": "stdout",
     "output_type": "stream",
     "text": [
      "[(63, 70)]\n"
     ]
    },
    {
     "data": {
      "image/png": "[encoded data removed]",
      "text/plain": [
       "<Figure size 250x200 with 2 Axes>"
      ]
     },
     "metadata": {},
     "output_type": "display_data"
    },
    {
     "name": "stdout",
     "output_type": "stream",
     "text": [
      "[(63, 70)]\n"
     ]
    },
    {
     "data": {
      "image/png": "[encoded data removed]",
      "text/plain": [
       "<Figure size 250x200 with 2 Axes>"
      ]
     },
     "metadata": {},
     "output_type": "display_data"
    },
    {
     "name": "stdout",
     "output_type": "stream",
     "text": [
      "[(63, 70)]\n"
     ]
    },
    {
     "data": {
      "image/png": "[encoded data removed]",
      "text/plain": [
       "<Figure size 250x200 with 2 Axes>"
      ]
     },
     "metadata": {},
     "output_type": "display_data"
    },
    {
     "name": "stdout",
     "output_type": "stream",
     "text": [
      "[(63, 70), (84, 91)]\n"
     ]
    },
    {
     "data": {
      "image/png": "[encoded data removed]",
      "text/plain": [
       "<Figure size 250x200 with 2 Axes>"
      ]
     },
     "metadata": {},
     "output_type": "display_data"
    }
   ],
   "source": [
    "# Generate an empty list to hold the number of windows classified.\n",
    "n_classified = []\n",
    "\n",
    "# for each of the first ten consensus strands.\n",
    "for j in range(10):\n",
    "    \n",
    "    test_consensus = feature_read_list[j]\n",
    "    # batch the bases into windows of size seven\n",
    "    base_windows= [test_consensus[i:int(i+window_size*2+1)] for i in range(0, len(test_consensus), int(window_size*2+1))]\n",
    "    \n",
    "    # set up lists for window classes and features\n",
    "    window_classes = []\n",
    "    window_features = []\n",
    "    \n",
    "    # for each window minus the potentially inconsistently sized one,\n",
    "    for base_window in base_windows[:-1]:\n",
    "        \n",
    "        # generate an empty list for the window's 1d features\n",
    "        window_sub_features = []\n",
    "        \n",
    "        # check if there's an XNA, append a 1 to the classes if so.\n",
    "        if len(base_window[base_window['XNA_PRESENT'] > 0]) > 0:\n",
    "            window_classes.append(1)\n",
    "        else:\n",
    "            window_classes.append(0)\n",
    "            \n",
    "        # loop through each base features, and extend the features to the 1d feature array\n",
    "        for base in base_window.drop(columns=['XNA_PRESENT']).values:\n",
    "            window_sub_features.extend(base)\n",
    "            \n",
    "        # append the window's 1d features to the list.\n",
    "        window_features.append(window_sub_features)\n",
    "    \n",
    "    \n",
    "    # Create a scaler for the window's features\n",
    "    scale = scaler.fit_transform(window_features)\n",
    "    \n",
    "    # generate the features and labels as tensors\n",
    "    strand_features = torch.tensor(pca.transform(scale)).type(torch.float).to(device)\n",
    "    strand_labels = torch.tensor(np.asarray(window_classes)).type(torch.LongTensor).to(device)\n",
    "    \n",
    "    # generate the logits of the model for the fiven features and labels\n",
    "    strand_logits = window_model.model(strand_features)\n",
    "\n",
    "    # get the predictions\n",
    "    strand_predictions = torch.softmax(strand_logits, dim=1).argmax(dim=1)\n",
    "    \n",
    "    # get the predictions list\n",
    "    predictions = strand_predictions.tolist()\n",
    "    \n",
    "    # get the true labels\n",
    "    trues = strand_labels.tolist()\n",
    "    \n",
    "    # get the predicted series\n",
    "    pred_series=pd.Series(predictions)\n",
    "\n",
    "    # generate a confusion matrix for the current strand for validation. \n",
    "    cm = confusion_matrix(trues, predictions)\n",
    "    fig, ax = plt.subplots(1, figsize=(2.5, 2))\n",
    "    sns.heatmap(cm, annot=True, fmt='g', ax=ax)\n",
    "    ax.set_xlabel(\"Predicted Labels\")\n",
    "    ax.set_ylabel(\"True Labels\")\n",
    "    ax.set_title(\"Confusion Matrix\")\n",
    "    \n",
    "    # print the window. \n",
    "    print(list(zip(np.asarray(pred_series[pred_series> 0].index.tolist())*(window_size*2+1), (np.asarray(pred_series[pred_series> 0].index.tolist())+1)*(window_size*2+1))))\n",
    "    plt.show()\n",
    "    n_classified.append(len(pred_series[pred_series> 0].index.tolist()))\n",
    "\n",
    "    "
   ]
  },
  {
   "cell_type": "code",
   "execution_count": 22,
   "id": "d270c6b6-8dae-4718-af95-b72fb80e9961",
   "metadata": {},
   "outputs": [],
   "source": [
    "# clear the cuda memory cache.\n",
    "torch.cuda.memory_summary(device=None, abbreviated=False)\n",
    "torch.cuda.empty_cache()"
   ]
  },
  {
   "cell_type": "markdown",
   "id": "e20c0837-e472-4ee4-9beb-85fee6ca2b0c",
   "metadata": {
    "tags": []
   },
   "source": [
    "### Generating a model for bases in XNA window\n",
    "The following is designed to set up a model for the XNA within a window to differentiate once a window has been found. "
   ]
  },
  {
   "cell_type": "code",
   "execution_count": 24,
   "id": "446da77a-b128-4d9f-a0b8-ad9fae859d66",
   "metadata": {},
   "outputs": [],
   "source": [
    "def generate_xna_window_data(feature_read_list, nmer_dim=7, n_strands_excluded = 10):\n",
    "    '''\n",
    "    generate_xna_window_data is designed to extract the features of all the surrounding bases\n",
    "    of an xna given a defined window.\n",
    "    \n",
    "    Parameters:\n",
    "    feature_read_list: a list of pandas dataframes that have the strands and their features\n",
    "    nmer_dim: the window size, (number of bases on each side of the xna + 1), Default = 7\n",
    "    n_strands_excluded: number of strands excluded from the data extraction. Default = 10\n",
    "    \n",
    "    Returns:\n",
    "    pandas dataframe containing the features of all the bases in each window and their classes\n",
    "    '''\n",
    "    # generate empty list to hold xna windows\n",
    "    xna_windows = []\n",
    "    \n",
    "    # loop throuch each strand\n",
    "    for strand_features in feature_read_list[n_strands_excluded:]:\n",
    "\n",
    "        # get the xna base position in the strand\n",
    "        xna_base_pos = strand_features[strand_features['XNA_PRESENT'] > 0].index[0]\n",
    "        \n",
    "        # get the upper and lower bounds of the window\n",
    "        upper_bound = xna_base_pos + nmer_dim\n",
    "        lower_bound = xna_base_pos - nmer_dim +1\n",
    "        \n",
    "        # get all the bases within that band\n",
    "        xna_windows.append(strand_features[lower_bound:upper_bound])\n",
    "\n",
    "    # generate a dataframe of the extracted bases\n",
    "    base_training_df = pd.concat(xna_windows).reset_index(drop=True)\n",
    "    \n",
    "    return base_training_df"
   ]
  },
  {
   "cell_type": "code",
   "execution_count": 25,
   "id": "8a0ab215-525b-4129-ae3f-2481f1fbd227",
   "metadata": {},
   "outputs": [],
   "source": [
    "base_training_df = generate_xna_window_data(feature_read_list, 7, 10)"
   ]
  },
  {
   "cell_type": "code",
   "execution_count": 26,
   "id": "b0ea976b-ca02-4446-a81b-23ca8f7fcac5",
   "metadata": {},
   "outputs": [
    {
     "name": "stdout",
     "output_type": "stream",
     "text": [
      "\n"
     ]
    },
    {
     "data": {
      "image/png": "[encoded data removed]",
      "text/plain": [
       "<Figure size 1000x500 with 2 Axes>"
      ]
     },
     "metadata": {},
     "output_type": "display_data"
    }
   ],
   "source": [
    "base_features = base_training_df.loc[:, base_training_df.columns != 'XNA_PRESENT']\n",
    "base_labels = base_training_df['XNA_PRESENT']\n",
    "\n",
    "base_scaler = StandardScaler()\n",
    "\n",
    "base_scaled_features = base_features.copy()\n",
    "base_scaled_features = pd.DataFrame(base_scaler.fit_transform(base_scaled_features))\n",
    "\n",
    "plot_component_explained_variance(50, base_scaled_features)"
   ]
  },
  {
   "cell_type": "code",
   "execution_count": 49,
   "id": "43e83dbe-ddc8-4daa-8866-da8fdcb89465",
   "metadata": {},
   "outputs": [
    {
     "name": "stdout",
     "output_type": "stream",
     "text": [
      "Component Variance Ratio:  [0.22511597 0.21363884 0.15801183 0.13262176 0.06456327 0.05728398\n",
      " 0.02815344 0.02484894 0.0190258  0.01757004 0.01476555 0.01157436\n",
      " 0.00775448 0.00568941 0.00495749 0.00455378 0.00321642 0.00125807\n",
      " 0.00106606 0.00086886 0.00078644 0.00068264]\n",
      "Total Explained Variance Ratio:  0.9980074208734013\n"
     ]
    }
   ],
   "source": [
    "b_pca = PCA(n_components = 22, random_state=GLOBAL_RANDOM_STATE)\n",
    "b_pca.fit(base_scaled_features)\n",
    "b_x_pca = b_pca.transform(base_scaled_features)\n",
    "b_evrs = b_pca.explained_variance_ratio_\n",
    "\n",
    "base_labels.reset_index(drop=True)\n",
    "\n",
    "print(\"Component Variance Ratio: \", b_evrs)\n",
    "print(\"Total Explained Variance Ratio: \", b_evrs.sum())\n",
    "\n",
    "b_pca_df = pd.DataFrame(b_x_pca)\n",
    "base_labels.reset_index(drop=True)\n",
    "b_x_tr, b_x_te, b_y_tr, b_y_te = train_test_split(b_pca_df,\n",
    "                                          base_labels,\n",
    "                                          test_size=.3,\n",
    "                                          random_state = GLOBAL_RANDOM_STATE)"
   ]
  },
  {
   "cell_type": "code",
   "execution_count": 51,
   "id": "b2db159c-57de-44ca-be2a-b2082cbe37c9",
   "metadata": {},
   "outputs": [],
   "source": [
    "# Convert training data to tensors\n",
    "tr_x_tensor = torch.tensor(b_x_tr.values).type(torch.float)\n",
    "tr_y_tensor = torch.tensor(np.asarray(b_y_tr)).type(torch.LongTensor)\n",
    "\n",
    "# generate the dataloader\n",
    "training_dataset = torch.utils.data.TensorDataset(tr_x_tensor, tr_y_tensor)\n",
    "training_dataloader = torch.utils.data.DataLoader(training_dataset, batch_size = int(len(tr_x_tensor)), shuffle=True)\n",
    "\n",
    "# Convert testing data to tensors\n",
    "te_x_tensor = torch.tensor(b_x_te.values).type(torch.float).to(device)\n",
    "te_y_tensor = torch.tensor(np.asarray(b_y_te)).type(torch.LongTensor).to(device)\n",
    "\n",
    "\n",
    "# number of features\n",
    "feature_num = tr_x_tensor.shape[1]\n",
    "out_features = 2\n",
    "epochs = 1000\n",
    "l_rate = .1\n",
    "rs=42\n",
    "nl_list = [440, 220, 22]\n",
    "\n",
    "# optuna - hyperparameter optimization\n",
    "\n",
    "loss_fxn = nn.CrossEntropyLoss(weight=weights)\n",
    "actv_fxn = nn.Tanh()"
   ]
  },
  {
   "cell_type": "code",
   "execution_count": null,
   "id": "befd035c-1ab8-4331-a06a-e18daf65782d",
   "metadata": {},
   "outputs": [
    {
     "name": "stdout",
     "output_type": "stream",
     "text": [
      "|=                   |  9.0%                  90/1000         \r"
     ]
    }
   ],
   "source": [
    "base_model = PyTorchClassifier(device=device,\n",
    "                            n_features = feature_num,\n",
    "                            out_features = out_features,\n",
    "                            nl_list = nl_list,\n",
    "                            activation_function = actv_fxn,\n",
    "                            loss_function = loss_fxn,\n",
    "                            n_epochs=epochs,\n",
    "                            learning_rate=l_rate,\n",
    "                            random_state=rs)\n",
    "\n",
    "base_model.train_model(training_dataloader)\n",
    "train_loss, train_acc = base_model.test_model(tr_x_tensor.to(device), tr_y_tensor.to(device))\n",
    "test_loss, test_acc = base_model.test_model(te_x_tensor, te_y_tensor)\n",
    "\n",
    "print(\"XNA Identifier Model Training: {}, Testing: {}\".format(train_acc, test_acc))\n",
    "#print(\"Training misclassified/strand: {}, Testing misclassified/strand: {}\".format(1-(132-train_acc.item()*132),1-(132-test_acc.item()*132)))\n",
    "test_consensus = feature_read_list[0]\n",
    "#bPTmodel.model(torch.tensor(pca.transform(test_consensus.loc[:, test_consensus.columns != 'XNA_PRESENT'])).type(torch.float).to(device))[66]\n",
    "\n",
    "cm = confusion_matrix(te_y_tensor.tolist(), torch.softmax(base_model.model(torch.tensor(b_x_te.values).type(torch.float).to(device)), dim=1).argmax(dim=1).tolist())\n",
    "fig, ax = plt.subplots(1, figsize=(2.5, 2))\n",
    "sns.heatmap(cm, annot=True, fmt='g', ax=ax)\n",
    "ax.set_xlabel(\"Predicted Labels\")\n",
    "ax.set_ylabel(\"True Labels\")\n",
    "ax.set_title(\"Confusion Matrix\")\n",
    "plt.show()"
   ]
  },
  {
   "cell_type": "code",
   "execution_count": null,
   "id": "1da1bf1d-8cf1-4478-9fa4-bc5fe9768a60",
   "metadata": {},
   "outputs": [],
   "source": [
    "n_classified = []\n",
    "\n",
    "# loop through the first ten strands\n",
    "for j in range(10):\n",
    "    \n",
    "    # get the strand data\n",
    "    test_consensus = feature_read_list[j]\n",
    "    \n",
    "    #---- ------ ---- ------ WINDOW MODELING ---- ------ ----- ------ ----- #\n",
    "    # batch the bases into windows of size seven\n",
    "    base_windows= [test_consensus[i:int(i+window_size*2+1)] for i in range(0, len(test_consensus), int(window_size*2+1))]\n",
    "    \n",
    "    # set up lists for window classes and features\n",
    "    window_classes = []\n",
    "    window_features = []\n",
    "    \n",
    "    # for each window minus the potentially inconsistently sized one,\n",
    "    for base_window in base_windows[:-1]:\n",
    "        \n",
    "        # generate an empty list for the window's 1d features\n",
    "        window_sub_features = []\n",
    "        \n",
    "        # check if there's an XNA, append a 1 to the classes if so.\n",
    "        if len(base_window[base_window['XNA_PRESENT'] > 0]) > 0:\n",
    "            window_classes.append(1)\n",
    "        else:\n",
    "            window_classes.append(0)\n",
    "            \n",
    "        # loop through each base features, and extend the features to the 1d feature array\n",
    "        for base in base_window.drop(columns=['XNA_PRESENT']).values:\n",
    "            window_sub_features.extend(base)\n",
    "            \n",
    "        # append the window's 1d features to the list.\n",
    "        window_features.append(window_sub_features)\n",
    "    \n",
    "    # Create a scale of the window features + convert to tensors for features and labels\n",
    "    scale = scaler.fit_transform(window_features)\n",
    "    strand_features = torch.tensor(pca.transform(scale)).type(torch.float).to(device)\n",
    "    strand_labels = torch.tensor(np.asarray(window_classes)).type(torch.LongTensor).to(device)\n",
    "    \n",
    "    # pass window features to models for strands\n",
    "    strand_logits = window_model.model(strand_features)\n",
    "\n",
    "    # Get the predictions for the model\n",
    "    strand_predictions = torch.softmax(strand_logits, dim=1).argmax(dim=1)\n",
    "    \n",
    "    #convert the predictions to a list\n",
    "    predictions = strand_predictions.tolist()\n",
    "    \n",
    "    # get the true window predictions as a list\n",
    "    trues = strand_labels.tolist()\n",
    "    \n",
    "    # convert the predictions to a series\n",
    "    pred_series=pd.Series(predictions)\n",
    "    \n",
    "    # get the lsit of windows predicted\n",
    "    idd_windows = list(zip(np.asarray(pred_series[pred_series> 0].index.tolist())*(window_size*2+1), (np.asarray(pred_series[pred_series> 0].index.tolist())+1)*(window_size*2+1)))\n",
    "    \n",
    "    # ------ ------ ------ WINDOW BASE MODELING ------------------------#\n",
    "    print(\"Sequence {}:\".format(j+1))\n",
    "    \n",
    "    # generate an empty base list\n",
    "    base_list = []\n",
    "    \n",
    "    # for each window in the predicted windows:\n",
    "    for window in idd_windows:\n",
    "        \n",
    "        # get the base region from the strand as defined in the window\n",
    "        xna_region = test_consensus[window[0]:window[1]]\n",
    "        \n",
    "        # get the features and classes\n",
    "        xna_region_features = xna_region.loc[:, xna_region.columns != 'XNA_PRESENT']\n",
    "        xna_region_classes = xna_region['XNA_PRESENT']\n",
    "        \n",
    "        # conform those to the base scaler\n",
    "        base_scale = base_scaler.fit_transform(xna_region_features)\n",
    "        \n",
    "        # get the features and labels as tensors\n",
    "        region_features = torch.tensor(b_pca.transform(base_scale)).type(torch.float).to(device)\n",
    "        region_labels = torch.tensor(np.asarray(xna_region_classes)).type(torch.LongTensor).to(device)\n",
    "        \n",
    "        # generate the logits with the base_model\n",
    "        region_logits = base_model.model(region_features)\n",
    "        \n",
    "        # get the predicted base classes\n",
    "        xna_predictions = torch.softmax(region_logits, dim=1).argmax(dim=1)\n",
    "        \n",
    "        # get the list of predictions\n",
    "        xna = xna_predictions.tolist()\n",
    "        \n",
    "        # get the true bases\n",
    "        true_xna = region_labels.tolist()\n",
    "        \n",
    "        # get the series of predicted bases\n",
    "        pred_xna_series = pd.Series(xna)\n",
    "        \n",
    "        # extend the identified base list with all bases identified as XNA by the model\n",
    "        base_list.extend((np.asarray(pred_xna_series[pred_xna_series >0].index.tolist()) + window[0]).tolist())\n",
    "        \n",
    "    # report the identified regions and bases\n",
    "    print(\"Identified Regions: {}\".format(idd_windows))\n",
    "    print(\"Identified Bases: {}\".format(base_list))\n",
    "\n",
    "    print(\"\")"
   ]
  },
  {
   "cell_type": "code",
   "execution_count": null,
   "id": "4a8056ca-43ac-49dc-9701-08c102f66894",
   "metadata": {},
   "outputs": [],
   "source": []
  }
 ],
 "metadata": {
  "kernelspec": {
   "display_name": "xna_seq",
   "language": "python",
   "name": "xna_seq"
  },
  "language_info": {
   "codemirror_mode": {
    "name": "ipython",
    "version": 3
   },
   "file_extension": ".py",
   "mimetype": "text/x-python",
   "name": "python",
   "nbconvert_exporter": "python",
   "pygments_lexer": "ipython3",
   "version": "3.8.18"
  }
 },
 "nbformat": 4,
 "nbformat_minor": 5
}
