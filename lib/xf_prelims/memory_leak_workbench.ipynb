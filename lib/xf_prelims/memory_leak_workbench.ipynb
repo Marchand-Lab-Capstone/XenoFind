{
 "cells": [
  {
   "cell_type": "code",
   "execution_count": 1,
   "id": "87192773-1d80-4425-8ce6-132728e7509c",
   "metadata": {
    "tags": []
   },
   "outputs": [],
   "source": [
    "import sys\n",
    "sys.path.append('..//')\n",
    "import merge_consensus as mc\n",
    "import pod5\n",
    "import pod5_importer as p5i\n",
    "#import tracemalloc\n",
    "import gc\n",
    "import pandas as pd\n",
    "import numpy as np\n",
    "import ast\n",
    "import pickle\n",
    "import datetime\n",
    "import os\n",
    "#tracemalloc.start()\n",
    "import psutil"
   ]
  },
  {
   "cell_type": "code",
   "execution_count": 2,
   "id": "376fc281-11cc-4c50-8209-675efb409998",
   "metadata": {
    "tags": []
   },
   "outputs": [],
   "source": [
    "pod5_str = \"../../data/large_working_directory/merged_pod5/merged.pod5\""
   ]
  },
  {
   "cell_type": "code",
   "execution_count": 6,
   "id": "ab3bb3dd-8c24-4669-9c58-573585ff6a3d",
   "metadata": {
    "tags": []
   },
   "outputs": [],
   "source": [
    "import subprocess\n",
    "def invoke_pod5_importer(path):\n",
    "    output = subprocess.run([\"python\", \"pod5_importer.py\", \"{}\".format(path)])\n",
    "    print(output)\n",
    "    return output.returncode"
   ]
  },
  {
   "cell_type": "code",
   "execution_count": 7,
   "id": "ddcfef69-526e-4f15-996e-81ce7f4102d5",
   "metadata": {
    "tags": []
   },
   "outputs": [
    {
     "name": "stdout",
     "output_type": "stream",
     "text": [
      "running...\n"
     ]
    },
    {
     "name": "stderr",
     "output_type": "stream",
     "text": [
      "IOPub data rate exceeded.\n",
      "The Jupyter server will temporarily stop sending output\n",
      "to the client in order to avoid crashing it.\n",
      "To change this limit, set the config variable\n",
      "`--ServerApp.iopub_data_rate_limit`.\n",
      "\n",
      "Current values:\n",
      "ServerApp.iopub_data_rate_limit=1000000.0 (bytes/sec)\n",
      "ServerApp.rate_limit_window=3.0 (secs)\n",
      "\n",
      "\n"
     ]
    },
    {
     "name": "stdout",
     "output_type": "stream",
     "text": [
      "CompletedProcess(args=['python', 'pod5_importer.py', '../../data/large_working_directory/merged_pod5/merged.pod5'], returncode=1)\n"
     ]
    }
   ],
   "source": [
    "pod5_df = invoke_pod5_importer(pod5_str)"
   ]
  },
  {
   "cell_type": "code",
   "execution_count": 5,
   "id": "f3c24326-3726-40f6-a983-47ce9effaf41",
   "metadata": {
    "tags": []
   },
   "outputs": [
    {
     "data": {
      "text/plain": [
       "1"
      ]
     },
     "execution_count": 5,
     "metadata": {},
     "output_type": "execute_result"
    }
   ],
   "source": []
  },
  {
   "cell_type": "code",
   "execution_count": 5,
   "id": "fbf2cca3-1325-4b67-b932-3a0de292f31e",
   "metadata": {
    "tags": []
   },
   "outputs": [
    {
     "name": "stdout",
     "output_type": "stream",
     "text": [
      "running...\n",
      "usage: pod5_importer.py [-h] path\n",
      "\n",
      "pod5 loading\n",
      "\n",
      "positional arguments:\n",
      "  path        Path to Pod5 file.\n",
      "\n",
      "optional arguments:\n",
      "  -h, --help  show this help message and exit\n"
     ]
    }
   ],
   "source": [
    "!python pod5_importer.py -h"
   ]
  },
  {
   "cell_type": "code",
   "execution_count": 3,
   "id": "1f2c3dbd-83bb-4b67-86c6-c5e0e53a3585",
   "metadata": {
    "tags": []
   },
   "outputs": [],
   "source": [
    "def memory_report():\n",
    "    #snapshot = tracemalloc.take_snapshot()\n",
    "    #top_stats = snapshot.statistics('lineno')\n",
    "    proc = psutil.Process(os.getpid())\n",
    "    rss = proc.memory_info().rss/(1*10**9)\n",
    "    vms= proc.memory_info().vms/(1*10**9)\n",
    "    shared = proc.memory_info().shared/(1*10**9)\n",
    "    data = proc.memory_info().data/(1*10**9)\n",
    "    #size,peak= tracemalloc.get_traced_memory()\n",
    "    print(\"[ Memory Report {} ]------------------------------------------------\".format(datetime.datetime.now()))\n",
    "    print(\"RSS: {} gb, VMS: {} gb, SHARED: {} gb, DATA: {} gb\".format(rss, vms, shared, data))\n",
    "    #print(\"Size: {} gb, Peak {} gb\".format(size/(1*10**9),peak/(1*10**9)))\n",
    "    #print(\"[ Top 5 Memory Uses ]\")\n",
    "    #for stat in top_stats[:5]:\n",
    "    #    print(stat)\n",
    "    print(\"--------------------------------------------------------------------------------------------\")"
   ]
  },
  {
   "cell_type": "code",
   "execution_count": 4,
   "id": "20df17d8-f036-4814-88bc-205010249beb",
   "metadata": {
    "tags": []
   },
   "outputs": [
    {
     "name": "stdout",
     "output_type": "stream",
     "text": [
      "[ Memory Report 2024-05-13 17:38:04.667684 ]------------------------------------------------\n",
      "RSS: 0.190906368 gb, VMS: 3.750793216 gb, SHARED: 0.07929856 gb, DATA: 1.68767488 gb\n",
      "--------------------------------------------------------------------------------------------\n"
     ]
    }
   ],
   "source": [
    "memory_report()"
   ]
  },
  {
   "cell_type": "code",
   "execution_count": 7,
   "id": "c04b10eb-0331-4920-b314-e04a036e1b30",
   "metadata": {
    "tags": []
   },
   "outputs": [
    {
     "name": "stdout",
     "output_type": "stream",
     "text": [
      "<class 'numpy.ndarray'>\n"
     ]
    }
   ],
   "source": [
    "df = pd.DataFrame(mc.load_pod5_data(pod5_str))"
   ]
  },
  {
   "cell_type": "code",
   "execution_count": 1,
   "id": "16989855-cf84-4396-af78-5e82e31e3f7f",
   "metadata": {
    "tags": []
   },
   "outputs": [],
   "source": [
    "def testt():\n",
    "    memory_report()\n",
    "    df2 = pd.read_pickle('export_merge_pod5.pickle')\n",
    "    print(sys.getsizeof(df2))\n",
    "    memory_report()\n",
    "    \n",
    "    return None"
   ]
  },
  {
   "cell_type": "code",
   "execution_count": 5,
   "id": "913007a7-bfe3-407b-aa2a-4e552f53a852",
   "metadata": {
    "tags": []
   },
   "outputs": [
    {
     "name": "stdout",
     "output_type": "stream",
     "text": [
      "[ Memory Report 2024-05-13 17:38:07.978003 ]------------------------------------------------\n",
      "RSS: 0.190906368 gb, VMS: 3.750793216 gb, SHARED: 0.07929856 gb, DATA: 1.68767488 gb\n",
      "--------------------------------------------------------------------------------------------\n",
      "89178727\n",
      "[ Memory Report 2024-05-13 17:38:12.617379 ]------------------------------------------------\n",
      "RSS: 8.398368768 gb, VMS: 11.957264384 gb, SHARED: 0.080216064 gb, DATA: 9.894146048 gb\n",
      "--------------------------------------------------------------------------------------------\n",
      "[ Memory Report 2024-05-13 17:38:12.876167 ]------------------------------------------------\n",
      "RSS: 4.825284608 gb, VMS: 8.383905792 gb, SHARED: 0.080347136 gb, DATA: 6.320787456 gb\n",
      "--------------------------------------------------------------------------------------------\n"
     ]
    }
   ],
   "source": [
    "testt()\n",
    "memory_report()"
   ]
  },
  {
   "cell_type": "code",
   "execution_count": 6,
   "id": "424e3fbb-6656-45e6-a459-4e747f0562fa",
   "metadata": {
    "tags": []
   },
   "outputs": [
    {
     "data": {
      "text/plain": [
       "(498283, 8168251563)"
      ]
     },
     "execution_count": 6,
     "metadata": {},
     "output_type": "execute_result"
    }
   ],
   "source": [
    "size,peak= tracemalloc.get_traced_memory()"
   ]
  },
  {
   "cell_type": "markdown",
   "id": "dd40f450-5330-4487-b399-2fcff56ff42f",
   "metadata": {},
   "source": []
  },
  {
   "cell_type": "raw",
   "id": "7833c742-d3c6-47b5-9560-43ffc5c37385",
   "metadata": {},
   "source": []
  },
  {
   "cell_type": "code",
   "execution_count": 5,
   "id": "62fd54f8-7ae6-447a-9cc1-5aea9270a907",
   "metadata": {
    "tags": []
   },
   "outputs": [],
   "source": [
    "def tryscale(scale):\n",
    "    print(scale)\n",
    "    data_list = []\n",
    "    for i in range(1):\n",
    "        data_list = []\n",
    "        with pod5.Reader(pod5_str) as pod5_file:\n",
    "            memory_report()\n",
    "            reads=list(pod5_file.reads())\n",
    "\n",
    "            for i in range(len(reads[:scale])):\n",
    "                read = reads[i]\n",
    "                # save the sequence id, signal, and frequency to a dict\n",
    "                data_dict = getreaddict(read)\n",
    "                # append the dict to the list\n",
    "                data_list.append(data_dict)\n",
    "            pod5_file.close()\n",
    "            memory_report()\n",
    "        memory_report()"
   ]
  },
  {
   "cell_type": "code",
   "execution_count": null,
   "id": "b18dc105-f52c-413d-976f-ebbb1096cef9",
   "metadata": {},
   "outputs": [],
   "source": [
    "def getreaddict(read):        \n",
    "    return data_dict\n",
    "    seq_id = read.read_id\n",
    "    signal = read.signal_pa\n",
    "    freq = read.run_info.sample_rate\n",
    "    data_dict = {'seq_id': str(seq_id),\n",
    "                 'signal': signal,\n",
    "                 'freq': freq}"
   ]
  },
  {
   "cell_type": "code",
   "execution_count": 3,
   "id": "18c08b8a-7e49-4416-be2c-2525cc943cf4",
   "metadata": {
    "tags": []
   },
   "outputs": [
    {
     "name": "stdout",
     "output_type": "stream",
     "text": [
      "Requirement already satisfied: dask[dataframe] in /home/sebastian/.conda/envs/xna_seq/lib/python3.8/site-packages (2023.5.0)\n",
      "Requirement already satisfied: click>=8.0 in /home/sebastian/.conda/envs/xna_seq/lib/python3.8/site-packages (from dask[dataframe]) (8.1.7)\n",
      "Requirement already satisfied: cloudpickle>=1.5.0 in /home/sebastian/.conda/envs/xna_seq/lib/python3.8/site-packages (from dask[dataframe]) (3.0.0)\n",
      "Requirement already satisfied: fsspec>=2021.09.0 in /home/sebastian/.conda/envs/xna_seq/lib/python3.8/site-packages (from dask[dataframe]) (2024.2.0)\n",
      "Requirement already satisfied: packaging>=20.0 in /home/sebastian/.conda/envs/xna_seq/lib/python3.8/site-packages (from dask[dataframe]) (23.1)\n",
      "Requirement already satisfied: partd>=1.2.0 in /home/sebastian/.conda/envs/xna_seq/lib/python3.8/site-packages (from dask[dataframe]) (1.4.1)\n",
      "Requirement already satisfied: pyyaml>=5.3.1 in /home/sebastian/.conda/envs/xna_seq/lib/python3.8/site-packages (from dask[dataframe]) (6.0.1)\n",
      "Requirement already satisfied: toolz>=0.10.0 in /home/sebastian/.conda/envs/xna_seq/lib/python3.8/site-packages (from dask[dataframe]) (0.12.1)\n",
      "Requirement already satisfied: importlib-metadata>=4.13.0 in /home/sebastian/.conda/envs/xna_seq/lib/python3.8/site-packages (from dask[dataframe]) (7.0.1)\n",
      "Requirement already satisfied: numpy>=1.21 in /home/sebastian/.conda/envs/xna_seq/lib/python3.8/site-packages (from dask[dataframe]) (1.24.3)\n",
      "Requirement already satisfied: pandas>=1.3 in /home/sebastian/.conda/envs/xna_seq/lib/python3.8/site-packages (from dask[dataframe]) (2.0.3)\n",
      "Requirement already satisfied: zipp>=0.5 in /home/sebastian/.conda/envs/xna_seq/lib/python3.8/site-packages (from importlib-metadata>=4.13.0->dask[dataframe]) (3.17.0)\n",
      "Requirement already satisfied: python-dateutil>=2.8.2 in /home/sebastian/.conda/envs/xna_seq/lib/python3.8/site-packages (from pandas>=1.3->dask[dataframe]) (2.8.2)\n",
      "Requirement already satisfied: pytz>=2020.1 in /home/sebastian/.conda/envs/xna_seq/lib/python3.8/site-packages (from pandas>=1.3->dask[dataframe]) (2023.3.post1)\n",
      "Requirement already satisfied: tzdata>=2022.1 in /home/sebastian/.conda/envs/xna_seq/lib/python3.8/site-packages (from pandas>=1.3->dask[dataframe]) (2024.1)\n",
      "Requirement already satisfied: locket in /home/sebastian/.conda/envs/xna_seq/lib/python3.8/site-packages (from partd>=1.2.0->dask[dataframe]) (1.0.0)\n",
      "Requirement already satisfied: six>=1.5 in /home/sebastian/.conda/envs/xna_seq/lib/python3.8/site-packages (from python-dateutil>=2.8.2->pandas>=1.3->dask[dataframe]) (1.16.0)\n"
     ]
    }
   ],
   "source": [
    "!pip install \"dask[dataframe]\""
   ]
  },
  {
   "cell_type": "code",
   "execution_count": null,
   "id": "bf7a6310-b7e8-469a-8793-c984aa274369",
   "metadata": {},
   "outputs": [],
   "source": []
  },
  {
   "cell_type": "code",
   "execution_count": 9,
   "id": "f7e882ca-757b-474c-baf3-a67147f89110",
   "metadata": {
    "tags": []
   },
   "outputs": [
    {
     "name": "stdout",
     "output_type": "stream",
     "text": [
      "[ Top 5 Memory Uses ]--------------------------\n",
      "/home/sebastian/.conda/envs/xna_seq/lib/python3.8/tracemalloc.py:65: size=18.7 KiB, count=299, average=64 B\n",
      "/home/sebastian/.conda/envs/xna_seq/lib/python3.8/tracemalloc.py:532: size=15.5 KiB, count=325, average=49 B\n",
      "/home/sebastian/.conda/envs/xna_seq/lib/python3.8/site-packages/pod5/reader.py:106: size=13.3 KiB, count=81, average=168 B\n",
      "/home/sebastian/.conda/envs/xna_seq/lib/python3.8/site-packages/IPython/core/builtin_trap.py:70: size=9248 B, count=1, average=9248 B\n",
      "/home/sebastian/.conda/envs/xna_seq/lib/python3.8/abc.py:102: size=9217 B, count=95, average=97 B\n"
     ]
    }
   ],
   "source": [
    "memory_report()"
   ]
  },
  {
   "cell_type": "code",
   "execution_count": 19,
   "id": "1c4a0ffe-f4ce-4001-8531-ce23d8a0231b",
   "metadata": {
    "tags": []
   },
   "outputs": [
    {
     "ename": "RuntimeError",
     "evalue": "ArrowTableHandle has been closed!",
     "output_type": "error",
     "traceback": [
      "\u001b[0;31m---------------------------------------------------------------------------\u001b[0m",
      "\u001b[0;31mRuntimeError\u001b[0m                              Traceback (most recent call last)",
      "Cell \u001b[0;32mIn[19], line 4\u001b[0m\n\u001b[1;32m      2\u001b[0m \u001b[38;5;28;01mfor\u001b[39;00m read \u001b[38;5;129;01min\u001b[39;00m reads_list:\n\u001b[1;32m      3\u001b[0m     seq_id \u001b[38;5;241m=\u001b[39m read\u001b[38;5;241m.\u001b[39mread_id\n\u001b[0;32m----> 4\u001b[0m     signal \u001b[38;5;241m=\u001b[39m \u001b[43mread\u001b[49m\u001b[38;5;241;43m.\u001b[39;49m\u001b[43msignal_pa\u001b[49m\n\u001b[1;32m      5\u001b[0m     freq \u001b[38;5;241m=\u001b[39m read\u001b[38;5;241m.\u001b[39mrun_info\u001b[38;5;241m.\u001b[39msample_rate\n\u001b[1;32m      6\u001b[0m     data_dict \u001b[38;5;241m=\u001b[39m {\u001b[38;5;124m'\u001b[39m\u001b[38;5;124mseq_id\u001b[39m\u001b[38;5;124m'\u001b[39m: \u001b[38;5;28mstr\u001b[39m(seq_id),\n\u001b[1;32m      7\u001b[0m                  \u001b[38;5;124m'\u001b[39m\u001b[38;5;124msignal\u001b[39m\u001b[38;5;124m'\u001b[39m: signal,\n\u001b[1;32m      8\u001b[0m                  \u001b[38;5;124m'\u001b[39m\u001b[38;5;124mfreq\u001b[39m\u001b[38;5;124m'\u001b[39m: freq}\n",
      "File \u001b[0;32m~/.conda/envs/xna_seq/lib/python3.8/site-packages/pod5/reader.py:320\u001b[0m, in \u001b[0;36mReadRecord.signal_pa\u001b[0;34m(self)\u001b[0m\n\u001b[1;32m    310\u001b[0m \u001b[38;5;129m@property\u001b[39m\n\u001b[1;32m    311\u001b[0m \u001b[38;5;28;01mdef\u001b[39;00m \u001b[38;5;21msignal_pa\u001b[39m(\u001b[38;5;28mself\u001b[39m) \u001b[38;5;241m-\u001b[39m\u001b[38;5;241m>\u001b[39m npt\u001b[38;5;241m.\u001b[39mNDArray[np\u001b[38;5;241m.\u001b[39mfloat32]:\n\u001b[1;32m    312\u001b[0m \u001b[38;5;250m    \u001b[39m\u001b[38;5;124;03m\"\"\"\u001b[39;00m\n\u001b[1;32m    313\u001b[0m \u001b[38;5;124;03m    Get the full signal for the read, calibrated in pico amps.\u001b[39;00m\n\u001b[1;32m    314\u001b[0m \n\u001b[0;32m   (...)\u001b[0m\n\u001b[1;32m    318\u001b[0m \u001b[38;5;124;03m        A numpy array of signal data in pico amps with float32 type.\u001b[39;00m\n\u001b[1;32m    319\u001b[0m \u001b[38;5;124;03m    \"\"\"\u001b[39;00m\n\u001b[0;32m--> 320\u001b[0m     \u001b[38;5;28;01mreturn\u001b[39;00m \u001b[38;5;28mself\u001b[39m\u001b[38;5;241m.\u001b[39mcalibrate_signal_array(\u001b[38;5;28;43mself\u001b[39;49m\u001b[38;5;241;43m.\u001b[39;49m\u001b[43msignal\u001b[49m)\n",
      "File \u001b[0;32m~/.conda/envs/xna_seq/lib/python3.8/site-packages/pod5/reader.py:287\u001b[0m, in \u001b[0;36mReadRecord.signal\u001b[0;34m(self)\u001b[0m\n\u001b[1;32m    284\u001b[0m     \u001b[38;5;28;01mreturn\u001b[39;00m \u001b[38;5;28mself\u001b[39m\u001b[38;5;241m.\u001b[39m_batch_signal_cache[\u001b[38;5;28mself\u001b[39m\u001b[38;5;241m.\u001b[39m_row]\n\u001b[1;32m    286\u001b[0m rows \u001b[38;5;241m=\u001b[39m \u001b[38;5;28mself\u001b[39m\u001b[38;5;241m.\u001b[39m_batch\u001b[38;5;241m.\u001b[39mcolumns\u001b[38;5;241m.\u001b[39msignal[\u001b[38;5;28mself\u001b[39m\u001b[38;5;241m.\u001b[39m_row]\n\u001b[0;32m--> 287\u001b[0m batch_data \u001b[38;5;241m=\u001b[39m [\u001b[38;5;28mself\u001b[39m\u001b[38;5;241m.\u001b[39m_find_signal_row_index(r\u001b[38;5;241m.\u001b[39mas_py()) \u001b[38;5;28;01mfor\u001b[39;00m r \u001b[38;5;129;01min\u001b[39;00m rows]\n\u001b[1;32m    288\u001b[0m sample_counts \u001b[38;5;241m=\u001b[39m []\n\u001b[1;32m    289\u001b[0m \u001b[38;5;28;01mfor\u001b[39;00m batch, _, batch_row_index \u001b[38;5;129;01min\u001b[39;00m batch_data:\n",
      "File \u001b[0;32m~/.conda/envs/xna_seq/lib/python3.8/site-packages/pod5/reader.py:287\u001b[0m, in \u001b[0;36m<listcomp>\u001b[0;34m(.0)\u001b[0m\n\u001b[1;32m    284\u001b[0m     \u001b[38;5;28;01mreturn\u001b[39;00m \u001b[38;5;28mself\u001b[39m\u001b[38;5;241m.\u001b[39m_batch_signal_cache[\u001b[38;5;28mself\u001b[39m\u001b[38;5;241m.\u001b[39m_row]\n\u001b[1;32m    286\u001b[0m rows \u001b[38;5;241m=\u001b[39m \u001b[38;5;28mself\u001b[39m\u001b[38;5;241m.\u001b[39m_batch\u001b[38;5;241m.\u001b[39mcolumns\u001b[38;5;241m.\u001b[39msignal[\u001b[38;5;28mself\u001b[39m\u001b[38;5;241m.\u001b[39m_row]\n\u001b[0;32m--> 287\u001b[0m batch_data \u001b[38;5;241m=\u001b[39m [\u001b[38;5;28;43mself\u001b[39;49m\u001b[38;5;241;43m.\u001b[39;49m\u001b[43m_find_signal_row_index\u001b[49m\u001b[43m(\u001b[49m\u001b[43mr\u001b[49m\u001b[38;5;241;43m.\u001b[39;49m\u001b[43mas_py\u001b[49m\u001b[43m(\u001b[49m\u001b[43m)\u001b[49m\u001b[43m)\u001b[49m \u001b[38;5;28;01mfor\u001b[39;00m r \u001b[38;5;129;01min\u001b[39;00m rows]\n\u001b[1;32m    288\u001b[0m sample_counts \u001b[38;5;241m=\u001b[39m []\n\u001b[1;32m    289\u001b[0m \u001b[38;5;28;01mfor\u001b[39;00m batch, _, batch_row_index \u001b[38;5;129;01min\u001b[39;00m batch_data:\n",
      "File \u001b[0;32m~/.conda/envs/xna_seq/lib/python3.8/site-packages/pod5/reader.py:381\u001b[0m, in \u001b[0;36mReadRecord._find_signal_row_index\u001b[0;34m(self, signal_row)\u001b[0m\n\u001b[1;32m    373\u001b[0m \u001b[38;5;28;01mdef\u001b[39;00m \u001b[38;5;21m_find_signal_row_index\u001b[39m(\u001b[38;5;28mself\u001b[39m, signal_row: \u001b[38;5;28mint\u001b[39m) \u001b[38;5;241m-\u001b[39m\u001b[38;5;241m>\u001b[39m Tuple[Signal, \u001b[38;5;28mint\u001b[39m, \u001b[38;5;28mint\u001b[39m]:\n\u001b[1;32m    374\u001b[0m \u001b[38;5;250m    \u001b[39m\u001b[38;5;124;03m\"\"\"\u001b[39;00m\n\u001b[1;32m    375\u001b[0m \u001b[38;5;124;03m    Map from a signal_row to a Signal, batch index and row index within that batch.\u001b[39;00m\n\u001b[1;32m    376\u001b[0m \n\u001b[0;32m   (...)\u001b[0m\n\u001b[1;32m    379\u001b[0m \u001b[38;5;124;03m    A Tuple containing the `Signal` and its `batch_index` and `row_index`\u001b[39;00m\n\u001b[1;32m    380\u001b[0m \u001b[38;5;124;03m    \"\"\"\u001b[39;00m\n\u001b[0;32m--> 381\u001b[0m     sig_row_count: \u001b[38;5;28mint\u001b[39m \u001b[38;5;241m=\u001b[39m \u001b[38;5;28;43mself\u001b[39;49m\u001b[38;5;241;43m.\u001b[39;49m\u001b[43m_reader\u001b[49m\u001b[38;5;241;43m.\u001b[39;49m\u001b[43msignal_batch_row_count\u001b[49m\n\u001b[1;32m    382\u001b[0m     sig_batch_idx: \u001b[38;5;28mint\u001b[39m \u001b[38;5;241m=\u001b[39m signal_row \u001b[38;5;241m/\u001b[39m\u001b[38;5;241m/\u001b[39m sig_row_count\n\u001b[1;32m    383\u001b[0m     sig_batch \u001b[38;5;241m=\u001b[39m \u001b[38;5;28mself\u001b[39m\u001b[38;5;241m.\u001b[39m_reader\u001b[38;5;241m.\u001b[39m_get_signal_batch(sig_batch_idx)\n",
      "File \u001b[0;32m~/.conda/envs/xna_seq/lib/python3.8/site-packages/pod5/reader.py:808\u001b[0m, in \u001b[0;36mReader.signal_batch_row_count\u001b[0;34m(self)\u001b[0m\n\u001b[1;32m    806\u001b[0m \u001b[38;5;250m\u001b[39m\u001b[38;5;124;03m\"\"\"Return signal batch row count\"\"\"\u001b[39;00m\n\u001b[1;32m    807\u001b[0m \u001b[38;5;28;01mif\u001b[39;00m \u001b[38;5;28mself\u001b[39m\u001b[38;5;241m.\u001b[39m_signal_batch_row_count \u001b[38;5;129;01mis\u001b[39;00m \u001b[38;5;28;01mNone\u001b[39;00m:\n\u001b[0;32m--> 808\u001b[0m     \u001b[38;5;28;01mif\u001b[39;00m \u001b[38;5;28;43mself\u001b[39;49m\u001b[38;5;241;43m.\u001b[39;49m\u001b[43msignal_table\u001b[49m\u001b[38;5;241m.\u001b[39mnum_record_batches \u001b[38;5;241m>\u001b[39m \u001b[38;5;241m0\u001b[39m:\n\u001b[1;32m    809\u001b[0m         \u001b[38;5;28mself\u001b[39m\u001b[38;5;241m.\u001b[39m_signal_batch_row_count \u001b[38;5;241m=\u001b[39m \u001b[38;5;28mself\u001b[39m\u001b[38;5;241m.\u001b[39msignal_table\u001b[38;5;241m.\u001b[39mget_batch(\u001b[38;5;241m0\u001b[39m)\u001b[38;5;241m.\u001b[39mnum_rows\n\u001b[1;32m    810\u001b[0m     \u001b[38;5;28;01melse\u001b[39;00m:\n",
      "File \u001b[0;32m~/.conda/envs/xna_seq/lib/python3.8/site-packages/pod5/reader.py:772\u001b[0m, in \u001b[0;36mReader.signal_table\u001b[0;34m(self)\u001b[0m\n\u001b[1;32m    770\u001b[0m \u001b[38;5;250m\u001b[39m\u001b[38;5;124;03m\"\"\"Access the pod5 signal table - use with caution\"\"\"\u001b[39;00m\n\u001b[1;32m    771\u001b[0m \u001b[38;5;28;01mif\u001b[39;00m \u001b[38;5;28mself\u001b[39m\u001b[38;5;241m.\u001b[39m_signal_handle \u001b[38;5;129;01mis\u001b[39;00m \u001b[38;5;28;01mNone\u001b[39;00m:\n\u001b[0;32m--> 772\u001b[0m     \u001b[38;5;28;01mraise\u001b[39;00m \u001b[38;5;167;01mRuntimeError\u001b[39;00m(\u001b[38;5;124m\"\u001b[39m\u001b[38;5;124mArrowTableHandle has been closed!\u001b[39m\u001b[38;5;124m\"\u001b[39m)\n\u001b[1;32m    773\u001b[0m \u001b[38;5;28;01mreturn\u001b[39;00m \u001b[38;5;28mself\u001b[39m\u001b[38;5;241m.\u001b[39m_signal_handle\u001b[38;5;241m.\u001b[39mreader\n",
      "\u001b[0;31mRuntimeError\u001b[0m: ArrowTableHandle has been closed!"
     ]
    }
   ],
   "source": [
    "read_list_dict = []\n",
    "for read in reads_list:\n",
    "    seq_id = read.read_id\n",
    "    signal = read.signal_pa\n",
    "    freq = read.run_info.sample_rate\n",
    "    data_dict = {'seq_id': str(seq_id),\n",
    "                 'signal': signal,\n",
    "                 'freq': freq}\n",
    "    read_list_dict.append(data_dict)\n",
    "memory_report()"
   ]
  },
  {
   "cell_type": "code",
   "execution_count": null,
   "id": "005685a7-04a6-4ce8-bec8-986706382cb8",
   "metadata": {},
   "outputs": [],
   "source": []
  }
 ],
 "metadata": {
  "kernelspec": {
   "display_name": "Python 3 (ipykernel)",
   "language": "python",
   "name": "python3"
  },
  "language_info": {
   "codemirror_mode": {
    "name": "ipython",
    "version": 3
   },
   "file_extension": ".py",
   "mimetype": "text/x-python",
   "name": "python",
   "nbconvert_exporter": "python",
   "pygments_lexer": "ipython3",
   "version": "3.8.18"
  }
 },
 "nbformat": 4,
 "nbformat_minor": 5
}
