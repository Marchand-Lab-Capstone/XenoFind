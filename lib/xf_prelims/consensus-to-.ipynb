{
 "cells": [
  {
   "cell_type": "code",
   "execution_count": 1,
   "id": "0f480c11-e2fb-4ca8-9c0b-fcdb6b0d849a",
   "metadata": {
    "tags": []
   },
   "outputs": [
    {
     "name": "stdout",
     "output_type": "stream",
     "text": [
      "cuda\n"
     ]
    }
   ],
   "source": [
    "import subprocess\n",
    "import os\n",
    "import sys\n",
    "sys.path.append('..//model_gen')\n",
    "import setup_methods\n",
    "import pandas as pd\n",
    "import aggregate_reads\n",
    "\n",
    "from sklearn.model_selection import train_test_split\n",
    "from sklearn.preprocessing import StandardScaler\n",
    "from sklearn.decomposition import PCA\n",
    "from sklearn.tree import DecisionTreeClassifier\n",
    "from sklearn.ensemble import RandomForestClassifier\n",
    "from sklearn.neighbors import KNeighborsClassifier as KNN\n",
    "from sklearn.metrics import accuracy_score\n",
    "from sklearn.metrics import f1_score\n",
    "from sklearn.metrics import confusion_matrix\n",
    "from sklearn.model_selection import GridSearchCV\n",
    "import seaborn as sns\n",
    "import numpy as np\n",
    "import matplotlib.pyplot as plt\n",
    "import torch\n",
    "from torch import nn\n",
    "import itertools\n",
    "\n",
    "# Set up device for pytorch\n",
    "device = (\n",
    "    \"cuda\"\n",
    "    if torch.cuda.is_available()\n",
    "    else \"mps\"\n",
    "    if torch.backends.mps.is_available()\n",
    "    else \"cpu\"\n",
    ")\n",
    "print(device)"
   ]
  },
  {
   "cell_type": "code",
   "execution_count": 2,
   "id": "153839fd-a5d6-411a-93ef-bd9c0b637eae",
   "metadata": {
    "tags": []
   },
   "outputs": [],
   "source": [
    "def percenttobar(frac):\n",
    "    bar_str = \"|\"\n",
    "    max_bars = 20\n",
    "    perc = frac*2000\n",
    "    n_bars = int(perc/100)\n",
    "    for i in range(n_bars):\n",
    "        bar_str += \"=\"\n",
    "    for i in range(max_bars-n_bars):\n",
    "        bar_str += \" \"\n",
    "    bar_str += \"|  {}%                \".format(round(frac*100, 3))\n",
    "    return bar_str\n",
    "    "
   ]
  },
  {
   "cell_type": "code",
   "execution_count": 3,
   "id": "5c008d8e-9c39-4549-becb-f6bbadf72f63",
   "metadata": {
    "tags": []
   },
   "outputs": [],
   "source": [
    "working_directory = '/media/sebastian/Slepnir/xenofind_datasets/Working_directory_PZ/'\n",
    "ref_fasta = \"/media/sebastian/Slepnir/xenofind_datasets/xref_libv2_PZ_CxDx.fa\"\n",
    "working_subdir=''\n",
    "fasta_path = ''\n",
    "IS_TRAINING = True\n",
    "\n",
    "if IS_TRAINING:\n",
    "    fasta_path = ref_fasta\n",
    "    working_subdir = 'model_training/'\n",
    "else:\n",
    "    working_subdir = 'model_testing/'\n",
    "    fasta_path = working_directory + working_subdir + 'consensus.fa'\n",
    "    \n",
    "bam_path = working_directory + working_subdir + 'basecall_directory/fwd_filtered.bam'\n",
    "pod5_path = working_directory + working_subdir + 'merged_pod5/merged.pod5'\n",
    "json_dir = working_directory + working_subdir + 'json_files/'\n",
    "parquet_dir = working_directory + working_subdir + 'parquet_superdirectory/'\n",
    "batch_size = 100\n",
    "\n",
    "# convert the json files to constituent parquet files based on batch size\n"
   ]
  },
  {
   "cell_type": "code",
   "execution_count": 4,
   "id": "251f6755-2a29-43ba-8376-6e6801e7ab88",
   "metadata": {
    "tags": []
   },
   "outputs": [
    {
     "data": {
      "text/plain": [
       "'\\n# convert the json files to batched parquet files\\nimport datetime\\njson_files = os.listdir(json_dir)\\nn_files = len(json_files)\\ni = 0\\nlasttime = datetime.datetime.now()\\ntotaltime = 0\\nfor file in json_files[:]:\\n    json_filepath = json_dir + file\\n    subdirectory = parquet_dir + file.split(\\'.\\')[0] + \\'/\\'\\n    setup_methods.check_make_dir(subdirectory, False)\\n    subprocess.run([\\'python\\',\\n                    \\'feature_extraction.py\\',\\n                    #\\'--verbose\\',\\n                    \\'-batch_size\\', str(batch_size),\\n                    \\'-json_path\\', json_filepath,\\n                    \\'-output\\', subdirectory])\\n    ct = datetime.datetime.now()\\n    totaltime += (ct- lasttime).total_seconds()\\n    lasttime = ct\\n    i+= 1\\n    print(percenttobar(i/n_files) + \" {}/{} files, est: {}\".format(i, n_files, datetime.timedelta(seconds=n_files*(totaltime/i))), end=\\'\\r\\')\\n'"
      ]
     },
     "execution_count": 4,
     "metadata": {},
     "output_type": "execute_result"
    }
   ],
   "source": [
    "'''\n",
    "# convert the json files to batched parquet files\n",
    "import datetime\n",
    "json_files = os.listdir(json_dir)\n",
    "n_files = len(json_files)\n",
    "i = 0\n",
    "lasttime = datetime.datetime.now()\n",
    "totaltime = 0\n",
    "for file in json_files[:]:\n",
    "    json_filepath = json_dir + file\n",
    "    subdirectory = parquet_dir + file.split('.')[0] + '/'\n",
    "    setup_methods.check_make_dir(subdirectory, False)\n",
    "    subprocess.run(['python',\n",
    "                    'feature_extraction.py',\n",
    "                    #'--verbose',\n",
    "                    '-batch_size', str(batch_size),\n",
    "                    '-json_path', json_filepath,\n",
    "                    '-output', subdirectory])\n",
    "    ct = datetime.datetime.now()\n",
    "    totaltime += (ct- lasttime).total_seconds()\n",
    "    lasttime = ct\n",
    "    i+= 1\n",
    "    print(percenttobar(i/n_files) + \" {}/{} files, est: {}\".format(i, n_files, datetime.timedelta(seconds=n_files*(totaltime/i))), end='\\r')\n",
    "'''"
   ]
  },
  {
   "cell_type": "code",
   "execution_count": 5,
   "id": "46af3df2-6696-41b9-a43c-047038f9d3ae",
   "metadata": {
    "tags": []
   },
   "outputs": [
    {
     "name": "stdout",
     "output_type": "stream",
     "text": [
      "python aggregate_reads.py -v -bam /media/sebastian/Slepnir/xenofind_datasets/Working_directory_PZ/model_training/basecall_directory/fwd_filtered.bam -pod5 /media/sebastian/Slepnir/xenofind_datasets/Working_directory_PZ/model_training/merged_pod5/merged.pod5 -fasta /media/sebastian/Slepnir/xenofind_datasets/xref_libv2_PZ_CxDx.fa -output /media/sebastian/Slepnir/xenofind_datasets/Working_directory_PZ/model_training/parquet_superdirectory/ -parquet -overwrite_off \n"
     ]
    }
   ],
   "source": [
    "out_str = \"\"\n",
    "for item in ['python',\n",
    "                'aggregate_reads.py',\n",
    "                '-v',\n",
    "                '-bam',bam_path,\n",
    "                '-pod5',pod5_path,\n",
    "                '-fasta',fasta_path,\n",
    "                '-output',parquet_dir,\n",
    "                 '-parquet', '-overwrite_off']:\n",
    "    out_str = out_str + item + \" \"\n",
    "print(out_str)"
   ]
  },
  {
   "cell_type": "code",
   "execution_count": 150,
   "id": "4639d1e8-4219-4bdf-b741-f806165893af",
   "metadata": {
    "tags": []
   },
   "outputs": [],
   "source": [
    "# load the parquet files to dataframes and combine to a list\n",
    "parquet_subdirs = os.listdir(parquet_dir)\n",
    "\n",
    "feature_read_list = []\n",
    "batch_ranges = []\n",
    "index = 0\n",
    "for subdir in parquet_subdirs[:]:\n",
    "    parquets = 0\n",
    "    batch_touple = [index, index]\n",
    "    for parquet in os.listdir(parquet_dir + subdir):\n",
    "        index += 1\n",
    "        parquets+=1\n",
    "        path = parquet_dir+subdir+\"/\"+parquet\n",
    "        feature_read_list.append(pd.read_parquet(path))\n",
    "    batch_touple[1] = index-1\n",
    "    batch_ranges.append(batch_touple)"
   ]
  },
  {
   "cell_type": "code",
   "execution_count": 152,
   "id": "e4a53cfc-e8ec-4f4c-8f80-ebc7c7d6d45c",
   "metadata": {
    "tags": []
   },
   "outputs": [],
   "source": [
    "assembled_df = pd.concat(feature_read_list[20:]).reset_index(drop=True)\n",
    "assembled_df = assembled_df.dropna(how='any')"
   ]
  },
  {
   "cell_type": "code",
   "execution_count": 153,
   "id": "6ab6e11a-497f-4e95-bbf7-a1110990c777",
   "metadata": {
    "tags": []
   },
   "outputs": [],
   "source": [
    "xna_bases = assembled_df[assembled_df['XNA_PRESENT'] == 1]\n",
    "rand_bases = assembled_df[assembled_df['XNA_PRESENT'] == 0].sample(n=len(xna_bases), random_state=0)\n",
    "training_df = pd.concat([xna_bases, rand_bases]).reset_index(drop=True)"
   ]
  },
  {
   "cell_type": "markdown",
   "id": "0a4643a7-91b7-4ae2-a0b8-0c63b7851c84",
   "metadata": {
    "tags": []
   },
   "source": [
    "### ML Modeling------\n",
    "The following pipeline was written by S. Peck and A. Mahmoud for ChemE 545 in Fall of 2023. It has been adapted for the current implimentation by S. Peck. "
   ]
  },
  {
   "cell_type": "markdown",
   "id": "afbda831-3f38-408a-89d3-1b8f25e39b86",
   "metadata": {
    "tags": []
   },
   "source": [
    "#### ML modeling methods"
   ]
  },
  {
   "cell_type": "code",
   "execution_count": 154,
   "id": "6e80cf01-1540-4a46-9435-298f5787e295",
   "metadata": {
    "tags": []
   },
   "outputs": [],
   "source": [
    "def find_pca_components(comp_list, data):\n",
    "    '''\n",
    "    find_pca_components takes in a list of number of components to be used,\n",
    "    as well as feature data to be used for PCA, and returns the\n",
    "    list of total explained variance as a percent for each number of components.\n",
    "    \n",
    "    Parameters:\n",
    "    comp_list: List of ints representing number of components of interest\n",
    "    data: pandas dataframe containing scaled unit variance feature data\n",
    "    \n",
    "    Returns:\n",
    "    a list of explained variance as a percent for each number of components\n",
    "    '''\n",
    "    \n",
    "    # Set up empty list\n",
    "    explained = []\n",
    "    # Loop through all components in the list\n",
    "    for components in comp_list:\n",
    "        # Set up PCA with the number of components of interest and the global random\n",
    "        pca = PCA(n_components=components, random_state = GLOBAL_RANDOM_STATE)\n",
    "        # Fit the data\n",
    "        pca.fit(data)\n",
    "        # Get the total explained variance ratio\n",
    "        pcen_expl = (pca.explained_variance_ratio_).sum()\n",
    "        # Add the value to the empty list\n",
    "        explained.append(pcen_expl)\n",
    "        \n",
    "    # return the explained list\n",
    "    return explained"
   ]
  },
  {
   "cell_type": "code",
   "execution_count": 155,
   "id": "f4dfb0df-7179-4b7c-a0e7-595bfeab1759",
   "metadata": {
    "tags": []
   },
   "outputs": [],
   "source": [
    "class PyTorchClassifier:\n",
    "    '''\n",
    "    Originally written by S. Peck and A. Mahmoud, Adapted for this project by S. Peck.\n",
    "    \n",
    "    '''\n",
    "    def __init__(self,\n",
    "                 device,\n",
    "                 n_features,\n",
    "                 out_features,\n",
    "                 neurons,\n",
    "                 layers,\n",
    "                 activation_function,\n",
    "                 loss_function,\n",
    "                 n_epochs,\n",
    "                 learning_rate,\n",
    "                 random_state):\n",
    "        \n",
    "        self._param_string = (str(device) +', '+ str(n_features) +', '+ str(out_features) +', '+ str(neurons) +', '+ str(layers) +', '+ str(activation_function) +', '+str(loss_function)+', '+ str(n_epochs) +', '+ str(learning_rate) +', '+ str(random_state))\n",
    "        torch.manual_seed(random_state)\n",
    "        self.epochs = n_epochs\n",
    "        self.activation_function = activation_function\n",
    "        self.loss_function = loss_function\n",
    "        self.model = (self.ClassifierNetwork(input_features=n_features,output_features=out_features,neurons=neurons, layers=layers, activation_function = self.activation_function)).to(device)\n",
    "        self.optimizer = torch.optim.SGD(params = self.model.parameters(), lr=learning_rate)\n",
    "        \n",
    "    def train_model(self, features, classes):\n",
    "        for epoch in range(self.epochs):\n",
    "            \n",
    "            self.model.train()\n",
    "            \n",
    "            class_logits = self.model(features)\n",
    "            \n",
    "            class_predictions = torch.softmax(class_logits, dim=1).argmax(dim=1)\n",
    "            \n",
    "            loss = self.loss_function(class_logits, classes)\n",
    "            \n",
    "            self.optimizer.zero_grad()\n",
    "            \n",
    "            loss.backward()\n",
    "            \n",
    "            self.optimizer.step()\n",
    "            \n",
    "        return self.model\n",
    "    \n",
    "    def accuracy_score(self, y_true, y_pred):\n",
    "        valid = torch.eq(y_true, y_pred).sum()\n",
    "        acc = (valid/len(y_pred))\n",
    "        return acc\n",
    "    \n",
    "    def test_model(self, features, classes):\n",
    "        \n",
    "        test_logits = self.model(features)\n",
    "        \n",
    "        test_predictions = torch.softmax(test_logits, dim=1).argmax(dim=1)\n",
    "\n",
    "        test_loss = self.loss_function(test_logits,\n",
    "                                       classes)\n",
    "        \n",
    "        test_acc = self.accuracy_score(classes,\n",
    "                                       test_predictions)\n",
    "        \n",
    "        return (test_loss.item(), test_acc)\n",
    "        \n",
    "    class ClassifierNetwork(nn.Module):\n",
    "        def __init__(self, input_features, output_features, neurons, layers, activation_function):\n",
    "            super().__init__()\n",
    "            \n",
    "            self.linear_layer_stack = nn.Sequential()\n",
    "            self.linear_layer_stack.append(nn.Linear(in_features = input_features, out_features = neurons))\n",
    "            \n",
    "            for i in range(layers-1):\n",
    "                \n",
    "                self.linear_layer_stack.append(activation_function)\n",
    "                \n",
    "                if (i == (layers-2)):\n",
    "                    self.linear_layer_stack.append(nn.Linear(in_features=neurons, out_features = output_features))\n",
    "                else:\n",
    "                    self.linear_layer_stack.append(nn.Linear(in_features=neurons, out_features = neurons))\n",
    "\n",
    "\n",
    "        def forward(self, x):\n",
    "            return self.linear_layer_stack(x)\n",
    "    def __str__(self):\n",
    "        return self._param_string"
   ]
  },
  {
   "cell_type": "markdown",
   "id": "20df7bfb-9cfe-43b0-bb32-8d6ae8fe40c8",
   "metadata": {
    "tags": []
   },
   "source": [
    "#### Model Testing"
   ]
  },
  {
   "cell_type": "code",
   "execution_count": 156,
   "id": "bb98d8a5-da7f-4006-bcb1-bff2096858ca",
   "metadata": {},
   "outputs": [
    {
     "name": "stdout",
     "output_type": "stream",
     "text": [
      "\n"
     ]
    },
    {
     "data": {
      "image/png": "[encoded data removed]",
      "text/plain": [
       "<Figure size 1000x500 with 2 Axes>"
      ]
     },
     "metadata": {},
     "output_type": "display_data"
    }
   ],
   "source": [
    "GLOBAL_RANDOM_STATE = 0\n",
    "\n",
    "\n",
    "features = training_df.loc[:, training_df.columns != 'XNA_PRESENT']\n",
    "labels = training_df['XNA_PRESENT']\n",
    "\n",
    "scaler = StandardScaler()\n",
    "\n",
    "scaled_features = features.copy()\n",
    "scaled_features = pd.DataFrame(scaler.fit_transform(scaled_features))\n",
    "\n",
    "component_list = list(np.arange(1,25, 1))\n",
    "explained_variances = find_pca_components(component_list, scaled_features)\n",
    "\n",
    "dy = np.diff(explained_variances)\n",
    "dx = np.diff(component_list)\n",
    "\n",
    "deriv = dy/dx\n",
    "fig, ax = plt.subplots(1,2, figsize = (10,5))\n",
    "ax[0].plot(component_list, explained_variances)\n",
    "ax[0].grid()\n",
    "ax[0].set_title('Total Explained Variance Ratio vs n_components')\n",
    "ax[0].set_xlabel('n_components')\n",
    "ax[0].set_ylabel('Total Explained Variance Ratio')\n",
    "ax[1].plot(component_list[1:], dy/dx)\n",
    "ax[1].grid()\n",
    "ax[1].set_title('Rate of change of EV vs n_components')\n",
    "ax[1].set_xlabel('n_components')\n",
    "ax[1].set_ylabel('Rate of Change of EV Ratio')\n",
    "print()"
   ]
  },
  {
   "cell_type": "code",
   "execution_count": 158,
   "id": "c4e3668a-2c15-4471-8a13-9d891db44a81",
   "metadata": {
    "tags": []
   },
   "outputs": [
    {
     "name": "stdout",
     "output_type": "stream",
     "text": [
      "Component Variance Ratio:  [0.18624856 0.15856012 0.13881847 0.11234404 0.08407899 0.07162416\n",
      " 0.04792559 0.03501145 0.02982248 0.02408112 0.02258169 0.0174062\n",
      " 0.01596652 0.0154596  0.01044603 0.00960661 0.00562343 0.00391431\n",
      " 0.00158654 0.00145165]\n",
      "Total Explained Variance Ratio:  0.9925575559724917\n"
     ]
    }
   ],
   "source": [
    "# Set up principal component analysis with 10 components, \n",
    "pca = PCA(n_components = 20, random_state=GLOBAL_RANDOM_STATE)\n",
    "pca.fit(scaled_features)\n",
    "x_pca = pca.transform(scaled_features)\n",
    "evrs = pca.explained_variance_ratio_\n",
    "\n",
    "labels.reset_index(drop=True)\n",
    "x_tr, x_te, y_tr, y_te = train_test_split(x_pca,\n",
    "                                          labels,\n",
    "                                          test_size=.3,\n",
    "                                          random_state = GLOBAL_RANDOM_STATE)\n",
    "\n",
    "print(\"Component Variance Ratio: \", evrs)\n",
    "print(\"Total Explained Variance Ratio: \", evrs.sum())"
   ]
  },
  {
   "cell_type": "markdown",
   "id": "996c3dcc-4e61-4e54-b778-c2765e035011",
   "metadata": {
    "jp-MarkdownHeadingCollapsed": true,
    "tags": []
   },
   "source": [
    "### Parameter Optimization Stuff\n"
   ]
  },
  {
   "cell_type": "code",
   "execution_count": 229,
   "id": "f4ea8b7e-f3ed-4dfe-baac-ee884c0553a9",
   "metadata": {
    "tags": []
   },
   "outputs": [
    {
     "name": "stdout",
     "output_type": "stream",
     "text": [
      "Training: 0.9603023529052734, Testing: 0.9568302035331726\n"
     ]
    }
   ],
   "source": [
    "# Set up device for pytorch\n",
    "device = (\n",
    "    \"cuda\"\n",
    "    if torch.cuda.is_available()\n",
    "    else \"mps\"\n",
    "    if torch.backends.mps.is_available()\n",
    "    else \"cpu\"\n",
    ")\n",
    "\n",
    "\n",
    "# Convert training data to tensors\n",
    "tr_x_tensor = torch.tensor(x_tr).type(torch.float).to(device)\n",
    "tr_y_tensor = torch.tensor(np.asarray(y_tr)).type(torch.LongTensor).to(device)\n",
    "\n",
    "# Convert testing data to tensors\n",
    "te_x_tensor = torch.tensor(x_te).type(torch.float).to(device)\n",
    "te_y_tensor = torch.tensor(np.asarray(y_te)).type(torch.LongTensor).to(device)\n",
    "\n",
    "# number of features\n",
    "feature_num = tr_x_tensor.shape[1]\n",
    "\n",
    "out_features = 2\n",
    "\n",
    "epochs = 100\n",
    "\n",
    "l_rate = .1\n",
    "\n",
    "rs=42\n",
    "\n",
    "neurons=10\n",
    "layers = 3\n",
    "\n",
    "loss_fxn = nn.CrossEntropyLoss()\n",
    "actv_fxn = nn.ReLU()\n",
    "\n",
    "PTmodel = PyTorchClassifier(device=device,\n",
    "                            n_features = feature_num,\n",
    "                            out_features = out_features,\n",
    "                            neurons = neurons,\n",
    "                            layers = layers,\n",
    "                            activation_function = actv_fxn,\n",
    "                            loss_function = loss_fxn,\n",
    "                            n_epochs=epochs,\n",
    "                            learning_rate=l_rate,\n",
    "                            random_state=rs)\n",
    "\n",
    "PTmodel.train_model(tr_x_tensor, tr_y_tensor)\n",
    "train_loss, train_acc = PTmodel.test_model(tr_x_tensor, tr_y_tensor)\n",
    "test_loss, test_acc = PTmodel.test_model(te_x_tensor, te_y_tensor)\n",
    "\n",
    "print(\"Training: {}, Testing: {}\".format(train_acc, test_acc))"
   ]
  },
  {
   "cell_type": "code",
   "execution_count": 103,
   "id": "a047252f-d1ee-415b-937e-afe8f26d5530",
   "metadata": {},
   "outputs": [
    {
     "data": {
      "text/plain": [
       "\" FULL FACTORIAL COMBINATION TO FIND PARAMS\\npytorch_params = {'device':[device],\\n                  'n_features':[feature_num],\\n                  'out_features':[out_features],\\n                  'neurons':[5, 10, 50, 100, 200],\\n                  'layers':[1, 5, 10, 20, 50],\\n                  'activation_function':[nn.ReLU(), nn.LeakyReLU(), nn.Sigmoid(), nn.Tanh(), nn.Softmax()],\\n                  'loss_function':[nn.NLLLoss(),\\n                                   nn.CrossEntropyLoss()],\\n                  'n_epochs':[5, 10, 100, 1000],\\n                  'learning_rate':[.001, .01, 1],\\n                  'random_state':[rs]}\\n\\nparam_keys = list(pytorch_params.keys())\\nparam_lists = []\\n\\nfor key in param_keys:\\n    value_list = pytorch_params[key]\\n    param_lists.append(value_list)\\n    \\nmodel_combos = list(itertools.product(*param_lists))\\n\""
      ]
     },
     "execution_count": 103,
     "metadata": {},
     "output_type": "execute_result"
    }
   ],
   "source": [
    "''' FULL FACTORIAL COMBINATION TO FIND PARAMS\n",
    "pytorch_params = {'device':[device],\n",
    "                  'n_features':[feature_num],\n",
    "                  'out_features':[out_features],\n",
    "                  'neurons':[5, 10, 50, 100, 200],\n",
    "                  'layers':[1, 5, 10, 20, 50],\n",
    "                  'activation_function':[nn.ReLU(), nn.LeakyReLU(), nn.Sigmoid(), nn.Tanh(), nn.Softmax()],\n",
    "                  'loss_function':[nn.NLLLoss(),\n",
    "                                   nn.CrossEntropyLoss()],\n",
    "                  'n_epochs':[5, 10, 100, 1000],\n",
    "                  'learning_rate':[.001, .01, 1],\n",
    "                  'random_state':[rs]}\n",
    "\n",
    "param_keys = list(pytorch_params.keys())\n",
    "param_lists = []\n",
    "\n",
    "for key in param_keys:\n",
    "    value_list = pytorch_params[key]\n",
    "    param_lists.append(value_list)\n",
    "    \n",
    "model_combos = list(itertools.product(*param_lists))\n",
    "'''"
   ]
  },
  {
   "cell_type": "code",
   "execution_count": 104,
   "id": "361538b0-2243-4b0d-ad34-4ca66f1f2d35",
   "metadata": {
    "tags": []
   },
   "outputs": [
    {
     "ename": "NameError",
     "evalue": "name 'model_combos' is not defined",
     "output_type": "error",
     "traceback": [
      "\u001b[0;31m---------------------------------------------------------------------------\u001b[0m",
      "\u001b[0;31mNameError\u001b[0m                                 Traceback (most recent call last)",
      "Cell \u001b[0;32mIn[104], line 7\u001b[0m\n\u001b[1;32m      4\u001b[0m i \u001b[38;5;241m=\u001b[39m \u001b[38;5;241m0\u001b[39m\n\u001b[1;32m      6\u001b[0m \u001b[38;5;66;03m# Loop through each possible combination of parameters.\u001b[39;00m\n\u001b[0;32m----> 7\u001b[0m \u001b[38;5;28;01mfor\u001b[39;00m params \u001b[38;5;129;01min\u001b[39;00m \u001b[43mmodel_combos\u001b[49m:\n\u001b[1;32m      8\u001b[0m     \n\u001b[1;32m      9\u001b[0m     \u001b[38;5;66;03m# Print percentage progress\u001b[39;00m\n\u001b[1;32m     10\u001b[0m     \u001b[38;5;28mprint\u001b[39m(percenttobar(i\u001b[38;5;241m/\u001b[39m\u001b[38;5;28mlen\u001b[39m(model_combos)), end\u001b[38;5;241m=\u001b[39m\u001b[38;5;124m'\u001b[39m\u001b[38;5;130;01m\\r\u001b[39;00m\u001b[38;5;124m'\u001b[39m)\n\u001b[1;32m     12\u001b[0m     \u001b[38;5;66;03m# Generate the model from the current parameters\u001b[39;00m\n",
      "\u001b[0;31mNameError\u001b[0m: name 'model_combos' is not defined"
     ]
    }
   ],
   "source": [
    "results_dict = {}\n",
    "\n",
    "# Iteration index for keeping progress\n",
    "i = 0\n",
    "\n",
    "# Loop through each possible combination of parameters.\n",
    "for params in model_combos:\n",
    "    \n",
    "    # Print percentage progress\n",
    "    print(percenttobar(i/len(model_combos)), end='\\r')\n",
    "    \n",
    "    # Generate the model from the current parameters\n",
    "    test_model = PyTorchClassifier(*params)\n",
    "    \n",
    "    # Here, we generate the key of the model based on it's params\n",
    "    key = params\n",
    "    \n",
    "    # Train the model\n",
    "    test_model.train_model(tr_x_tensor, tr_y_tensor)\n",
    "    \n",
    "    # Test the model on training and testing data\n",
    "    train_loss, train_acc = test_model.test_model(tr_x_tensor, tr_y_tensor)\n",
    "    test_loss, test_acc = test_model.test_model(te_x_tensor, te_y_tensor)\n",
    "    \n",
    "    # Return the results to the dictionary\n",
    "    results_dict[key] = [train_acc, test_acc]\n",
    "    \n",
    "    # Incriment the progress tracker\n",
    "    i+=1"
   ]
  },
  {
   "cell_type": "code",
   "execution_count": 105,
   "id": "814596d2-9c92-4cce-965b-4bb1e5fbc491",
   "metadata": {
    "tags": []
   },
   "outputs": [
    {
     "ename": "KeyError",
     "evalue": "0",
     "output_type": "error",
     "traceback": [
      "\u001b[0;31m---------------------------------------------------------------------------\u001b[0m",
      "\u001b[0;31mValueError\u001b[0m                                Traceback (most recent call last)",
      "File \u001b[0;32m~/.conda/envs/xna_seq/lib/python3.8/site-packages/pandas/core/indexes/range.py:345\u001b[0m, in \u001b[0;36mRangeIndex.get_loc\u001b[0;34m(self, key)\u001b[0m\n\u001b[1;32m    344\u001b[0m \u001b[38;5;28;01mtry\u001b[39;00m:\n\u001b[0;32m--> 345\u001b[0m     \u001b[38;5;28;01mreturn\u001b[39;00m \u001b[38;5;28;43mself\u001b[39;49m\u001b[38;5;241;43m.\u001b[39;49m\u001b[43m_range\u001b[49m\u001b[38;5;241;43m.\u001b[39;49m\u001b[43mindex\u001b[49m\u001b[43m(\u001b[49m\u001b[43mnew_key\u001b[49m\u001b[43m)\u001b[49m\n\u001b[1;32m    346\u001b[0m \u001b[38;5;28;01mexcept\u001b[39;00m \u001b[38;5;167;01mValueError\u001b[39;00m \u001b[38;5;28;01mas\u001b[39;00m err:\n",
      "\u001b[0;31mValueError\u001b[0m: 0 is not in range",
      "\nThe above exception was the direct cause of the following exception:\n",
      "\u001b[0;31mKeyError\u001b[0m                                  Traceback (most recent call last)",
      "Cell \u001b[0;32mIn[105], line 6\u001b[0m\n\u001b[1;32m      4\u001b[0m results_clean \u001b[38;5;241m=\u001b[39m pd\u001b[38;5;241m.\u001b[39mDataFrame(vals)\n\u001b[1;32m      5\u001b[0m results_clean \u001b[38;5;241m=\u001b[39m results_clean\u001b[38;5;241m.\u001b[39mrename(columns\u001b[38;5;241m=\u001b[39m{\u001b[38;5;241m0\u001b[39m:\u001b[38;5;124m'\u001b[39m\u001b[38;5;124mcomp.\u001b[39m\u001b[38;5;124m'\u001b[39m, \u001b[38;5;241m1\u001b[39m:\u001b[38;5;124m'\u001b[39m\u001b[38;5;124mfeatures\u001b[39m\u001b[38;5;124m'\u001b[39m, \u001b[38;5;241m2\u001b[39m:\u001b[38;5;124m'\u001b[39m\u001b[38;5;124mcategories\u001b[39m\u001b[38;5;124m'\u001b[39m, \u001b[38;5;241m3\u001b[39m:\u001b[38;5;124m'\u001b[39m\u001b[38;5;124mneurons\u001b[39m\u001b[38;5;124m'\u001b[39m, \u001b[38;5;241m4\u001b[39m:\u001b[38;5;124m'\u001b[39m\u001b[38;5;124mlayers\u001b[39m\u001b[38;5;124m'\u001b[39m,\u001b[38;5;241m5\u001b[39m:\u001b[38;5;124m'\u001b[39m\u001b[38;5;124mact_func\u001b[39m\u001b[38;5;124m'\u001b[39m,\u001b[38;5;241m6\u001b[39m:\u001b[38;5;124m'\u001b[39m\u001b[38;5;124mloss_func\u001b[39m\u001b[38;5;124m'\u001b[39m,\u001b[38;5;241m7\u001b[39m:\u001b[38;5;124m'\u001b[39m\u001b[38;5;124mepochs\u001b[39m\u001b[38;5;124m'\u001b[39m,\u001b[38;5;241m8\u001b[39m:\u001b[38;5;124m'\u001b[39m\u001b[38;5;124mlearn_rate\u001b[39m\u001b[38;5;124m'\u001b[39m, \u001b[38;5;241m9\u001b[39m:\u001b[38;5;124m'\u001b[39m\u001b[38;5;124mrand_state\u001b[39m\u001b[38;5;124m'\u001b[39m})\n\u001b[0;32m----> 6\u001b[0m results_clean[\u001b[38;5;124m'\u001b[39m\u001b[38;5;124mtraining_score\u001b[39m\u001b[38;5;124m'\u001b[39m] \u001b[38;5;241m=\u001b[39m \u001b[43mresults_df\u001b[49m\u001b[43m[\u001b[49m\u001b[38;5;241;43m0\u001b[39;49m\u001b[43m]\u001b[49m\u001b[38;5;241m.\u001b[39mapply(\u001b[38;5;28;01mlambda\u001b[39;00m x: \u001b[38;5;28mfloat\u001b[39m(\u001b[38;5;28mstr\u001b[39m(x)\u001b[38;5;241m.\u001b[39msplit(\u001b[38;5;124m\"\u001b[39m\u001b[38;5;124mtensor(\u001b[39m\u001b[38;5;124m\"\u001b[39m)[\u001b[38;5;241m1\u001b[39m]\u001b[38;5;241m.\u001b[39msplit(\u001b[38;5;124m\"\u001b[39m\u001b[38;5;124m,\u001b[39m\u001b[38;5;124m\"\u001b[39m)[\u001b[38;5;241m0\u001b[39m]))\u001b[38;5;241m.\u001b[39mvalues\n\u001b[1;32m      7\u001b[0m results_clean[\u001b[38;5;124m'\u001b[39m\u001b[38;5;124mtesting_score\u001b[39m\u001b[38;5;124m'\u001b[39m] \u001b[38;5;241m=\u001b[39m results_df[\u001b[38;5;241m1\u001b[39m]\u001b[38;5;241m.\u001b[39mapply(\u001b[38;5;28;01mlambda\u001b[39;00m x: \u001b[38;5;28mfloat\u001b[39m(\u001b[38;5;28mstr\u001b[39m(x)\u001b[38;5;241m.\u001b[39msplit(\u001b[38;5;124m\"\u001b[39m\u001b[38;5;124mtensor(\u001b[39m\u001b[38;5;124m\"\u001b[39m)[\u001b[38;5;241m1\u001b[39m]\u001b[38;5;241m.\u001b[39msplit(\u001b[38;5;124m\"\u001b[39m\u001b[38;5;124m,\u001b[39m\u001b[38;5;124m\"\u001b[39m)[\u001b[38;5;241m0\u001b[39m]))\u001b[38;5;241m.\u001b[39mvalues\n\u001b[1;32m      8\u001b[0m results_clean[\u001b[38;5;124m'\u001b[39m\u001b[38;5;124mdiff\u001b[39m\u001b[38;5;124m'\u001b[39m] \u001b[38;5;241m=\u001b[39m results_clean[\u001b[38;5;124m'\u001b[39m\u001b[38;5;124mtraining_score\u001b[39m\u001b[38;5;124m'\u001b[39m] \u001b[38;5;241m-\u001b[39m results_clean[\u001b[38;5;124m'\u001b[39m\u001b[38;5;124mtesting_score\u001b[39m\u001b[38;5;124m'\u001b[39m]\n",
      "File \u001b[0;32m~/.conda/envs/xna_seq/lib/python3.8/site-packages/pandas/core/frame.py:3761\u001b[0m, in \u001b[0;36mDataFrame.__getitem__\u001b[0;34m(self, key)\u001b[0m\n\u001b[1;32m   3759\u001b[0m \u001b[38;5;28;01mif\u001b[39;00m \u001b[38;5;28mself\u001b[39m\u001b[38;5;241m.\u001b[39mcolumns\u001b[38;5;241m.\u001b[39mnlevels \u001b[38;5;241m>\u001b[39m \u001b[38;5;241m1\u001b[39m:\n\u001b[1;32m   3760\u001b[0m     \u001b[38;5;28;01mreturn\u001b[39;00m \u001b[38;5;28mself\u001b[39m\u001b[38;5;241m.\u001b[39m_getitem_multilevel(key)\n\u001b[0;32m-> 3761\u001b[0m indexer \u001b[38;5;241m=\u001b[39m \u001b[38;5;28;43mself\u001b[39;49m\u001b[38;5;241;43m.\u001b[39;49m\u001b[43mcolumns\u001b[49m\u001b[38;5;241;43m.\u001b[39;49m\u001b[43mget_loc\u001b[49m\u001b[43m(\u001b[49m\u001b[43mkey\u001b[49m\u001b[43m)\u001b[49m\n\u001b[1;32m   3762\u001b[0m \u001b[38;5;28;01mif\u001b[39;00m is_integer(indexer):\n\u001b[1;32m   3763\u001b[0m     indexer \u001b[38;5;241m=\u001b[39m [indexer]\n",
      "File \u001b[0;32m~/.conda/envs/xna_seq/lib/python3.8/site-packages/pandas/core/indexes/range.py:347\u001b[0m, in \u001b[0;36mRangeIndex.get_loc\u001b[0;34m(self, key)\u001b[0m\n\u001b[1;32m    345\u001b[0m         \u001b[38;5;28;01mreturn\u001b[39;00m \u001b[38;5;28mself\u001b[39m\u001b[38;5;241m.\u001b[39m_range\u001b[38;5;241m.\u001b[39mindex(new_key)\n\u001b[1;32m    346\u001b[0m     \u001b[38;5;28;01mexcept\u001b[39;00m \u001b[38;5;167;01mValueError\u001b[39;00m \u001b[38;5;28;01mas\u001b[39;00m err:\n\u001b[0;32m--> 347\u001b[0m         \u001b[38;5;28;01mraise\u001b[39;00m \u001b[38;5;167;01mKeyError\u001b[39;00m(key) \u001b[38;5;28;01mfrom\u001b[39;00m \u001b[38;5;21;01merr\u001b[39;00m\n\u001b[1;32m    348\u001b[0m \u001b[38;5;28;01mif\u001b[39;00m \u001b[38;5;28misinstance\u001b[39m(key, Hashable):\n\u001b[1;32m    349\u001b[0m     \u001b[38;5;28;01mraise\u001b[39;00m \u001b[38;5;167;01mKeyError\u001b[39;00m(key)\n",
      "\u001b[0;31mKeyError\u001b[0m: 0"
     ]
    }
   ],
   "source": [
    "# Get the results into a dataframe\n",
    "results_df = pd.DataFrame.from_dict(results_dict, orient='index')\n",
    "vals = results_df.index.tolist()\n",
    "results_clean = pd.DataFrame(vals)\n",
    "results_clean = results_clean.rename(columns={0:'comp.', 1:'features', 2:'categories', 3:'neurons', 4:'layers',5:'act_func',6:'loss_func',7:'epochs',8:'learn_rate', 9:'rand_state'})\n",
    "results_clean['training_score'] = results_df[0].apply(lambda x: float(str(x).split(\"tensor(\")[1].split(\",\")[0])).values\n",
    "results_clean['testing_score'] = results_df[1].apply(lambda x: float(str(x).split(\"tensor(\")[1].split(\",\")[0])).values\n",
    "results_clean['diff'] = results_clean['training_score'] - results_clean['testing_score']\n",
    "results_clean.sort_values('testing_score', ascending=False)\n",
    "\n",
    "vals = results_df.index()\n",
    "train = results_df[0].apply(lambda x: float(str(x).split(\"tensor(\")[1].split(\",\")[0]))\n",
    "test = results_df[1].apply(lambda x: float(str(x).split(\"tensor(\")[1].split(\",\")[0]))\n",
    "\n",
    "top_training_model = list(train.sort_values(ascending=False).index)[0]\n",
    "top_training_acc = train.sort_values(ascending=False)[0]\n",
    "top_testing_model = list(test.sort_values(ascending=False).index)[0]\n",
    "top_testing_acc = test.sort_values(ascending=False)[0]"
   ]
  },
  {
   "cell_type": "code",
   "execution_count": 79,
   "id": "66df28fc-366f-46cb-b245-a5d4ca1bd7b0",
   "metadata": {
    "tags": []
   },
   "outputs": [
    {
     "name": "stdout",
     "output_type": "stream",
     "text": [
      "Best training model: ('cuda', 12, 2, 100, 5, LeakyReLU(negative_slope=0.01), CrossEntropyLoss(), 1000, 1, 42), Results = 0.9996, 0.9975\n",
      "Best tresting model: ('cuda', 12, 2, 50, 5, Tanh(), CrossEntropyLoss(), 1000, 1, 42), Results = 0.9992, 0.9977\n"
     ]
    }
   ],
   "source": [
    "print(\"Best training model: {}, Results = {}, {}\".format(top_training_model, top_training_acc, test[test.index == top_training_model][0]))\n",
    "print(\"Best tresting model: {}, Results = {}, {}\".format(top_testing_model, train[train.index == top_testing_model][0], top_testing_acc))"
   ]
  },
  {
   "cell_type": "code",
   "execution_count": 78,
   "id": "fb98b4cb-1c22-4d70-94cf-80852abcbb77",
   "metadata": {
    "tags": []
   },
   "outputs": [
    {
     "data": {
      "text/plain": [
       "0.9975"
      ]
     },
     "execution_count": 78,
     "metadata": {},
     "output_type": "execute_result"
    }
   ],
   "source": [
    "test[test.index == top_training_model][0]"
   ]
  },
  {
   "cell_type": "code",
   "execution_count": 80,
   "id": "dc644cdf-b638-47ea-af20-466b453b29b4",
   "metadata": {
    "tags": []
   },
   "outputs": [
    {
     "data": {
      "text/plain": [
       "(cuda, 12, 2, 50, 5, Tanh(), CrossEntropyLoss(), 1000, 1, 42)                              0.9977\n",
       "(cuda, 12, 2, 200, 5, ReLU(), CrossEntropyLoss(), 1000, 1, 42)                             0.9977\n",
       "(cuda, 12, 2, 100, 5, LeakyReLU(negative_slope=0.01), CrossEntropyLoss(), 1000, 1, 42)     0.9975\n",
       "(cuda, 12, 2, 100, 5, ReLU(), CrossEntropyLoss(), 1000, 1, 42)                             0.9975\n",
       "(cuda, 12, 2, 100, 10, LeakyReLU(negative_slope=0.01), CrossEntropyLoss(), 1000, 1, 42)    0.9974\n",
       "                                                                                            ...  \n",
       "(cuda, 12, 2, 200, 1, Sigmoid(), CrossEntropyLoss(), 10, 0.01, 42)                         0.0001\n",
       "(cuda, 12, 2, 200, 1, Sigmoid(), CrossEntropyLoss(), 100, 0.001, 42)                       0.0001\n",
       "(cuda, 12, 2, 200, 1, Tanh(), NLLLoss(), 5, 0.001, 42)                                     0.0001\n",
       "(cuda, 12, 2, 200, 1, Tanh(), NLLLoss(), 5, 0.01, 42)                                      0.0001\n",
       "(cuda, 12, 2, 200, 1, Sigmoid(), NLLLoss(), 100, 0.001, 42)                                0.0001\n",
       "Name: 1, Length: 3000, dtype: float64"
      ]
     },
     "execution_count": 80,
     "metadata": {},
     "output_type": "execute_result"
    }
   ],
   "source": [
    "test.sort_values(ascending=False)"
   ]
  },
  {
   "cell_type": "markdown",
   "id": "44f79eea-2ca7-403b-bace-f0916a68a339",
   "metadata": {},
   "source": [
    "### Model Validation"
   ]
  },
  {
   "cell_type": "code",
   "execution_count": 177,
   "id": "68ef9716-92fb-4e69-a43a-385c4d38fbe7",
   "metadata": {
    "tags": []
   },
   "outputs": [
    {
     "name": "stdout",
     "output_type": "stream",
     "text": [
      "Training: 0.9719980955123901, Testing: 0.9725914001464844\n",
      "Training misclassified/strand: -2.696251392364502, Testing misclassified/strand: -2.6179351806640625\n"
     ]
    }
   ],
   "source": [
    "# Set up device for pytorch\n",
    "device = (\n",
    "    \"cuda\"\n",
    "    if torch.cuda.is_available()\n",
    "    else \"mps\"\n",
    "    if torch.backends.mps.is_available()\n",
    "    else \"cpu\"\n",
    ")\n",
    "\n",
    "\n",
    "# Convert training data to tensors\n",
    "tr_x_tensor = torch.tensor(x_tr).type(torch.float).to(device)\n",
    "tr_y_tensor = torch.tensor(np.asarray(y_tr)).type(torch.LongTensor).to(device)\n",
    "\n",
    "# Convert testing data to tensors\n",
    "te_x_tensor = torch.tensor(x_te).type(torch.float).to(device)\n",
    "te_y_tensor = torch.tensor(np.asarray(y_te)).type(torch.LongTensor).to(device)\n",
    "\n",
    "# number of features\n",
    "feature_num = tr_x_tensor.shape[1]\n",
    "\n",
    "out_features = 2\n",
    "\n",
    "epochs = 2000\n",
    "\n",
    "l_rate = .01\n",
    "\n",
    "rs=42\n",
    "\n",
    "neurons=50\n",
    "layers = 3\n",
    "\n",
    "loss_fxn = nn.CrossEntropyLoss()\n",
    "actv_fxn = nn.Tanh()\n",
    "\n",
    "PTmodel = PyTorchClassifier(device=device,\n",
    "                            n_features = feature_num,\n",
    "                            out_features = out_features,\n",
    "                            neurons = neurons,\n",
    "                            layers = layers,\n",
    "                            activation_function = actv_fxn,\n",
    "                            loss_function = loss_fxn,\n",
    "                            n_epochs=epochs,\n",
    "                            learning_rate=l_rate,\n",
    "                            random_state=rs)\n",
    "\n",
    "PTmodel.train_model(tr_x_tensor, tr_y_tensor)\n",
    "train_loss, train_acc = PTmodel.test_model(tr_x_tensor, tr_y_tensor)\n",
    "test_loss, test_acc = PTmodel.test_model(te_x_tensor, te_y_tensor)\n",
    "\n",
    "print(\"Training: {}, Testing: {}\".format(train_acc, test_acc))\n",
    "print(\"Training misclassified/strand: {}, Testing misclassified/strand: {}\".format(1-(132-train_acc.item()*132),1-(132-test_acc.item()*132)))"
   ]
  },
  {
   "cell_type": "code",
   "execution_count": 196,
   "id": "c4e1e491-5a24-434b-b3e4-cdb7c30159b4",
   "metadata": {},
   "outputs": [
    {
     "name": "stdout",
     "output_type": "stream",
     "text": [
      "[(41, 1), (42, 1), (63, 1), (65, 1), (66, 2), (85, 1), (88, 1)]\n"
     ]
    },
    {
     "data": {
      "image/png": "[encoded data removed]",
      "text/plain": [
       "<Figure size 250x200 with 2 Axes>"
      ]
     },
     "metadata": {},
     "output_type": "display_data"
    }
   ],
   "source": [
    "predictions = []\n",
    "trues = []\n",
    "idx=99\n",
    "top = batch_ranges[idx][1]\n",
    "bot = batch_ranges[idx][0]\n",
    "for i in range(top-bot + 1):\n",
    "    test_consensus = pd.concat(feature_read_list[bot+i:bot+i+1])[:]\n",
    "    test_xna_bases = test_consensus[test_consensus['XNA_PRESENT'] == 1]#.reset_index(drop=True)\n",
    "    test_rand_bases = test_consensus[test_consensus['XNA_PRESENT'] == 0]\n",
    "    training_df = pd.concat([test_xna_bases, test_rand_bases]).reset_index(drop=True)\n",
    "    #test_consensus = test_consensus.dropna(how='any')\n",
    "\n",
    "    strand_features = torch.tensor(pca.transform(test_consensus.loc[:, test_consensus.columns != 'XNA_PRESENT'])).type(torch.float).to(device)\n",
    "    strand_labels = torch.tensor(np.asarray(test_consensus['XNA_PRESENT'])).type(torch.LongTensor).to(device)\n",
    "\n",
    "    strand_logits = PTmodel.model(strand_features)\n",
    "\n",
    "    strand_predictions = torch.softmax(strand_logits, dim=1).argmax(dim=1)\n",
    "    predictions.append(strand_predictions.tolist())\n",
    "    trues.append(strand_labels.tolist())\n",
    "comp_df = pd.DataFrame(predictions)\n",
    "t_df = pd.DataFrame(trues)\n",
    "sum_true = t_df.sum()\n",
    "sum_pred = comp_df.sum()\n",
    "sum_true[sum_true > 0]=1\n",
    "sum_pred[sum_pred > 0]=1\n",
    "\n",
    "from sklearn.metrics import confusion_matrix\n",
    "cm = confusion_matrix(sum_true.tolist(), sum_pred.tolist())\n",
    "fig, ax = plt.subplots(1, figsize=(2.5, 2))\n",
    "sns.heatmap(cm, annot=True, fmt='g', ax=ax)\n",
    "ax.set_xlabel(\"Predicted Labels\")\n",
    "ax.set_ylabel(\"True Labels\")\n",
    "ax.set_title(\"Confusion Matrix\")\n",
    "indexes = list(sum_pred[sum_pred > 0].index)\n",
    "sums = list(comp_df.sum()[comp_df.sum() > 0])\n",
    "print(list(zip(indexes, sums)))\n",
    "plt.show()"
   ]
  },
  {
   "cell_type": "code",
   "execution_count": 113,
   "id": "04e7e3dd-08ce-4c0f-adff-0fa9de9100d5",
   "metadata": {
    "tags": []
   },
   "outputs": [],
   "source": [
    "comp_df = pd.DataFrame([strand_labels.tolist(), strand_predictions.tolist()]).T\n",
    "comp_df = comp_df.rename(columns={0:\"True Label\", 1:\"Predicted Label\"})"
   ]
  },
  {
   "cell_type": "code",
   "execution_count": 114,
   "id": "78d753e0-bfa7-45d9-9792-26ec04be6f6d",
   "metadata": {
    "tags": []
   },
   "outputs": [
    {
     "data": {
      "image/png": "[encoded data removed]",
      "text/plain": [
       "<Figure size 250x200 with 2 Axes>"
      ]
     },
     "metadata": {},
     "output_type": "display_data"
    }
   ],
   "source": [
    "from sklearn.metrics import confusion_matrix\n",
    "cm = confusion_matrix(sum_true.tolist(), sum_pred.tolist())\n",
    "fig, ax = plt.subplots(1, figsize=(2.5, 2))\n",
    "sns.heatmap(cm, annot=True, fmt='g', ax=ax)\n",
    "ax.set_xlabel(\"Predicted Labels\")\n",
    "ax.set_ylabel(\"True Labels\")\n",
    "ax.set_title(\"Confusion Matrix\")\n",
    "plt.show()"
   ]
  },
  {
   "cell_type": "code",
   "execution_count": 235,
   "id": "745fc8f1-53da-4ee4-ba16-5a89fce11462",
   "metadata": {
    "tags": []
   },
   "outputs": [
    {
     "data": {
      "text/plain": [
       "2660"
      ]
     },
     "execution_count": 235,
     "metadata": {},
     "output_type": "execute_result"
    }
   ],
   "source": [
    "len(test_consensus)"
   ]
  },
  {
   "cell_type": "code",
   "execution_count": 69,
   "id": "4a2ed8fe-9eaa-44b9-8aa4-4de6b5a0e388",
   "metadata": {
    "tags": []
   },
   "outputs": [
    {
     "data": {
      "text/plain": [
       "array([0, 0, 0, 0, 0, 0, 0, 0, 0, 0, 0, 0, 0, 0, 0, 0, 0, 0, 0, 0, 0, 0,\n",
       "       0, 0, 0, 0, 0, 0, 0, 0, 0, 0, 0, 0, 0, 0, 0, 0, 0, 0, 0, 0, 0, 0,\n",
       "       0, 0, 0, 0, 0, 0, 0, 0, 0, 0, 0, 0, 0, 0, 0, 0, 0, 0, 0, 0, 0, 0,\n",
       "       1, 0, 0, 0, 0, 0, 0, 0, 0, 0, 0, 0, 0, 0, 0, 0, 0, 0, 0, 0, 0, 0,\n",
       "       0, 0, 0, 0, 0, 0, 0, 0, 0, 0, 0, 0, 0, 0, 0, 0, 0, 0, 0, 0, 0, 0,\n",
       "       0, 0, 0, 0, 0, 0, 0, 0, 0, 0, 0, 0, 0, 0, 0, 0, 0, 0, 0, 0, 0, 0,\n",
       "       0])"
      ]
     },
     "execution_count": 69,
     "metadata": {},
     "output_type": "execute_result"
    }
   ],
   "source": [
    "np.asarray(test_consensus['XNA_PRESENT'])"
   ]
  },
  {
   "cell_type": "code",
   "execution_count": 70,
   "id": "7b706011-19c4-4b39-af00-72ff43710ffa",
   "metadata": {
    "tags": []
   },
   "outputs": [
    {
     "data": {
      "text/plain": [
       "tensor([0, 0, 0, 0, 0, 0, 0, 0, 0, 0, 0, 0, 0, 0, 0, 0, 0, 0, 0, 0, 0, 0, 0, 0,\n",
       "        0, 0, 0, 0, 0, 0, 0, 0, 0, 0, 0, 0, 0, 0, 0, 0, 0, 0, 0, 0, 0, 0, 0, 0,\n",
       "        0, 0, 0, 0, 0, 0, 0, 0, 0, 0, 0, 0, 0, 0, 0, 0, 0, 0, 1, 0, 0, 0, 0, 0,\n",
       "        0, 0, 0, 0, 0, 0, 0, 0, 0, 0, 0, 0, 0, 0, 0, 0, 0, 0, 0, 0, 0, 0, 0, 0,\n",
       "        0, 0, 0, 0, 0, 0, 0, 0, 0, 0, 0, 0, 0, 0, 0, 0, 0, 0, 0, 0, 0, 0, 0, 0,\n",
       "        0, 0, 0, 0, 0, 0, 0, 0, 0, 0, 0, 0, 0], device='cuda:0')"
      ]
     },
     "execution_count": 70,
     "metadata": {},
     "output_type": "execute_result"
    }
   ],
   "source": [
    "strand_labels"
   ]
  },
  {
   "cell_type": "code",
   "execution_count": null,
   "id": "a3f432af-eda1-45d3-a08a-d2e306d82300",
   "metadata": {},
   "outputs": [],
   "source": []
  }
 ],
 "metadata": {
  "kernelspec": {
   "display_name": "xna_seq",
   "language": "python",
   "name": "xna_seq"
  },
  "language_info": {
   "codemirror_mode": {
    "name": "ipython",
    "version": 3
   },
   "file_extension": ".py",
   "mimetype": "text/x-python",
   "name": "python",
   "nbconvert_exporter": "python",
   "pygments_lexer": "ipython3",
   "version": "3.8.18"
  }
 },
 "nbformat": 4,
 "nbformat_minor": 5
}
