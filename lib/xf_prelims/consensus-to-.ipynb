{
 "cells": [
  {
   "cell_type": "code",
   "execution_count": 4,
   "id": "5c008d8e-9c39-4549-becb-f6bbadf72f63",
   "metadata": {
    "tags": []
   },
   "outputs": [],
   "source": [
    "import subprocess\n",
    "import os\n",
    "import sys\n",
    "sys.path.append('..//model_gen')\n",
    "import setup_methods\n",
    "import pandas as pd\n",
    "import aggregate_reads\n",
    "\n",
    "working_directory = '/media/sebastian/Slepnir/xenofind_datasets/Working_directory_PZ/'\n",
    "ref_fasta = \"/media/sebastian/Slepnir/xenofind_datasets/xref_libv2_PZ_CxDx.fa\"\n",
    "working_subdir=''\n",
    "fasta_path = ''\n",
    "IS_TRAINING = True\n",
    "\n",
    "if IS_TRAINING:\n",
    "    fasta_path = ref_fasta\n",
    "    working_subdir = 'model_training/'\n",
    "else:\n",
    "    working_subdir = 'model_testing/'\n",
    "    fasta_path = working_directory + working_subdir + 'consensus.fa'\n",
    "    \n",
    "bam_path = working_directory + working_subdir + 'basecall_directory/fwd_filtered.bam'\n",
    "pod5_path = working_directory + working_subdir + 'merged_pod5/merged.pod5'\n",
    "json_dir = working_directory + working_subdir + 'json_files/'\n",
    "parquet_dir = working_directory + working_subdir + 'parquet_superdirectory/'\n",
    "batch_size = 100\n",
    "\n",
    "# convert the json files to constituent parquet files based on batch size\n"
   ]
  },
  {
   "cell_type": "code",
   "execution_count": 3,
   "id": "cac62f7e-06c3-4f03-8cbc-13ab37737904",
   "metadata": {},
   "outputs": [],
   "source": [
    "import subprocess\n",
    "import os\n",
    "import sys\n",
    "sys.path.append('..//model_gen')\n",
    "import setup_methods\n",
    "\n",
    "working_directory = '/home/sebastian/Documents/GitHub/XenoFind/data/large_working_directory/'\n",
    "ref_fasta = \"/home/sebastian/Documents/GitHub/XenoFind/data/reads_large/230725_PZ_lib_v4_r10/fasta/good.fa\"\n",
    "working_subdir=''\n",
    "fasta_path = ''\n",
    "IS_TRAINING = True\n",
    "\n",
    "if IS_TRAINING:\n",
    "    fasta_path = ref_fasta\n",
    "    working_subdir = 'model_training/'\n",
    "else:\n",
    "    working_subdir = 'model_testing/'\n",
    "    fasta_path = working_directory + working_subdir + 'consensus.fa'\n",
    "    \n",
    "bam_path = working_directory + working_subdir + 'basecall_directory/aligned.bam'\n",
    "pod5_path = working_directory + working_subdir + 'merged_pod5/merged.pod5'\n",
    "json_dir = working_directory + working_subdir + 'json_files/'\n",
    "parquet_dir = working_directory + working_subdir + 'parquet_superdirectory/'\n",
    "batch_size = 100\n",
    "\n",
    "# convert the json files to constituent parquet files based on batch size\n"
   ]
  },
  {
   "cell_type": "code",
   "execution_count": null,
   "id": "c844d07c-327a-4977-8731-778aba4a6ac8",
   "metadata": {
    "tags": []
   },
   "outputs": [],
   "source": [
    "# Aggregate the reads to individual json files.\n",
    "subprocess.run(['python',\n",
    "                'aggregate_reads.py',\n",
    "                '-v',\n",
    "                '-y',\n",
    "                '-bam',bam_path,\n",
    "                '-pod5',pod5_path,\n",
    "                '-fasta',fasta_path,\n",
    "                '-output',json_dir])\n"
   ]
  },
  {
   "cell_type": "code",
   "execution_count": 15,
   "id": "82cbab97-7205-4ed8-8e31-b75e0e0c7537",
   "metadata": {
    "tags": []
   },
   "outputs": [
    {
     "name": "stdout",
     "output_type": "stream",
     "text": [
      "[ aggregate_reads.py 2024-05-23 11:36:06.710044 ] Process started.\n",
      "|                    |  3.741%3 11:36:06.710377 ]  Reading Bam at /home/sebastian/Documents/GitHub/XenoFind/data/large_working_directory/model_training/basecall_directory/aligned.bam...\r"
     ]
    },
    {
     "name": "stderr",
     "output_type": "stream",
     "text": [
      "IOPub data rate exceeded.\n",
      "The Jupyter server will temporarily stop sending output\n",
      "to the client in order to avoid crashing it.\n",
      "To change this limit, set the config variable\n",
      "`--ServerApp.iopub_data_rate_limit`.\n",
      "\n",
      "Current values:\n",
      "ServerApp.iopub_data_rate_limit=1000000.0 (bytes/sec)\n",
      "ServerApp.rate_limit_window=3.0 (secs)\n",
      "\n"
     ]
    },
    {
     "name": "stdout",
     "output_type": "stream",
     "text": [
      "|==                  |  12.066%\r"
     ]
    },
    {
     "name": "stderr",
     "output_type": "stream",
     "text": [
      "IOPub data rate exceeded.\n",
      "The Jupyter server will temporarily stop sending output\n",
      "to the client in order to avoid crashing it.\n",
      "To change this limit, set the config variable\n",
      "`--ServerApp.iopub_data_rate_limit`.\n",
      "\n",
      "Current values:\n",
      "ServerApp.iopub_data_rate_limit=1000000.0 (bytes/sec)\n",
      "ServerApp.rate_limit_window=3.0 (secs)\n",
      "\n"
     ]
    },
    {
     "name": "stdout",
     "output_type": "stream",
     "text": [
      "[ aggregate_reads.py 2024-05-23 11:36:13.507420 ] Bam read.                                                                                                                           \n",
      "[ aggregate_reads.py 2024-05-23 11:36:13.541778 ] Fasta read.                                                                                                                           \n",
      "|████████████████████████████████████████| 4092/4092 [100%] in 35.9s (114.07/s)  pod5 file at /home/sebastian/Documents/GitHub/XenoFind/data/large_working_directory/model_training/merged_pod5/merged.pod5...\n",
      "[ aggregate_reads.py {} ] Aggregation complete.                                                                                                                           \n",
      "[ aggregate_reads.py 2024-05-23 11:36:49.907308 ] Data batched.                            \n",
      "[ aggregate_reads.py 2024-05-23 11:36:49.907323 ] Consensus Reads Data Generated.                                                                                                             \n"
     ]
    }
   ],
   "source": [
    "consensus_iterator = aggregate_reads.main(pod5_path, bam_path, fasta_path, parquet_dir, export=False, batchsize=100, verb=True)"
   ]
  },
  {
   "cell_type": "code",
   "execution_count": 17,
   "id": "8f683580-eb5c-43cf-a0fc-48df0d9ccfa9",
   "metadata": {
    "tags": []
   },
   "outputs": [],
   "source": [
    "consensus_iterator_copy = consensus_iterator"
   ]
  },
  {
   "cell_type": "code",
   "execution_count": 18,
   "id": "1d688209-8d19-44ae-941a-ae2f9fecf427",
   "metadata": {
    "tags": []
   },
   "outputs": [
    {
     "ename": "KeyboardInterrupt",
     "evalue": "",
     "output_type": "error",
     "traceback": [
      "\u001b[0;31m---------------------------------------------------------------------------\u001b[0m",
      "\u001b[0;31mKeyboardInterrupt\u001b[0m                         Traceback (most recent call last)",
      "Cell \u001b[0;32mIn[18], line 20\u001b[0m\n\u001b[1;32m     10\u001b[0m test \u001b[38;5;241m=\u001b[39m split_iterable(\u001b[38;5;241m128\u001b[39m, consensus_iterator_copy)\n\u001b[1;32m     11\u001b[0m \u001b[38;5;124;03m'''\u001b[39;00m\n\u001b[1;32m     12\u001b[0m \u001b[38;5;124;03mfeatures_list = []\u001b[39;00m\n\u001b[1;32m     13\u001b[0m \u001b[38;5;124;03mi=0\u001b[39;00m\n\u001b[0;32m   (...)\u001b[0m\n\u001b[1;32m     18\u001b[0m \u001b[38;5;124;03m    features_list.extend(consensus.feature_extraction(100))\u001b[39;00m\n\u001b[1;32m     19\u001b[0m \u001b[38;5;124;03m    '''\u001b[39;00m\n\u001b[0;32m---> 20\u001b[0m \u001b[38;5;28;43mlist\u001b[39;49m\u001b[43m(\u001b[49m\u001b[43mtest\u001b[49m\u001b[43m)\u001b[49m\n",
      "Cell \u001b[0;32mIn[18], line 8\u001b[0m, in \u001b[0;36msplit_iterable\u001b[0;34m(n, iterable)\u001b[0m\n\u001b[1;32m      6\u001b[0m \u001b[38;5;28;01mwhile\u001b[39;00m piece:\n\u001b[1;32m      7\u001b[0m     \u001b[38;5;28;01myield\u001b[39;00m piece\n\u001b[0;32m----> 8\u001b[0m     piece \u001b[38;5;241m=\u001b[39m \u001b[38;5;28;43mlist\u001b[39;49m\u001b[43m(\u001b[49m\u001b[43mislice\u001b[49m\u001b[43m(\u001b[49m\u001b[43mi\u001b[49m\u001b[43m,\u001b[49m\u001b[43m \u001b[49m\u001b[43mn\u001b[49m\u001b[43m)\u001b[49m\u001b[43m)\u001b[49m\n",
      "File \u001b[0;32m~/Documents/GitHub/XenoFind/lib/xf_prelims/aggregate_reads.py:584\u001b[0m, in \u001b[0;36miterable_merged_data\u001b[0;34m(aggregate_refs, alignment_data, consensus_data)\u001b[0m\n\u001b[1;32m    581\u001b[0m seq_id \u001b[38;5;241m=\u001b[39m \u001b[38;5;28mstr\u001b[39m(read\u001b[38;5;241m.\u001b[39mread_id)\n\u001b[1;32m    583\u001b[0m \u001b[38;5;66;03m# get the bamfile's read info for the sequence (Assumes no duplicate reads in a reference)\u001b[39;00m\n\u001b[0;32m--> 584\u001b[0m tmp_df \u001b[38;5;241m=\u001b[39m bam_df[\u001b[43mbam_df\u001b[49m\u001b[43m[\u001b[49m\u001b[38;5;124;43m'\u001b[39;49m\u001b[38;5;124;43mref_name\u001b[39;49m\u001b[38;5;124;43m'\u001b[39;49m\u001b[43m]\u001b[49m\u001b[38;5;241;43m==\u001b[39;49m\u001b[43mref_name\u001b[49m]\n\u001b[1;32m    585\u001b[0m bam_read_info \u001b[38;5;241m=\u001b[39m tmp_df[tmp_df[\u001b[38;5;124m'\u001b[39m\u001b[38;5;124mseq_id\u001b[39m\u001b[38;5;124m'\u001b[39m] \u001b[38;5;241m==\u001b[39m seq_id]\u001b[38;5;241m.\u001b[39miloc[\u001b[38;5;241m0\u001b[39m]\n\u001b[1;32m    587\u001b[0m \u001b[38;5;66;03m# get the sequence, quality, cigar string, length, reference,\u001b[39;00m\n\u001b[1;32m    588\u001b[0m \u001b[38;5;66;03m#reversibility, moves, signal length, trim offset, sampling frequency,\u001b[39;00m\n\u001b[1;32m    589\u001b[0m \u001b[38;5;66;03m# signal, positional offset to reference. \u001b[39;00m\n",
      "File \u001b[0;32m~/.conda/envs/xna_seq/lib/python3.8/site-packages/pandas/core/ops/common.py:81\u001b[0m, in \u001b[0;36m_unpack_zerodim_and_defer.<locals>.new_method\u001b[0;34m(self, other)\u001b[0m\n\u001b[1;32m     77\u001b[0m             \u001b[38;5;28;01mreturn\u001b[39;00m \u001b[38;5;28mNotImplemented\u001b[39m\n\u001b[1;32m     79\u001b[0m other \u001b[38;5;241m=\u001b[39m item_from_zerodim(other)\n\u001b[0;32m---> 81\u001b[0m \u001b[38;5;28;01mreturn\u001b[39;00m \u001b[43mmethod\u001b[49m\u001b[43m(\u001b[49m\u001b[38;5;28;43mself\u001b[39;49m\u001b[43m,\u001b[49m\u001b[43m \u001b[49m\u001b[43mother\u001b[49m\u001b[43m)\u001b[49m\n",
      "File \u001b[0;32m~/.conda/envs/xna_seq/lib/python3.8/site-packages/pandas/core/arraylike.py:40\u001b[0m, in \u001b[0;36mOpsMixin.__eq__\u001b[0;34m(self, other)\u001b[0m\n\u001b[1;32m     38\u001b[0m \u001b[38;5;129m@unpack_zerodim_and_defer\u001b[39m(\u001b[38;5;124m\"\u001b[39m\u001b[38;5;124m__eq__\u001b[39m\u001b[38;5;124m\"\u001b[39m)\n\u001b[1;32m     39\u001b[0m \u001b[38;5;28;01mdef\u001b[39;00m \u001b[38;5;21m__eq__\u001b[39m(\u001b[38;5;28mself\u001b[39m, other):\n\u001b[0;32m---> 40\u001b[0m     \u001b[38;5;28;01mreturn\u001b[39;00m \u001b[38;5;28;43mself\u001b[39;49m\u001b[38;5;241;43m.\u001b[39;49m\u001b[43m_cmp_method\u001b[49m\u001b[43m(\u001b[49m\u001b[43mother\u001b[49m\u001b[43m,\u001b[49m\u001b[43m \u001b[49m\u001b[43moperator\u001b[49m\u001b[38;5;241;43m.\u001b[39;49m\u001b[43meq\u001b[49m\u001b[43m)\u001b[49m\n",
      "File \u001b[0;32m~/.conda/envs/xna_seq/lib/python3.8/site-packages/pandas/core/series.py:6096\u001b[0m, in \u001b[0;36mSeries._cmp_method\u001b[0;34m(self, other, op)\u001b[0m\n\u001b[1;32m   6093\u001b[0m rvalues \u001b[38;5;241m=\u001b[39m extract_array(other, extract_numpy\u001b[38;5;241m=\u001b[39m\u001b[38;5;28;01mTrue\u001b[39;00m, extract_range\u001b[38;5;241m=\u001b[39m\u001b[38;5;28;01mTrue\u001b[39;00m)\n\u001b[1;32m   6095\u001b[0m \u001b[38;5;28;01mwith\u001b[39;00m np\u001b[38;5;241m.\u001b[39merrstate(\u001b[38;5;28mall\u001b[39m\u001b[38;5;241m=\u001b[39m\u001b[38;5;124m\"\u001b[39m\u001b[38;5;124mignore\u001b[39m\u001b[38;5;124m\"\u001b[39m):\n\u001b[0;32m-> 6096\u001b[0m     res_values \u001b[38;5;241m=\u001b[39m \u001b[43mops\u001b[49m\u001b[38;5;241;43m.\u001b[39;49m\u001b[43mcomparison_op\u001b[49m\u001b[43m(\u001b[49m\u001b[43mlvalues\u001b[49m\u001b[43m,\u001b[49m\u001b[43m \u001b[49m\u001b[43mrvalues\u001b[49m\u001b[43m,\u001b[49m\u001b[43m \u001b[49m\u001b[43mop\u001b[49m\u001b[43m)\u001b[49m\n\u001b[1;32m   6098\u001b[0m \u001b[38;5;28;01mreturn\u001b[39;00m \u001b[38;5;28mself\u001b[39m\u001b[38;5;241m.\u001b[39m_construct_result(res_values, name\u001b[38;5;241m=\u001b[39mres_name)\n",
      "File \u001b[0;32m~/.conda/envs/xna_seq/lib/python3.8/site-packages/pandas/core/ops/array_ops.py:293\u001b[0m, in \u001b[0;36mcomparison_op\u001b[0;34m(left, right, op)\u001b[0m\n\u001b[1;32m    290\u001b[0m     \u001b[38;5;28;01mreturn\u001b[39;00m invalid_comparison(lvalues, rvalues, op)\n\u001b[1;32m    292\u001b[0m \u001b[38;5;28;01melif\u001b[39;00m is_object_dtype(lvalues\u001b[38;5;241m.\u001b[39mdtype) \u001b[38;5;129;01mor\u001b[39;00m \u001b[38;5;28misinstance\u001b[39m(rvalues, \u001b[38;5;28mstr\u001b[39m):\n\u001b[0;32m--> 293\u001b[0m     res_values \u001b[38;5;241m=\u001b[39m \u001b[43mcomp_method_OBJECT_ARRAY\u001b[49m\u001b[43m(\u001b[49m\u001b[43mop\u001b[49m\u001b[43m,\u001b[49m\u001b[43m \u001b[49m\u001b[43mlvalues\u001b[49m\u001b[43m,\u001b[49m\u001b[43m \u001b[49m\u001b[43mrvalues\u001b[49m\u001b[43m)\u001b[49m\n\u001b[1;32m    295\u001b[0m \u001b[38;5;28;01melse\u001b[39;00m:\n\u001b[1;32m    296\u001b[0m     res_values \u001b[38;5;241m=\u001b[39m _na_arithmetic_op(lvalues, rvalues, op, is_cmp\u001b[38;5;241m=\u001b[39m\u001b[38;5;28;01mTrue\u001b[39;00m)\n",
      "File \u001b[0;32m~/.conda/envs/xna_seq/lib/python3.8/site-packages/pandas/core/ops/array_ops.py:82\u001b[0m, in \u001b[0;36mcomp_method_OBJECT_ARRAY\u001b[0;34m(op, x, y)\u001b[0m\n\u001b[1;32m     80\u001b[0m     result \u001b[38;5;241m=\u001b[39m libops\u001b[38;5;241m.\u001b[39mvec_compare(x\u001b[38;5;241m.\u001b[39mravel(), y\u001b[38;5;241m.\u001b[39mravel(), op)\n\u001b[1;32m     81\u001b[0m \u001b[38;5;28;01melse\u001b[39;00m:\n\u001b[0;32m---> 82\u001b[0m     result \u001b[38;5;241m=\u001b[39m \u001b[43mlibops\u001b[49m\u001b[38;5;241;43m.\u001b[39;49m\u001b[43mscalar_compare\u001b[49m\u001b[43m(\u001b[49m\u001b[43mx\u001b[49m\u001b[38;5;241;43m.\u001b[39;49m\u001b[43mravel\u001b[49m\u001b[43m(\u001b[49m\u001b[43m)\u001b[49m\u001b[43m,\u001b[49m\u001b[43m \u001b[49m\u001b[43my\u001b[49m\u001b[43m,\u001b[49m\u001b[43m \u001b[49m\u001b[43mop\u001b[49m\u001b[43m)\u001b[49m\n\u001b[1;32m     83\u001b[0m \u001b[38;5;28;01mreturn\u001b[39;00m result\u001b[38;5;241m.\u001b[39mreshape(x\u001b[38;5;241m.\u001b[39mshape)\n",
      "\u001b[0;31mKeyboardInterrupt\u001b[0m: "
     ]
    }
   ],
   "source": [
    "from itertools import tee\n",
    "\n",
    "def split_gen(iterable):\n",
    "    gen_a, gen_b, gen_c, gen_d = tee(iterable, 4)\n",
    "    return (a for a, b, in gen )\n",
    "test = split_iterable(128, consensus_iterator_copy)\n",
    "'''\n",
    "features_list = []\n",
    "i=0\n",
    "n=4096\n",
    "for consensus in consensus_iterator_copy:\n",
    "    i+= 1\n",
    "    print(percenttobar(i/n), end='\\r')\n",
    "    features_list.extend(consensus.feature_extraction(100))\n",
    "    '''\n",
    "list(test)"
   ]
  },
  {
   "cell_type": "code",
   "execution_count": 20,
   "id": "46af3df2-6696-41b9-a43c-047038f9d3ae",
   "metadata": {
    "tags": []
   },
   "outputs": [
    {
     "name": "stdout",
     "output_type": "stream",
     "text": [
      "python aggregate_reads.py -v -y -bam /media/sebastian/Slepnir/xenofind_datasets/Working_directory_PZ/model_training/basecall_directory/fwd_filtered.bam -pod5 /media/sebastian/Slepnir/xenofind_datasets/Working_directory_PZ/model_training/merged_pod5/merged.pod5 -fasta /media/sebastian/Slepnir/xenofind_datasets/xref_libv2_PZ_CxDx.fa -output /media/sebastian/Slepnir/xenofind_datasets/Working_directory_PZ/model_training/parquet_superdirectory/ \n"
     ]
    }
   ],
   "source": [
    "out_str = \"\"\n",
    "for item in ['python',\n",
    "                'aggregate_reads.py',\n",
    "                '-v',\n",
    "                '-y',\n",
    "                '-bam',bam_path,\n",
    "                '-pod5',pod5_path,\n",
    "                '-fasta',fasta_path,\n",
    "                '-output',parquet_dir]:\n",
    "    out_str = out_str + item + \" \"\n",
    "print(out_str)"
   ]
  },
  {
   "cell_type": "code",
   "execution_count": 10,
   "id": "9d368193-1574-4e06-9d0f-8074524a9dd4",
   "metadata": {
    "tags": []
   },
   "outputs": [],
   "source": [
    "import os\n",
    "os.getcwd()\n",
    "import sys\n",
    "sys.path.append('/media')"
   ]
  },
  {
   "cell_type": "code",
   "execution_count": null,
   "id": "fb7d2293-e6ae-4fe0-8c67-ad5bd04d1d1f",
   "metadata": {
    "tags": []
   },
   "outputs": [],
   "source": [
    "import os\n",
    "from elevate import elevate\n",
    "\n",
    "def is_root():\n",
    "    return os.getuid() == 0\n",
    "\n",
    "print(\"before \", is_root())\n",
    "elevate()\n",
    "print(\"after \", is_root())"
   ]
  },
  {
   "cell_type": "code",
   "execution_count": 4,
   "id": "94166d8a-6b51-4656-86af-8fa95a4dbd44",
   "metadata": {
    "tags": []
   },
   "outputs": [
    {
     "name": "stdout",
     "output_type": "stream",
     "text": [
      "Collecting elevate\n",
      "  Downloading elevate-0.1.3.tar.gz (2.9 kB)\n",
      "  Preparing metadata (setup.py) ... \u001b[?25ldone\n",
      "\u001b[?25hBuilding wheels for collected packages: elevate\n",
      "  Building wheel for elevate (setup.py) ... \u001b[?25ldone\n",
      "\u001b[?25h  Created wheel for elevate: filename=elevate-0.1.3-py3-none-any.whl size=3922 sha256=4a7eeecc870f62d7675c6a2e6b138967f7b687a376abd7c998fb34c798237882\n",
      "  Stored in directory: /home/sebastian/.cache/pip/wheels/ac/90/af/847736c9ae07da61f9bee81757ce54f2d52ec5b2c056965c1a\n",
      "Successfully built elevate\n",
      "Installing collected packages: elevate\n",
      "Successfully installed elevate-0.1.3\n",
      "Note: you may need to restart the kernel to use updated packages.\n"
     ]
    }
   ],
   "source": []
  },
  {
   "cell_type": "code",
   "execution_count": 23,
   "id": "94ad4d58-3015-4baf-85e8-d6028cfddbcb",
   "metadata": {
    "tags": []
   },
   "outputs": [],
   "source": [
    "import json\n",
    "fp = \"/media/sebastian/Slepnir/conTCCAGGA+XPOS[P-66].json\"\n",
    "\n",
    "with open(fp, 'a+') as file:\n",
    "    file.write(json.dumps(['ass']))\n"
   ]
  },
  {
   "cell_type": "code",
   "execution_count": 16,
   "id": "22980f90-3e42-43ab-812e-7d2e622ec7cb",
   "metadata": {
    "tags": []
   },
   "outputs": [
    {
     "data": {
      "text/plain": [
       "[]"
      ]
     },
     "execution_count": 16,
     "metadata": {},
     "output_type": "execute_result"
    }
   ],
   "source": [
    "import os\n",
    "os.listdir(\"/media/sebastian/Slepnir/xenofind_datasets/Working_directory_PZ/model_training/json_files\")"
   ]
  },
  {
   "cell_type": "code",
   "execution_count": 17,
   "id": "7b7c98e3-d856-4cdf-9771-3817dfd94652",
   "metadata": {
    "tags": []
   },
   "outputs": [],
   "source": [
    "def percenttobar(frac):\n",
    "    bar_str = \"|\"\n",
    "    max_bars = 20\n",
    "    perc = frac*2000\n",
    "    n_bars = int(perc/100)\n",
    "    for i in range(n_bars):\n",
    "        bar_str += \"=\"\n",
    "    for i in range(max_bars-n_bars):\n",
    "        bar_str += \" \"\n",
    "    bar_str += \"|  {}%                \".format(round(frac*100, 3))\n",
    "    return bar_str\n",
    "    "
   ]
  },
  {
   "cell_type": "code",
   "execution_count": 27,
   "id": "efd5d412-5e8d-4613-b405-e6b77f884672",
   "metadata": {
    "tags": []
   },
   "outputs": [
    {
     "data": {
      "text/plain": [
       "'|=======             |  35.802%                '"
      ]
     },
     "execution_count": 27,
     "metadata": {},
     "output_type": "execute_result"
    }
   ],
   "source": [
    "percenttobar(87/243)"
   ]
  },
  {
   "cell_type": "code",
   "execution_count": null,
   "id": "251f6755-2a29-43ba-8376-6e6801e7ab88",
   "metadata": {
    "tags": []
   },
   "outputs": [],
   "source": [
    "# convert the json files to batched parquet files\n",
    "import datetime\n",
    "json_files = os.listdir(json_dir)\n",
    "n_files = len(json_files)\n",
    "i = 0\n",
    "lasttime = datetime.datetime.now()\n",
    "totaltime = 0\n",
    "for file in json_files[:]:\n",
    "    json_filepath = json_dir + file\n",
    "    subdirectory = parquet_dir + file.split('.')[0] + '/'\n",
    "    setup_methods.check_make_dir(subdirectory, False)\n",
    "    subprocess.run(['python',\n",
    "                    'feature_extraction.py',\n",
    "                    #'--verbose',\n",
    "                    '-batch_size', str(batch_size),\n",
    "                    '-json_path', json_filepath,\n",
    "                    '-output', subdirectory])\n",
    "    ct = datetime.datetime.now()\n",
    "    totaltime += (ct- lasttime).total_seconds()\n",
    "    lasttime = ct\n",
    "    i+= 1\n",
    "    print(percenttobar(i/n_files) + \" {}/{} files, est: {}\".format(i, n_files, datetime.timedelta(seconds=n_files*(totaltime/i))), end='\\r')"
   ]
  },
  {
   "cell_type": "code",
   "execution_count": 24,
   "id": "4639d1e8-4219-4bdf-b741-f806165893af",
   "metadata": {
    "tags": []
   },
   "outputs": [],
   "source": [
    "\n",
    "import pandas as pd\n",
    "# load the parquet files to dataframes and combine to a list\n",
    "parquet_subdirs = os.listdir(parquet_dir)\n",
    "\n",
    "feature_read_list = []\n",
    "for subdir in parquet_subdirs[:]:\n",
    "    for parquet in os.listdir(parquet_dir + subdir):\n",
    "        path = parquet_dir+subdir+\"/\"+parquet\n",
    "        feature_read_list.append(pd.read_parquet(path))\n",
    "        \n",
    "assembled_df = pd.concat(feature_read_list).reset_index(drop=True)"
   ]
  },
  {
   "cell_type": "code",
   "execution_count": 25,
   "id": "e4a53cfc-e8ec-4f4c-8f80-ebc7c7d6d45c",
   "metadata": {
    "tags": []
   },
   "outputs": [
    {
     "data": {
      "text/html": [
       "<div>\n",
       "<style scoped>\n",
       "    .dataframe tbody tr th:only-of-type {\n",
       "        vertical-align: middle;\n",
       "    }\n",
       "\n",
       "    .dataframe tbody tr th {\n",
       "        vertical-align: top;\n",
       "    }\n",
       "\n",
       "    .dataframe thead th {\n",
       "        text-align: right;\n",
       "    }\n",
       "</style>\n",
       "<table border=\"1\" class=\"dataframe\">\n",
       "  <thead>\n",
       "    <tr style=\"text-align: right;\">\n",
       "      <th></th>\n",
       "      <th>XNA_PRESENT</th>\n",
       "      <th>A</th>\n",
       "      <th>G</th>\n",
       "      <th>C</th>\n",
       "      <th>T</th>\n",
       "      <th>-</th>\n",
       "      <th>+</th>\n",
       "      <th>n</th>\n",
       "      <th>mm_prob</th>\n",
       "      <th>shentropy</th>\n",
       "      <th>...</th>\n",
       "      <th>std_sig_meds_w/o</th>\n",
       "      <th>std_sig_peaks_w/o</th>\n",
       "      <th>std_sig_time_w/o</th>\n",
       "      <th>std_sig_peaks_means_w/o</th>\n",
       "      <th>median_sig_means_w/o</th>\n",
       "      <th>median_sig_stds_w/o</th>\n",
       "      <th>median_sig_meds_w/o</th>\n",
       "      <th>median_sig_peaks_w/o</th>\n",
       "      <th>median_sig_time_w/o</th>\n",
       "      <th>median_sig_peaks_means_w/o</th>\n",
       "    </tr>\n",
       "  </thead>\n",
       "  <tbody>\n",
       "    <tr>\n",
       "      <th>0</th>\n",
       "      <td>0</td>\n",
       "      <td>1.000000</td>\n",
       "      <td>0.000000</td>\n",
       "      <td>0.000000</td>\n",
       "      <td>0.000000</td>\n",
       "      <td>0.000000</td>\n",
       "      <td>0.0</td>\n",
       "      <td>66</td>\n",
       "      <td>0.000000</td>\n",
       "      <td>-0.000000</td>\n",
       "      <td>...</td>\n",
       "      <td>18.159775</td>\n",
       "      <td>1.572967e+06</td>\n",
       "      <td>0.001230</td>\n",
       "      <td>1.572967e+06</td>\n",
       "      <td>92.588207</td>\n",
       "      <td>14.139677</td>\n",
       "      <td>88.790977</td>\n",
       "      <td>1.300976e+06</td>\n",
       "      <td>0.0024</td>\n",
       "      <td>1.300976e+06</td>\n",
       "    </tr>\n",
       "    <tr>\n",
       "      <th>1</th>\n",
       "      <td>0</td>\n",
       "      <td>0.000000</td>\n",
       "      <td>1.000000</td>\n",
       "      <td>0.000000</td>\n",
       "      <td>0.000000</td>\n",
       "      <td>0.000000</td>\n",
       "      <td>0.0</td>\n",
       "      <td>72</td>\n",
       "      <td>0.000000</td>\n",
       "      <td>-0.000000</td>\n",
       "      <td>...</td>\n",
       "      <td>14.126687</td>\n",
       "      <td>9.708542e+05</td>\n",
       "      <td>0.000933</td>\n",
       "      <td>9.708542e+05</td>\n",
       "      <td>67.599174</td>\n",
       "      <td>3.843975</td>\n",
       "      <td>67.921074</td>\n",
       "      <td>5.246506e+05</td>\n",
       "      <td>0.0024</td>\n",
       "      <td>5.246506e+05</td>\n",
       "    </tr>\n",
       "    <tr>\n",
       "      <th>2</th>\n",
       "      <td>0</td>\n",
       "      <td>0.000000</td>\n",
       "      <td>0.000000</td>\n",
       "      <td>0.000000</td>\n",
       "      <td>1.000000</td>\n",
       "      <td>0.000000</td>\n",
       "      <td>0.0</td>\n",
       "      <td>74</td>\n",
       "      <td>0.000000</td>\n",
       "      <td>-0.000000</td>\n",
       "      <td>...</td>\n",
       "      <td>20.650433</td>\n",
       "      <td>4.141595e+05</td>\n",
       "      <td>0.000586</td>\n",
       "      <td>4.141595e+05</td>\n",
       "      <td>80.841816</td>\n",
       "      <td>16.865145</td>\n",
       "      <td>69.476929</td>\n",
       "      <td>3.501516e+05</td>\n",
       "      <td>0.0012</td>\n",
       "      <td>3.501516e+05</td>\n",
       "    </tr>\n",
       "    <tr>\n",
       "      <th>3</th>\n",
       "      <td>0</td>\n",
       "      <td>0.986486</td>\n",
       "      <td>0.013514</td>\n",
       "      <td>0.000000</td>\n",
       "      <td>0.000000</td>\n",
       "      <td>0.000000</td>\n",
       "      <td>0.0</td>\n",
       "      <td>74</td>\n",
       "      <td>0.013514</td>\n",
       "      <td>0.103275</td>\n",
       "      <td>...</td>\n",
       "      <td>11.676892</td>\n",
       "      <td>2.488981e+07</td>\n",
       "      <td>0.002904</td>\n",
       "      <td>2.488981e+07</td>\n",
       "      <td>107.657936</td>\n",
       "      <td>5.710141</td>\n",
       "      <td>108.373276</td>\n",
       "      <td>1.618651e+06</td>\n",
       "      <td>0.0024</td>\n",
       "      <td>1.618651e+06</td>\n",
       "    </tr>\n",
       "    <tr>\n",
       "      <th>4</th>\n",
       "      <td>0</td>\n",
       "      <td>0.000000</td>\n",
       "      <td>0.000000</td>\n",
       "      <td>0.961039</td>\n",
       "      <td>0.025974</td>\n",
       "      <td>0.012987</td>\n",
       "      <td>0.0</td>\n",
       "      <td>77</td>\n",
       "      <td>0.038961</td>\n",
       "      <td>0.273286</td>\n",
       "      <td>...</td>\n",
       "      <td>6.926920</td>\n",
       "      <td>6.006314e+05</td>\n",
       "      <td>0.000606</td>\n",
       "      <td>6.006314e+05</td>\n",
       "      <td>100.969551</td>\n",
       "      <td>3.327648</td>\n",
       "      <td>99.842907</td>\n",
       "      <td>4.099338e+05</td>\n",
       "      <td>0.0012</td>\n",
       "      <td>4.099338e+05</td>\n",
       "    </tr>\n",
       "    <tr>\n",
       "      <th>...</th>\n",
       "      <td>...</td>\n",
       "      <td>...</td>\n",
       "      <td>...</td>\n",
       "      <td>...</td>\n",
       "      <td>...</td>\n",
       "      <td>...</td>\n",
       "      <td>...</td>\n",
       "      <td>...</td>\n",
       "      <td>...</td>\n",
       "      <td>...</td>\n",
       "      <td>...</td>\n",
       "      <td>...</td>\n",
       "      <td>...</td>\n",
       "      <td>...</td>\n",
       "      <td>...</td>\n",
       "      <td>...</td>\n",
       "      <td>...</td>\n",
       "      <td>...</td>\n",
       "      <td>...</td>\n",
       "      <td>...</td>\n",
       "      <td>...</td>\n",
       "    </tr>\n",
       "    <tr>\n",
       "      <th>10502</th>\n",
       "      <td>0</td>\n",
       "      <td>0.000000</td>\n",
       "      <td>1.000000</td>\n",
       "      <td>0.000000</td>\n",
       "      <td>0.000000</td>\n",
       "      <td>0.000000</td>\n",
       "      <td>0.0</td>\n",
       "      <td>34</td>\n",
       "      <td>0.000000</td>\n",
       "      <td>-0.000000</td>\n",
       "      <td>...</td>\n",
       "      <td>13.790530</td>\n",
       "      <td>3.679034e+05</td>\n",
       "      <td>0.000605</td>\n",
       "      <td>3.679034e+05</td>\n",
       "      <td>76.979004</td>\n",
       "      <td>10.553144</td>\n",
       "      <td>71.783886</td>\n",
       "      <td>3.212435e+05</td>\n",
       "      <td>0.0012</td>\n",
       "      <td>3.212435e+05</td>\n",
       "    </tr>\n",
       "    <tr>\n",
       "      <th>10503</th>\n",
       "      <td>0</td>\n",
       "      <td>0.000000</td>\n",
       "      <td>0.000000</td>\n",
       "      <td>0.000000</td>\n",
       "      <td>1.000000</td>\n",
       "      <td>0.000000</td>\n",
       "      <td>0.0</td>\n",
       "      <td>34</td>\n",
       "      <td>0.000000</td>\n",
       "      <td>-0.000000</td>\n",
       "      <td>...</td>\n",
       "      <td>24.550093</td>\n",
       "      <td>3.315718e+05</td>\n",
       "      <td>0.000287</td>\n",
       "      <td>3.315718e+05</td>\n",
       "      <td>94.942860</td>\n",
       "      <td>8.754654</td>\n",
       "      <td>94.531544</td>\n",
       "      <td>3.405965e+05</td>\n",
       "      <td>0.0012</td>\n",
       "      <td>3.405965e+05</td>\n",
       "    </tr>\n",
       "    <tr>\n",
       "      <th>10504</th>\n",
       "      <td>0</td>\n",
       "      <td>1.000000</td>\n",
       "      <td>0.000000</td>\n",
       "      <td>0.000000</td>\n",
       "      <td>0.000000</td>\n",
       "      <td>0.000000</td>\n",
       "      <td>0.0</td>\n",
       "      <td>30</td>\n",
       "      <td>0.000000</td>\n",
       "      <td>-0.000000</td>\n",
       "      <td>...</td>\n",
       "      <td>11.615044</td>\n",
       "      <td>6.312829e+06</td>\n",
       "      <td>0.002443</td>\n",
       "      <td>6.312829e+06</td>\n",
       "      <td>107.806973</td>\n",
       "      <td>8.057109</td>\n",
       "      <td>110.090080</td>\n",
       "      <td>2.189198e+06</td>\n",
       "      <td>0.0024</td>\n",
       "      <td>2.189198e+06</td>\n",
       "    </tr>\n",
       "    <tr>\n",
       "      <th>10505</th>\n",
       "      <td>0</td>\n",
       "      <td>0.000000</td>\n",
       "      <td>0.000000</td>\n",
       "      <td>1.000000</td>\n",
       "      <td>0.000000</td>\n",
       "      <td>0.000000</td>\n",
       "      <td>0.0</td>\n",
       "      <td>29</td>\n",
       "      <td>0.000000</td>\n",
       "      <td>-0.000000</td>\n",
       "      <td>...</td>\n",
       "      <td>6.087853</td>\n",
       "      <td>7.421179e+05</td>\n",
       "      <td>0.000590</td>\n",
       "      <td>7.421179e+05</td>\n",
       "      <td>101.237816</td>\n",
       "      <td>3.064484</td>\n",
       "      <td>101.076859</td>\n",
       "      <td>3.788087e+05</td>\n",
       "      <td>0.0012</td>\n",
       "      <td>3.788087e+05</td>\n",
       "    </tr>\n",
       "    <tr>\n",
       "      <th>10506</th>\n",
       "      <td>0</td>\n",
       "      <td>0.000000</td>\n",
       "      <td>0.000000</td>\n",
       "      <td>0.000000</td>\n",
       "      <td>1.000000</td>\n",
       "      <td>0.000000</td>\n",
       "      <td>0.0</td>\n",
       "      <td>28</td>\n",
       "      <td>0.000000</td>\n",
       "      <td>-0.000000</td>\n",
       "      <td>...</td>\n",
       "      <td>9.104077</td>\n",
       "      <td>6.386293e+05</td>\n",
       "      <td>0.000609</td>\n",
       "      <td>6.386293e+05</td>\n",
       "      <td>102.668480</td>\n",
       "      <td>7.646780</td>\n",
       "      <td>101.398762</td>\n",
       "      <td>1.357390e+06</td>\n",
       "      <td>0.0024</td>\n",
       "      <td>1.357390e+06</td>\n",
       "    </tr>\n",
       "  </tbody>\n",
       "</table>\n",
       "<p>10507 rows × 53 columns</p>\n",
       "</div>"
      ],
      "text/plain": [
       "       XNA_PRESENT         A         G         C         T         -    +   n  \\\n",
       "0                0  1.000000  0.000000  0.000000  0.000000  0.000000  0.0  66   \n",
       "1                0  0.000000  1.000000  0.000000  0.000000  0.000000  0.0  72   \n",
       "2                0  0.000000  0.000000  0.000000  1.000000  0.000000  0.0  74   \n",
       "3                0  0.986486  0.013514  0.000000  0.000000  0.000000  0.0  74   \n",
       "4                0  0.000000  0.000000  0.961039  0.025974  0.012987  0.0  77   \n",
       "...            ...       ...       ...       ...       ...       ...  ...  ..   \n",
       "10502            0  0.000000  1.000000  0.000000  0.000000  0.000000  0.0  34   \n",
       "10503            0  0.000000  0.000000  0.000000  1.000000  0.000000  0.0  34   \n",
       "10504            0  1.000000  0.000000  0.000000  0.000000  0.000000  0.0  30   \n",
       "10505            0  0.000000  0.000000  1.000000  0.000000  0.000000  0.0  29   \n",
       "10506            0  0.000000  0.000000  0.000000  1.000000  0.000000  0.0  28   \n",
       "\n",
       "        mm_prob  shentropy  ...  std_sig_meds_w/o  std_sig_peaks_w/o  \\\n",
       "0      0.000000  -0.000000  ...         18.159775       1.572967e+06   \n",
       "1      0.000000  -0.000000  ...         14.126687       9.708542e+05   \n",
       "2      0.000000  -0.000000  ...         20.650433       4.141595e+05   \n",
       "3      0.013514   0.103275  ...         11.676892       2.488981e+07   \n",
       "4      0.038961   0.273286  ...          6.926920       6.006314e+05   \n",
       "...         ...        ...  ...               ...                ...   \n",
       "10502  0.000000  -0.000000  ...         13.790530       3.679034e+05   \n",
       "10503  0.000000  -0.000000  ...         24.550093       3.315718e+05   \n",
       "10504  0.000000  -0.000000  ...         11.615044       6.312829e+06   \n",
       "10505  0.000000  -0.000000  ...          6.087853       7.421179e+05   \n",
       "10506  0.000000  -0.000000  ...          9.104077       6.386293e+05   \n",
       "\n",
       "       std_sig_time_w/o  std_sig_peaks_means_w/o  median_sig_means_w/o  \\\n",
       "0              0.001230             1.572967e+06             92.588207   \n",
       "1              0.000933             9.708542e+05             67.599174   \n",
       "2              0.000586             4.141595e+05             80.841816   \n",
       "3              0.002904             2.488981e+07            107.657936   \n",
       "4              0.000606             6.006314e+05            100.969551   \n",
       "...                 ...                      ...                   ...   \n",
       "10502          0.000605             3.679034e+05             76.979004   \n",
       "10503          0.000287             3.315718e+05             94.942860   \n",
       "10504          0.002443             6.312829e+06            107.806973   \n",
       "10505          0.000590             7.421179e+05            101.237816   \n",
       "10506          0.000609             6.386293e+05            102.668480   \n",
       "\n",
       "       median_sig_stds_w/o  median_sig_meds_w/o  median_sig_peaks_w/o  \\\n",
       "0                14.139677            88.790977          1.300976e+06   \n",
       "1                 3.843975            67.921074          5.246506e+05   \n",
       "2                16.865145            69.476929          3.501516e+05   \n",
       "3                 5.710141           108.373276          1.618651e+06   \n",
       "4                 3.327648            99.842907          4.099338e+05   \n",
       "...                    ...                  ...                   ...   \n",
       "10502            10.553144            71.783886          3.212435e+05   \n",
       "10503             8.754654            94.531544          3.405965e+05   \n",
       "10504             8.057109           110.090080          2.189198e+06   \n",
       "10505             3.064484           101.076859          3.788087e+05   \n",
       "10506             7.646780           101.398762          1.357390e+06   \n",
       "\n",
       "       median_sig_time_w/o  median_sig_peaks_means_w/o  \n",
       "0                   0.0024                1.300976e+06  \n",
       "1                   0.0024                5.246506e+05  \n",
       "2                   0.0012                3.501516e+05  \n",
       "3                   0.0024                1.618651e+06  \n",
       "4                   0.0012                4.099338e+05  \n",
       "...                    ...                         ...  \n",
       "10502               0.0012                3.212435e+05  \n",
       "10503               0.0012                3.405965e+05  \n",
       "10504               0.0024                2.189198e+06  \n",
       "10505               0.0012                3.788087e+05  \n",
       "10506               0.0024                1.357390e+06  \n",
       "\n",
       "[10507 rows x 53 columns]"
      ]
     },
     "execution_count": 25,
     "metadata": {},
     "output_type": "execute_result"
    }
   ],
   "source": [
    "assembled_df"
   ]
  },
  {
   "cell_type": "markdown",
   "id": "0a4643a7-91b7-4ae2-a0b8-0c63b7851c84",
   "metadata": {
    "tags": []
   },
   "source": [
    "### ML Modeling------\n",
    "The following pipeline was written by S. Peck and A. Mahmoud for ChemE 545 in Fall of 2023. It has been adapted for the current implimentation by S. Peck. "
   ]
  },
  {
   "cell_type": "markdown",
   "id": "afbda831-3f38-408a-89d3-1b8f25e39b86",
   "metadata": {
    "tags": []
   },
   "source": [
    "#### ML modeling methods"
   ]
  },
  {
   "cell_type": "code",
   "execution_count": 8,
   "id": "6e80cf01-1540-4a46-9435-298f5787e295",
   "metadata": {
    "tags": []
   },
   "outputs": [],
   "source": [
    "def find_pca_components(comp_list, data):\n",
    "    '''\n",
    "    find_pca_components takes in a list of number of components to be used,\n",
    "    as well as feature data to be used for PCA, and returns the\n",
    "    list of total explained variance as a percent for each number of components.\n",
    "    \n",
    "    Parameters:\n",
    "    comp_list: List of ints representing number of components of interest\n",
    "    data: pandas dataframe containing scaled unit variance feature data\n",
    "    \n",
    "    Returns:\n",
    "    a list of explained variance as a percent for each number of components\n",
    "    '''\n",
    "    \n",
    "    # Set up empty list\n",
    "    explained = []\n",
    "    # Loop through all components in the list\n",
    "    for components in comp_list:\n",
    "        # Set up PCA with the number of components of interest and the global random\n",
    "        pca = PCA(n_components=components, random_state = GLOBAL_RANDOM_STATE)\n",
    "        # Fit the data\n",
    "        pca.fit(data)\n",
    "        # Get the total explained variance ratio\n",
    "        pcen_expl = (pca.explained_variance_ratio_).sum()\n",
    "        # Add the value to the empty list\n",
    "        explained.append(pcen_expl)\n",
    "        \n",
    "    # return the explained list\n",
    "    return explained"
   ]
  },
  {
   "cell_type": "code",
   "execution_count": 9,
   "id": "f4dfb0df-7179-4b7c-a0e7-595bfeab1759",
   "metadata": {
    "tags": []
   },
   "outputs": [],
   "source": [
    "class PyTorchClassifier:\n",
    "    '''\n",
    "    Originally written by S. Peck and A. Mahmoud, Adapted for this project by S. Peck.\n",
    "    \n",
    "    '''\n",
    "    def __init__(self,\n",
    "                 device,\n",
    "                 n_features,\n",
    "                 out_features,\n",
    "                 neurons,\n",
    "                 layers,\n",
    "                 activation_function,\n",
    "                 loss_function,\n",
    "                 n_epochs,\n",
    "                 learning_rate,\n",
    "                 random_state):\n",
    "        \n",
    "        self._param_string = (str(device) +', '+ str(n_features) +', '+ str(out_features) +', '+ str(neurons) +', '+ str(layers) +', '+ str(activation_function) +', '+str(loss_function)+', '+ str(n_epochs) +', '+ str(learning_rate) +', '+ str(random_state))\n",
    "        torch.manual_seed(random_state)\n",
    "        self.epochs = n_epochs\n",
    "        self.activation_function = activation_function\n",
    "        self.loss_function = loss_function\n",
    "        self.model = (self.ClassifierNetwork(input_features=n_features,output_features=out_features,neurons=neurons, layers=layers, activation_function = self.activation_function)).to(device)\n",
    "        self.optimizer = torch.optim.SGD(params = self.model.parameters(), lr=learning_rate)\n",
    "        \n",
    "    def train_model(self, features, classes):\n",
    "        for epoch in range(self.epochs):\n",
    "            \n",
    "            self.model.train()\n",
    "            \n",
    "            class_logits = self.model(features)\n",
    "            \n",
    "            class_predictions = torch.softmax(class_logits, dim=1).argmax(dim=1)\n",
    "            \n",
    "            loss = self.loss_function(class_logits, classes)\n",
    "            \n",
    "            self.optimizer.zero_grad()\n",
    "            \n",
    "            loss.backward()\n",
    "            \n",
    "            self.optimizer.step()\n",
    "            \n",
    "        return self.model\n",
    "    \n",
    "    def accuracy_score(self, y_true, y_pred):\n",
    "        valid = torch.eq(y_true, y_pred).sum()\n",
    "        acc = (valid/len(y_pred))\n",
    "        return acc\n",
    "    \n",
    "    def test_model(self, features, classes):\n",
    "        \n",
    "        test_logits = self.model(features)\n",
    "        \n",
    "        test_predictions = torch.softmax(test_logits, dim=1).argmax(dim=1)\n",
    "        \n",
    "        test_loss = self.loss_function(test_logits,\n",
    "                                       classes)\n",
    "        \n",
    "        test_acc = self.accuracy_score(classes,\n",
    "                                       test_predictions)\n",
    "        \n",
    "        return (test_loss.item(), test_acc)\n",
    "        \n",
    "    class ClassifierNetwork(nn.Module):\n",
    "        def __init__(self, input_features, output_features, neurons, layers, activation_function):\n",
    "            super().__init__()\n",
    "            \n",
    "            self.linear_layer_stack = nn.Sequential()\n",
    "            self.linear_layer_stack.append(nn.Linear(in_features = input_features, out_features = neurons))\n",
    "            \n",
    "            for i in range(layers-1):\n",
    "                \n",
    "                self.linear_layer_stack.append(activation_function)\n",
    "                \n",
    "                if (i == (layers-2)):\n",
    "                    self.linear_layer_stack.append(nn.Linear(in_features=neurons, out_features = output_features))\n",
    "                else:\n",
    "                    self.linear_layer_stack.append(nn.Linear(in_features=neurons, out_features = neurons))\n",
    "\n",
    "\n",
    "        def forward(self, x):\n",
    "            return self.linear_layer_stack(x)\n",
    "    def __str__(self):\n",
    "        return self._param_string"
   ]
  },
  {
   "cell_type": "markdown",
   "id": "20df7bfb-9cfe-43b0-bb32-8d6ae8fe40c8",
   "metadata": {},
   "source": [
    "#### Model Testing"
   ]
  },
  {
   "cell_type": "code",
   "execution_count": 10,
   "id": "a04dbd60-b0bc-4817-93cb-712ba5a89caf",
   "metadata": {
    "tags": []
   },
   "outputs": [],
   "source": [
    "# LOADINT THE PARGQUET\n",
    "import pandas as pd\n",
    "# load the parquet files to dataframes and combine to a list\n",
    "parquet_subdirs = os.listdir(parquet_dir)\n",
    "\n",
    "feature_read_list = []\n",
    "for subdir in parquet_subdirs[:]:\n",
    "    for parquet in os.listdir(parquet_dir + subdir):\n",
    "        path = parquet_dir+subdir+\"/\"+parquet\n",
    "        feature_read_list.append(pd.read_parquet(path))\n",
    "        \n",
    "assembled_df = pd.concat(feature_read_list).reset_index(drop=True)\n",
    "assembled_df = assembled_df.dropna(how='any')"
   ]
  },
  {
   "cell_type": "code",
   "execution_count": 11,
   "id": "bb98d8a5-da7f-4006-bcb1-bff2096858ca",
   "metadata": {},
   "outputs": [
    {
     "name": "stdout",
     "output_type": "stream",
     "text": [
      "\n"
     ]
    },
    {
     "data": {
      "image/png": "[encoded data removed]",
      "text/plain": [
       "<Figure size 1000x500 with 2 Axes>"
      ]
     },
     "metadata": {},
     "output_type": "display_data"
    }
   ],
   "source": [
    "from sklearn.model_selection import train_test_split\n",
    "from sklearn.preprocessing import StandardScaler\n",
    "from sklearn.decomposition import PCA\n",
    "from sklearn.tree import DecisionTreeClassifier\n",
    "from sklearn.ensemble import RandomForestClassifier\n",
    "from sklearn.neighbors import KNeighborsClassifier as KNN\n",
    "from sklearn.metrics import accuracy_score\n",
    "from sklearn.metrics import f1_score\n",
    "from sklearn.metrics import confusion_matrix\n",
    "from sklearn.model_selection import GridSearchCV\n",
    "import seaborn as sns\n",
    "import numpy as np\n",
    "import matplotlib.pyplot as plt\n",
    "import torch\n",
    "from torch import nn\n",
    "\n",
    "GLOBAL_RANDOM_STATE = 0\n",
    "\n",
    "\n",
    "features = assembled_df.loc[:, assembled_df.columns != 'XNA_PRESENT']\n",
    "labels = assembled_df['XNA_PRESENT']\n",
    "\n",
    "scaler = StandardScaler()\n",
    "\n",
    "scaled_features = features.copy()\n",
    "scaled_features = pd.DataFrame(scaler.fit_transform(scaled_features))\n",
    "\n",
    "component_list = list(np.arange(1,25, 1))\n",
    "explained_variances = find_pca_components(component_list, scaled_features)\n",
    "\n",
    "dy = np.diff(explained_variances)\n",
    "dx = np.diff(component_list)\n",
    "\n",
    "deriv = dy/dx\n",
    "fig, ax = plt.subplots(1,2, figsize = (10,5))\n",
    "ax[0].plot(component_list, explained_variances)\n",
    "ax[0].grid()\n",
    "ax[0].set_title('Total Explained Variance Ratio vs n_components')\n",
    "ax[0].set_xlabel('n_components')\n",
    "ax[0].set_ylabel('Total Explained Variance Ratio')\n",
    "ax[1].plot(component_list[1:], dy/dx)\n",
    "ax[1].grid()\n",
    "ax[1].set_title('Rate of change of EV vs n_components')\n",
    "ax[1].set_xlabel('n_components')\n",
    "ax[1].set_ylabel('Rate of Change of EV Ratio')\n",
    "print()"
   ]
  },
  {
   "cell_type": "code",
   "execution_count": 12,
   "id": "c4e3668a-2c15-4471-8a13-9d891db44a81",
   "metadata": {
    "tags": []
   },
   "outputs": [
    {
     "name": "stdout",
     "output_type": "stream",
     "text": [
      "Component Variance Ratio:  [0.21853789 0.1854632  0.17041675 0.12340891 0.07246101 0.04755431\n",
      " 0.02679416 0.02493068 0.02398991 0.02268114 0.01650882 0.01331581]\n",
      "Total Explained Variance Ratio:  0.946062603349194\n"
     ]
    }
   ],
   "source": [
    "# Set up principal component analysis with 10 components, \n",
    "pca = PCA(n_components = 12, random_state=GLOBAL_RANDOM_STATE)\n",
    "pca.fit(scaled_features)\n",
    "x_pca = pca.transform(scaled_features)\n",
    "evrs = pca.explained_variance_ratio_\n",
    "\n",
    "labels.reset_index(drop=True)\n",
    "x_tr, x_te, y_tr, y_te = train_test_split(x_pca,\n",
    "                                          labels,\n",
    "                                          test_size=.3,\n",
    "                                          random_state = GLOBAL_RANDOM_STATE)\n",
    "\n",
    "print(\"Component Variance Ratio: \", evrs)\n",
    "print(\"Total Explained Variance Ratio: \", evrs.sum())"
   ]
  },
  {
   "cell_type": "code",
   "execution_count": 14,
   "id": "f4ea8b7e-f3ed-4dfe-baac-ee884c0553a9",
   "metadata": {
    "tags": []
   },
   "outputs": [
    {
     "name": "stdout",
     "output_type": "stream",
     "text": [
      "Training: 0.9917272329330444, Testing: 0.9942101240158081\n"
     ]
    }
   ],
   "source": [
    "# Set up device for pytorch\n",
    "device = (\n",
    "    \"cuda\"\n",
    "    if torch.cuda.is_available()\n",
    "    else \"mps\"\n",
    "    if torch.backends.mps.is_available()\n",
    "    else \"cpu\"\n",
    ")\n",
    "\n",
    "\n",
    "# Convert training data to tensors\n",
    "tr_x_tensor = torch.tensor(x_tr).type(torch.float).to(device)\n",
    "tr_y_tensor = torch.tensor(np.asarray(y_tr)).type(torch.LongTensor).to(device)\n",
    "\n",
    "# Convert testing data to tensors\n",
    "te_x_tensor = torch.tensor(x_te).type(torch.float).to(device)\n",
    "te_y_tensor = torch.tensor(np.asarray(y_te)).type(torch.LongTensor).to(device)\n",
    "\n",
    "# number of features\n",
    "feature_num = tr_x_tensor.shape[1]\n",
    "\n",
    "out_features = 2\n",
    "\n",
    "epochs = 100\n",
    "\n",
    "l_rate = .1\n",
    "\n",
    "rs=42\n",
    "\n",
    "neurons=10\n",
    "layers = 3\n",
    "\n",
    "loss_fxn = nn.CrossEntropyLoss()\n",
    "actv_fxn = nn.ReLU()\n",
    "\n",
    "PTmodel = PyTorchClassifier(device=device,\n",
    "                            n_features = feature_num,\n",
    "                            out_features = out_features,\n",
    "                            neurons = neurons,\n",
    "                            layers = layers,\n",
    "                            activation_function = actv_fxn,\n",
    "                            loss_function = loss_fxn,\n",
    "                            n_epochs=epochs,\n",
    "                            learning_rate=l_rate,\n",
    "                            random_state=rs)\n",
    "\n",
    "PTmodel.train_model(tr_x_tensor, tr_y_tensor)\n",
    "train_loss, train_acc = PTmodel.test_model(tr_x_tensor, tr_y_tensor)\n",
    "test_loss, test_acc = PTmodel.test_model(te_x_tensor, te_y_tensor)\n",
    "\n",
    "print(\"Training: {}, Testing: {}\".format(train_acc, test_acc))"
   ]
  },
  {
   "cell_type": "code",
   "execution_count": 34,
   "id": "a047252f-d1ee-415b-937e-afe8f26d5530",
   "metadata": {},
   "outputs": [],
   "source": [
    "import itertools\n",
    "\n",
    "pytorch_params = {'device':[device],\n",
    "                  'n_features':[feature_num],\n",
    "                  'out_features':[out_features],\n",
    "                  'neurons':[5, 10, 50, 100, 200],\n",
    "                  'layers':[1, 5, 10, 20, 50],\n",
    "                  'activation_function':[nn.ReLU(), nn.LeakyReLU(), nn.Sigmoid(), nn.Tanh(), nn.Softmax()],\n",
    "                  'loss_function':[nn.NLLLoss(),\n",
    "                                   nn.CrossEntropyLoss()],\n",
    "                  'n_epochs':[5, 10, 100, 1000],\n",
    "                  'learning_rate':[.001, .01, 1],\n",
    "                  'random_state':[rs]}\n",
    "\n",
    "param_keys = list(pytorch_params.keys())\n",
    "param_lists = []\n",
    "\n",
    "for key in param_keys:\n",
    "    value_list = pytorch_params[key]\n",
    "    param_lists.append(value_list)\n",
    "    \n",
    "model_combos = list(itertools.product(*param_lists))"
   ]
  },
  {
   "cell_type": "code",
   "execution_count": null,
   "id": "361538b0-2243-4b0d-ad34-4ca66f1f2d35",
   "metadata": {
    "tags": []
   },
   "outputs": [
    {
     "name": "stdout",
     "output_type": "stream",
     "text": [
      "|==============      |  73.5%                  \r"
     ]
    }
   ],
   "source": [
    "results_dict = {}\n",
    "\n",
    "# Iteration index for keeping progress\n",
    "i = 0\n",
    "\n",
    "# Loop through each possible combination of parameters.\n",
    "for params in model_combos:\n",
    "    \n",
    "    # Print percentage progress\n",
    "    print(percenttobar(i/len(model_combos)), end='\\r')\n",
    "    \n",
    "    # Generate the model from the current parameters\n",
    "    test_model = PyTorchClassifier(*params)\n",
    "    \n",
    "    # Here, we generate the key of the model based on it's params\n",
    "    key = params\n",
    "    \n",
    "    # Train the model\n",
    "    test_model.train_model(tr_x_tensor, tr_y_tensor)\n",
    "    \n",
    "    # Test the model on training and testing data\n",
    "    train_loss, train_acc = test_model.test_model(tr_x_tensor, tr_y_tensor)\n",
    "    test_loss, test_acc = test_model.test_model(te_x_tensor, te_y_tensor)\n",
    "    \n",
    "    # Return the results to the dictionary\n",
    "    results_dict[key] = [train_acc, test_acc]\n",
    "    \n",
    "    # Incriment the progress tracker\n",
    "    i+=1"
   ]
  },
  {
   "cell_type": "code",
   "execution_count": null,
   "id": "bd5605b1-201b-4d0b-9609-31138ae44bc5",
   "metadata": {
    "tags": []
   },
   "outputs": [],
   "source": [
    "os.listdir(\"media/\")"
   ]
  },
  {
   "cell_type": "code",
   "execution_count": null,
   "id": "8a0e9b42-114d-4e54-817f-24d8cbc3aa98",
   "metadata": {},
   "outputs": [],
   "source": []
  }
 ],
 "metadata": {
  "kernelspec": {
   "display_name": "xna_seq",
   "language": "python",
   "name": "xna_seq"
  },
  "language_info": {
   "codemirror_mode": {
    "name": "ipython",
    "version": 3
   },
   "file_extension": ".py",
   "mimetype": "text/x-python",
   "name": "python",
   "nbconvert_exporter": "python",
   "pygments_lexer": "ipython3",
   "version": "3.8.18"
  }
 },
 "nbformat": 4,
 "nbformat_minor": 5
}
