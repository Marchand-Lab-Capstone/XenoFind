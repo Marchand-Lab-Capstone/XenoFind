{
 "cells": [
  {
   "cell_type": "code",
   "execution_count": 1,
   "id": "17346ca4-f61b-4756-b909-23c2085dfc3d",
   "metadata": {
    "tags": []
   },
   "outputs": [],
   "source": [
    "import torch\n",
    "import os\n",
    "import sys\n",
    "sys.path.append('lib/model_gen/')\n",
    "sys.path.append('../xf_prelims/')\n",
    "import xf_model_training as xmt\n",
    "import merge_consensus\n",
    "import pandas as pd\n",
    "import pod5\n",
    "import multiprocessing\n",
    "import numpy as np\n",
    "from pathlib import Path"
   ]
  },
  {
   "cell_type": "code",
   "execution_count": 2,
   "id": "78e4c3cb-4bad-406a-86c9-3a5449edabcc",
   "metadata": {
    "scrolled": true,
    "tags": []
   },
   "outputs": [],
   "source": [
    "wdir = '/media/sebastian/Slepnir/xenofind_datasets/Working_directory_PZ/'\n",
    "rdir = '/media/sebastian/Slepnir/xenofind_datasets/PZ_dataset/231117_PZn_libv4_minion/20231117_1644_MN37138_FAX70078_76df2751/fast5'\n",
    "refdir = '/media/sebastian/Slepnir/xenofind_datasets/PZ_dataset/231117_PZn_libv4_minion/fasta_metadata/ref_libv2_PZ_CxDx.fa'\n",
    "#mp5_path, al_bam_path = xmt.preprocessing(wdir, rdir, refdir)"
   ]
  },
  {
   "cell_type": "raw",
   "id": "568f93a7-a287-4386-b45c-ebad89c62e5b",
   "metadata": {},
   "source": [
    "dorado basecaller hac -x \"cuda:all\" -b 448 --no-trim --emit-moves --min-qscore 5 /media/sebastian/Slepnir/xenofind_datasets/Working_directory_PZ/model_training/merged_pod5/merged.pod5 > /media/sebastian/Slepnir/xenofind_datasets/Working_directory_PZ/model_training/basecall_directory/basecall.bam"
   ]
  },
  {
   "cell_type": "raw",
   "id": "c872dcbe-7a60-46e9-9a42-a43c1fe12686",
   "metadata": {},
   "source": [
    "pod5 convert fast5 --force-overwrite /media/sebastian/Slepnir/xenofind_datasets/PZ dataset/231117_PZn_libv4_minion/20231117_1644_MN37138_FAX70078_76df2751/fast5/*.fast5 -o /media/sebastian/Slepnir/xenofind_datasets/Working_directory_PZ/model_training/merged_pod5/merged.pod5"
   ]
  },
  {
   "cell_type": "code",
   "execution_count": 3,
   "id": "5c289e02-bb87-4f0b-a61f-352bf8d11d93",
   "metadata": {
    "tags": []
   },
   "outputs": [],
   "source": [
    "#pz_aligned_bam = merge_consensus.load_in_data('/media/sebastian/Slepnir/xenofind_datasets/Working_directory_PZ/model_training/basecall_directory/basecall.bam')\n",
    "p5 = '/home/sebastian/Documents/GitHub/XenoFind/data/large_working_directory/merged_pod5/merged.pod5'\n",
    "p5_max = '/media/sebastian/Slepnir/xenofind_datasets/Working_directory_PZ/model_training/merged_pod5/merged.pod5'\n",
    "bam = \"/home/sebastian/Documents/GitHub/XenoFind/data/large_working_directory/rough_consensus_output/large_align.bam\"\n",
    "pz_aligned_bam = merge_consensus.load_in_data(bam)"
   ]
  },
  {
   "cell_type": "code",
   "execution_count": 17,
   "id": "fd32fc83-8e22-4dcf-b889-cd6b9e795d38",
   "metadata": {
    "tags": []
   },
   "outputs": [],
   "source": [
    "bam_seq_ids = {x['seq_id'] for x in pz_aligned_bam}"
   ]
  },
  {
   "cell_type": "code",
   "execution_count": 6,
   "id": "26e472f5-9f10-4e1f-bab8-827c628e371e",
   "metadata": {
    "tags": []
   },
   "outputs": [],
   "source": [
    "bam_ref_ids = {x['ref_name'] for x in pz_aligned_bam}"
   ]
  },
  {
   "cell_type": "code",
   "execution_count": 4,
   "id": "d8d2687f-7946-4b57-92c2-c38a0e8610b6",
   "metadata": {
    "tags": []
   },
   "outputs": [],
   "source": [
    "\n",
    "class Read:\n",
    "    def __init__(self, rid, sig, freq):\n",
    "        self.read_id = rid\n",
    "        self.sig = np.array(list(sig), dtype=np.float32)\n",
    "        self.freq = freq\n",
    "        \n",
    "def iterable_reads(p5_path, valid_reads):\n",
    "    with pod5.Reader(Path(p5_path)) as pod5_file:\n",
    "        for read in pod5_file.reads(selection=valid_reads, preload=[\"samples\"]):\n",
    "            out_read = Read(read.read_id, read.signal_pa, read.run_info.sample_rate)\n",
    "            yield out_read\n",
    "            "
   ]
  },
  {
   "cell_type": "code",
   "execution_count": 5,
   "id": "e383c66a-205c-4542-932b-431f74fcb0cd",
   "metadata": {
    "tags": []
   },
   "outputs": [],
   "source": [
    "class JointBamReads:\n",
    "    def __init__(self, ref_name, readiterator):\n",
    "        self.ref_name = ref_name\n",
    "        self.read_iterator = readiterator"
   ]
  },
  {
   "cell_type": "code",
   "execution_count": 10,
   "id": "33ec079d-8793-44f4-9d43-b0933ca889bc",
   "metadata": {
    "tags": []
   },
   "outputs": [
    {
     "name": "stdout",
     "output_type": "stream",
     "text": [
      "Pool=TTCTGAAGTTCCTGGGTCTTGAAC-AGTCAGCT+GAGGACCCAGTAGGCTCATTCAAC-TTCCAGGA+XPOS[P:66]\r"
     ]
    }
   ],
   "source": [
    "with pod5.Reader(Path(p5)) as pod5_file:\n",
    "    pod5_read_ids = set(pod5_file.read_ids)\n",
    "\n",
    "aggregate_refs = []\n",
    "bam_ref_ids = [x['ref_name'] for x in pz_aligned_bam]\n",
    "for unique_ref in bam_ref_ids[:20]:\n",
    "    print(unique_ref, end='\\r')\n",
    "    temp_df = pd.DataFrame(pz_aligned_bam)\n",
    "    seqs = set(temp_df[temp_df['ref_name'] == unique_ref]['seq_id'])\n",
    "    valid_reads_in_ref = list(pod5_read_ids.intersection(seqs))\n",
    "    aggregate_refs.append(JointBamReads(unique_ref, iterable_reads(p5, valid_reads_in_ref)))\n",
    "    "
   ]
  },
  {
   "cell_type": "code",
   "execution_count": 21,
   "id": "2908f1c8-285c-47b9-847f-a5116a087c16",
   "metadata": {
    "tags": []
   },
   "outputs": [
    {
     "data": {
      "text/html": [
       "<div>\n",
       "<style scoped>\n",
       "    .dataframe tbody tr th:only-of-type {\n",
       "        vertical-align: middle;\n",
       "    }\n",
       "\n",
       "    .dataframe tbody tr th {\n",
       "        vertical-align: top;\n",
       "    }\n",
       "\n",
       "    .dataframe thead th {\n",
       "        text-align: right;\n",
       "    }\n",
       "</style>\n",
       "<table border=\"1\" class=\"dataframe\">\n",
       "  <thead>\n",
       "    <tr style=\"text-align: right;\">\n",
       "      <th></th>\n",
       "      <th>seq_id</th>\n",
       "      <th>ref_name</th>\n",
       "      <th>sequence</th>\n",
       "      <th>quality</th>\n",
       "      <th>cigar</th>\n",
       "      <th>len</th>\n",
       "      <th>ref</th>\n",
       "      <th>rev</th>\n",
       "      <th>moves</th>\n",
       "      <th>sig_len</th>\n",
       "      <th>trim_ofs</th>\n",
       "    </tr>\n",
       "  </thead>\n",
       "  <tbody>\n",
       "    <tr>\n",
       "      <th>145238</th>\n",
       "      <td>2a11fb72-4523-4fd8-83ab-68366cd8dac3</td>\n",
       "      <td>Pool=ACGTAACTTGGTTTGTTCCCTGAA-AGTCAGCT+CGAGGAG...</td>\n",
       "      <td>TGAAGATCAGTCAGCTACTGCGACGGCCTGAGCAGTTTCCCTGCCG...</td>\n",
       "      <td>[4, 4, 9, 9, 9, 10, 10, 11, 9, 9, 9, 9, 13, 13...</td>\n",
       "      <td>[(4, 9), (0, 21), (2, 1), (0, 2), (2, 2), (0, ...</td>\n",
       "      <td>94</td>\n",
       "      <td>39</td>\n",
       "      <td>True</td>\n",
       "      <td>[5, 1, 0, 1, 1, 0, 1, 0, 0, 0, 0, 1, 1, 0, 0, ...</td>\n",
       "      <td>1524</td>\n",
       "      <td>10</td>\n",
       "    </tr>\n",
       "  </tbody>\n",
       "</table>\n",
       "</div>"
      ],
      "text/plain": [
       "                                      seq_id  \\\n",
       "145238  2a11fb72-4523-4fd8-83ab-68366cd8dac3   \n",
       "\n",
       "                                                 ref_name  \\\n",
       "145238  Pool=ACGTAACTTGGTTTGTTCCCTGAA-AGTCAGCT+CGAGGAG...   \n",
       "\n",
       "                                                 sequence  \\\n",
       "145238  TGAAGATCAGTCAGCTACTGCGACGGCCTGAGCAGTTTCCCTGCCG...   \n",
       "\n",
       "                                                  quality  \\\n",
       "145238  [4, 4, 9, 9, 9, 10, 10, 11, 9, 9, 9, 9, 13, 13...   \n",
       "\n",
       "                                                    cigar  len  ref   rev  \\\n",
       "145238  [(4, 9), (0, 21), (2, 1), (0, 2), (2, 2), (0, ...   94   39  True   \n",
       "\n",
       "                                                    moves  sig_len  trim_ofs  \n",
       "145238  [5, 1, 0, 1, 1, 0, 1, 0, 0, 0, 0, 1, 1, 0, 0, ...     1524        10  "
      ]
     },
     "execution_count": 21,
     "metadata": {},
     "output_type": "execute_result"
    }
   ],
   "source": [
    "pd.DataFrame(pz_aligned_bam)[pd.DataFrame(pz_aligned_bam)['seq_id']=='2a11fb72-4523-4fd8-83ab-68366cd8dac3']"
   ]
  },
  {
   "cell_type": "code",
   "execution_count": null,
   "id": "0c4a7104-fc9b-4404-8543-c5c387b906b2",
   "metadata": {},
   "outputs": [],
   "source": [
    "class AggregateRefData:\n",
    "    def __init__(self, )"
   ]
  },
  {
   "cell_type": "code",
   "execution_count": 22,
   "id": "366e9bca-419d-478d-a294-1b8834d839f1",
   "metadata": {
    "tags": []
   },
   "outputs": [
    {
     "name": "stdout",
     "output_type": "stream",
     "text": [
      "                                      seq_id  \\\n",
      "165008  919e7400-eee7-4822-b32d-fc5b07da0c28   \n",
      "\n",
      "                                                 ref_name  \\\n",
      "165008  Pool=ACGTAACTTGGTTTGTTCCCTGAA-AGTCAGCT+CGAGGAG...   \n",
      "\n",
      "                                                 sequence  \\\n",
      "165008  AGTACTAATTTTTTTCGATACGTAACTTGGTTTGTTTGCTGAAGAT...   \n",
      "\n",
      "                                                  quality  \\\n",
      "165008  [35, 34, 33, 33, 30, 30, 30, 31, 31, 32, 32, 3...   \n",
      "\n",
      "                                                    cigar  len  ref    rev  \\\n",
      "165008  [(4, 40), (0, 61), (1, 1), (0, 10), (1, 1), (0...  123    0  False   \n",
      "\n",
      "                                                    moves  sig_len  trim_ofs  \n",
      "165008  [5, 1, 0, 0, 0, 0, 0, 0, 0, 0, 0, 0, 0, 0, 0, ...     1875        10  \n",
      "                                      seq_id  \\\n",
      "165699  36b60cab-c577-4ac1-9b57-2bd38b15e8c7   \n",
      "\n",
      "                                                 ref_name  \\\n",
      "165699  Pool=ACGTAACTTGGTTTGTTCCCTGAA-AGTCAGCT+CGAGGAG...   \n",
      "\n",
      "                                                 sequence  \\\n",
      "165699  AGTACTAATTTTTTTCGATACGTAACTTGGTTTGTTCCCTGAAGAT...   \n",
      "\n",
      "                                                  quality  \\\n",
      "165699  [32, 30, 29, 31, 20, 19, 19, 20, 27, 23, 26, 2...   \n",
      "\n",
      "                                                    cigar  len  ref    rev  \\\n",
      "165699  [(4, 38), (0, 66), (1, 1), (0, 45), (2, 1), (0...  133    0  False   \n",
      "\n",
      "                                                    moves  sig_len  trim_ofs  \n",
      "165699  [5, 1, 1, 1, 0, 0, 1, 1, 0, 0, 1, 0, 1, 0, 0, ...     2119        10  \n",
      "                                      seq_id  \\\n",
      "169262  0c1ad7bb-1940-4db7-9498-927b2383e990   \n",
      "\n",
      "                                                 ref_name  \\\n",
      "169262  Pool=ACGTAACTTGGTTTGTTCCCTGAA-AGTCAGCT+CGAGGAG...   \n",
      "\n",
      "                                                 sequence  \\\n",
      "169262  ACTAATTTTTTTGATACGTAACTTGGTTTGTTCCCTGAAGATCAGT...   \n",
      "\n",
      "                                                  quality  \\\n",
      "169262  [6, 6, 7, 12, 20, 20, 21, 26, 16, 11, 11, 11, ...   \n",
      "\n",
      "                                                    cigar  len  ref   rev  \\\n",
      "169262  [(4, 85), (0, 12), (2, 1), (0, 45), (1, 1), (0...  121    3  True   \n",
      "\n",
      "                                                    moves  sig_len  trim_ofs  \n",
      "169262  [5, 1, 0, 0, 0, 0, 0, 0, 0, 0, 0, 0, 0, 0, 0, ...     2170        10  \n",
      "                                      seq_id  \\\n",
      "177567  4ee3a215-f4fd-4b15-b9de-2b3288a52950   \n",
      "\n",
      "                                                 ref_name  \\\n",
      "177567  Pool=ACGTAACTTGGTTTGTTCCCTGAA-AGTCAGCT+CGAGGAG...   \n",
      "\n",
      "                                                 sequence  \\\n",
      "177567  ATACGTAACTTGGTTTGTTCCCTGAGATCAGTCAGCTACTGCTGAG...   \n",
      "\n",
      "                                                  quality  \\\n",
      "177567  [26, 26, 27, 28, 31, 29, 29, 29, 29, 31, 33, 3...   \n",
      "\n",
      "                                                    cigar  len  ref   rev  \\\n",
      "177567  [(4, 7), (0, 24), (2, 1), (0, 20), (2, 1), (0,...  111   17  True   \n",
      "\n",
      "                                                    moves  sig_len  trim_ofs  \n",
      "177567  [5, 1, 0, 0, 0, 0, 0, 0, 0, 0, 0, 0, 0, 0, 0, ...     1820        10  \n",
      "                                      seq_id  \\\n",
      "184713  d1540d43-4b8a-4508-a141-bd2f82e36c8b   \n",
      "\n",
      "                                                 ref_name  \\\n",
      "184713  Pool=ACGTAACTTGGTTTGTTCCCTGAA-AGTCAGCT+CGAGGAG...   \n",
      "\n",
      "                                                 sequence  \\\n",
      "184713  GCTGAATGGCCCTTAGGATTTTCCAGGAGATCCGAGGAGGTTCACT...   \n",
      "\n",
      "                                                  quality  \\\n",
      "184713  [5, 6, 4, 5, 9, 12, 12, 12, 7, 9, 6, 6, 7, 7, ...   \n",
      "\n",
      "                                                    cigar  len  ref   rev  \\\n",
      "184713  [(4, 66), (0, 6), (2, 1), (0, 3), (1, 1), (0, ...   69   58  True   \n",
      "\n",
      "                                                    moves  sig_len  trim_ofs  \n",
      "184713  [5, 1, 0, 0, 0, 0, 0, 0, 1, 0, 1, 0, 1, 1, 1, ...     1682        10  \n",
      "                                      seq_id  \\\n",
      "188033  e9446770-7569-4497-8975-85e06b9b46a8   \n",
      "\n",
      "                                                 ref_name  \\\n",
      "188033  Pool=ACGTAACTTGGTTTGTTCCCTGAA-AGTCAGCT+CGAGGAG...   \n",
      "\n",
      "                                                 sequence  \\\n",
      "188033  TTTTTCGATACGTAACTTGGTTTGTTCCCTGAAGATCAGTCAGCTA...   \n",
      "\n",
      "                                                  quality  \\\n",
      "188033  [9, 8, 14, 16, 17, 16, 22, 22, 22, 28, 28, 26,...   \n",
      "\n",
      "                                                    cigar  len  ref    rev  \\\n",
      "188033  [(4, 36), (0, 70), (2, 1), (0, 8), (2, 4), (0,...  116   10  False   \n",
      "\n",
      "                                                    moves  sig_len  trim_ofs  \n",
      "188033  [5, 1, 0, 0, 0, 0, 0, 0, 0, 0, 1, 0, 1, 0, 1, ...     2342        10  \n",
      "                                      seq_id  \\\n",
      "195189  f7fdeea6-3259-49eb-93a4-a2545bfe41c6   \n",
      "\n",
      "                                                 ref_name  \\\n",
      "195189  Pool=ACGTAACTTGGTTTGTTCCCTGAA-AGTCAGCT+CGAGGAG...   \n",
      "\n",
      "                                                 sequence  \\\n",
      "195189  AGTACTAATTTTTTTCGATACGTAACTTGGTTTGTTCCCTGAAGAT...   \n",
      "\n",
      "                                                  quality  \\\n",
      "195189  [31, 28, 27, 27, 26, 27, 27, 28, 33, 34, 39, 5...   \n",
      "\n",
      "                                                    cigar  len  ref    rev  \\\n",
      "195189  [(4, 45), (0, 46), (2, 1), (0, 3), (2, 2), (0,...  117    0  False   \n",
      "\n",
      "                                                    moves  sig_len  trim_ofs  \n",
      "195189  [5, 1, 0, 0, 0, 0, 0, 0, 0, 1, 1, 0, 1, 0, 0, ...     2561        10  \n",
      "                                      seq_id  \\\n",
      "201483  b6b156f2-f945-48ac-a5ca-5d862b0ea26d   \n",
      "\n",
      "                                                 ref_name  \\\n",
      "201483  Pool=ACGTAACTTGGTTTGTTCCCTGAA-AGTCAGCT+CGAGGAG...   \n",
      "\n",
      "                                                 sequence  \\\n",
      "201483  CTAAATTTTTTCGAATCTTAGACTTAACTTGGTTTGTCCCTGAAGA...   \n",
      "\n",
      "                                                  quality  \\\n",
      "201483  [9, 9, 10, 19, 21, 18, 22, 26, 27, 30, 26, 21,...   \n",
      "\n",
      "                                                    cigar  len  ref    rev  \\\n",
      "201483  [(4, 47), (0, 13), (1, 1), (0, 2), (1, 5), (0,...  130    4  False   \n",
      "\n",
      "                                                    moves  sig_len  trim_ofs  \n",
      "201483  [5, 1, 1, 1, 1, 0, 1, 0, 1, 1, 0, 1, 0, 0, 1, ...     1636        10  \n",
      "                                 seq_id  \\\n",
      "1  06c8e051-2570-4c0a-9b3f-5afb4bb57c5a   \n",
      "\n",
      "                                            ref_name  \\\n",
      "1  Pool=CACCCACACTTACTTCAGGACGTA-AGTCAGCT+ACCTTGC...   \n",
      "\n",
      "                                            sequence  \\\n",
      "1  ATCACCCACACTTACTTCAGGACGTACACTTCCTGGAAACTGCCGA...   \n",
      "\n",
      "                                             quality  \\\n",
      "1  [8, 8, 8, 23, 20, 23, 24, 33, 33, 31, 27, 27, ...   \n",
      "\n",
      "                                               cigar  len  ref   rev  \\\n",
      "1  [(4, 3), (0, 28), (2, 1), (0, 1), (2, 1), (0, ...  115   17  True   \n",
      "\n",
      "                                               moves  sig_len  trim_ofs  \n",
      "1  [5, 1, 0, 0, 0, 0, 0, 0, 0, 0, 0, 0, 0, 0, 0, ...     1529        10  \n",
      "                                   seq_id  \\\n",
      "533  601076e3-081b-4799-b2a4-22c0052d590b   \n",
      "\n",
      "                                              ref_name  \\\n",
      "533  Pool=CACCCACACTTACTTCAGGACGTA-AGTCAGCT+ACCTTGC...   \n",
      "\n",
      "                                              sequence  \\\n",
      "533  AGTACTAATTTTTTTCGATCACCCACACTTACTTCAGACGTAGATC...   \n",
      "\n",
      "                                               quality  \\\n",
      "533  [7, 6, 7, 18, 18, 21, 21, 24, 31, 34, 33, 35, ...   \n",
      "\n",
      "                                                 cigar  len  ref    rev  \\\n",
      "533  [(4, 33), (0, 36), (2, 1), (0, 26), (2, 2), (0...  130    0  False   \n",
      "\n",
      "                                                 moves  sig_len  trim_ofs  \n",
      "533  [5, 1, 0, 0, 0, 0, 0, 1, 1, 0, 0, 0, 0, 0, 0, ...     1696        10  \n"
     ]
    },
    {
     "ename": "KeyboardInterrupt",
     "evalue": "",
     "output_type": "error",
     "traceback": [
      "\u001b[0;31m---------------------------------------------------------------------------\u001b[0m",
      "\u001b[0;31mKeyboardInterrupt\u001b[0m                         Traceback (most recent call last)",
      "Cell \u001b[0;32mIn[22], line 3\u001b[0m\n\u001b[1;32m      1\u001b[0m \u001b[38;5;28;01mfor\u001b[39;00m ref \u001b[38;5;129;01min\u001b[39;00m (aggregate_refs):\n\u001b[1;32m      2\u001b[0m     \u001b[38;5;28;01mfor\u001b[39;00m read \u001b[38;5;129;01min\u001b[39;00m ref\u001b[38;5;241m.\u001b[39mread_iterator:\n\u001b[0;32m----> 3\u001b[0m         tmp_df \u001b[38;5;241m=\u001b[39m \u001b[43mpd\u001b[49m\u001b[38;5;241;43m.\u001b[39;49m\u001b[43mDataFrame\u001b[49m\u001b[43m(\u001b[49m\u001b[43mpz_aligned_bam\u001b[49m\u001b[43m)\u001b[49m\n\u001b[1;32m      4\u001b[0m         \u001b[38;5;28mprint\u001b[39m(tmp_df[tmp_df[\u001b[38;5;124m'\u001b[39m\u001b[38;5;124mseq_id\u001b[39m\u001b[38;5;124m'\u001b[39m] \u001b[38;5;241m==\u001b[39m \u001b[38;5;28mstr\u001b[39m(read\u001b[38;5;241m.\u001b[39mread_id)])\n",
      "File \u001b[0;32m~/.conda/envs/xna_seq/lib/python3.8/site-packages/pandas/core/frame.py:790\u001b[0m, in \u001b[0;36mDataFrame.__init__\u001b[0;34m(self, data, index, columns, dtype, copy)\u001b[0m\n\u001b[1;32m    781\u001b[0m         columns \u001b[38;5;241m=\u001b[39m ensure_index(columns)\n\u001b[1;32m    782\u001b[0m     arrays, columns, index \u001b[38;5;241m=\u001b[39m nested_data_to_arrays(\n\u001b[1;32m    783\u001b[0m         \u001b[38;5;66;03m# error: Argument 3 to \"nested_data_to_arrays\" has incompatible\u001b[39;00m\n\u001b[1;32m    784\u001b[0m         \u001b[38;5;66;03m# type \"Optional[Collection[Any]]\"; expected \"Optional[Index]\"\u001b[39;00m\n\u001b[0;32m   (...)\u001b[0m\n\u001b[1;32m    788\u001b[0m         dtype,\n\u001b[1;32m    789\u001b[0m     )\n\u001b[0;32m--> 790\u001b[0m     mgr \u001b[38;5;241m=\u001b[39m \u001b[43marrays_to_mgr\u001b[49m\u001b[43m(\u001b[49m\n\u001b[1;32m    791\u001b[0m \u001b[43m        \u001b[49m\u001b[43marrays\u001b[49m\u001b[43m,\u001b[49m\n\u001b[1;32m    792\u001b[0m \u001b[43m        \u001b[49m\u001b[43mcolumns\u001b[49m\u001b[43m,\u001b[49m\n\u001b[1;32m    793\u001b[0m \u001b[43m        \u001b[49m\u001b[43mindex\u001b[49m\u001b[43m,\u001b[49m\n\u001b[1;32m    794\u001b[0m \u001b[43m        \u001b[49m\u001b[43mdtype\u001b[49m\u001b[38;5;241;43m=\u001b[39;49m\u001b[43mdtype\u001b[49m\u001b[43m,\u001b[49m\n\u001b[1;32m    795\u001b[0m \u001b[43m        \u001b[49m\u001b[43mtyp\u001b[49m\u001b[38;5;241;43m=\u001b[39;49m\u001b[43mmanager\u001b[49m\u001b[43m,\u001b[49m\n\u001b[1;32m    796\u001b[0m \u001b[43m    \u001b[49m\u001b[43m)\u001b[49m\n\u001b[1;32m    797\u001b[0m \u001b[38;5;28;01melse\u001b[39;00m:\n\u001b[1;32m    798\u001b[0m     mgr \u001b[38;5;241m=\u001b[39m ndarray_to_mgr(\n\u001b[1;32m    799\u001b[0m         data,\n\u001b[1;32m    800\u001b[0m         index,\n\u001b[0;32m   (...)\u001b[0m\n\u001b[1;32m    804\u001b[0m         typ\u001b[38;5;241m=\u001b[39mmanager,\n\u001b[1;32m    805\u001b[0m     )\n",
      "File \u001b[0;32m~/.conda/envs/xna_seq/lib/python3.8/site-packages/pandas/core/internals/construction.py:153\u001b[0m, in \u001b[0;36marrays_to_mgr\u001b[0;34m(arrays, columns, index, dtype, verify_integrity, typ, consolidate)\u001b[0m\n\u001b[1;32m    150\u001b[0m axes \u001b[38;5;241m=\u001b[39m [columns, index]\n\u001b[1;32m    152\u001b[0m \u001b[38;5;28;01mif\u001b[39;00m typ \u001b[38;5;241m==\u001b[39m \u001b[38;5;124m\"\u001b[39m\u001b[38;5;124mblock\u001b[39m\u001b[38;5;124m\"\u001b[39m:\n\u001b[0;32m--> 153\u001b[0m     \u001b[38;5;28;01mreturn\u001b[39;00m \u001b[43mcreate_block_manager_from_column_arrays\u001b[49m\u001b[43m(\u001b[49m\n\u001b[1;32m    154\u001b[0m \u001b[43m        \u001b[49m\u001b[43marrays\u001b[49m\u001b[43m,\u001b[49m\u001b[43m \u001b[49m\u001b[43maxes\u001b[49m\u001b[43m,\u001b[49m\u001b[43m \u001b[49m\u001b[43mconsolidate\u001b[49m\u001b[38;5;241;43m=\u001b[39;49m\u001b[43mconsolidate\u001b[49m\u001b[43m,\u001b[49m\u001b[43m \u001b[49m\u001b[43mrefs\u001b[49m\u001b[38;5;241;43m=\u001b[39;49m\u001b[43mrefs\u001b[49m\n\u001b[1;32m    155\u001b[0m \u001b[43m    \u001b[49m\u001b[43m)\u001b[49m\n\u001b[1;32m    156\u001b[0m \u001b[38;5;28;01melif\u001b[39;00m typ \u001b[38;5;241m==\u001b[39m \u001b[38;5;124m\"\u001b[39m\u001b[38;5;124marray\u001b[39m\u001b[38;5;124m\"\u001b[39m:\n\u001b[1;32m    157\u001b[0m     \u001b[38;5;28;01mreturn\u001b[39;00m ArrayManager(arrays, [index, columns])\n",
      "File \u001b[0;32m~/.conda/envs/xna_seq/lib/python3.8/site-packages/pandas/core/internals/managers.py:2137\u001b[0m, in \u001b[0;36mcreate_block_manager_from_column_arrays\u001b[0;34m(arrays, axes, consolidate, refs)\u001b[0m\n\u001b[1;32m   2119\u001b[0m \u001b[38;5;28;01mdef\u001b[39;00m \u001b[38;5;21mcreate_block_manager_from_column_arrays\u001b[39m(\n\u001b[1;32m   2120\u001b[0m     arrays: \u001b[38;5;28mlist\u001b[39m[ArrayLike],\n\u001b[1;32m   2121\u001b[0m     axes: \u001b[38;5;28mlist\u001b[39m[Index],\n\u001b[0;32m   (...)\u001b[0m\n\u001b[1;32m   2133\u001b[0m     \u001b[38;5;66;03m# These last three are sufficient to allow us to safely pass\u001b[39;00m\n\u001b[1;32m   2134\u001b[0m     \u001b[38;5;66;03m#  verify_integrity=False below.\u001b[39;00m\n\u001b[1;32m   2136\u001b[0m     \u001b[38;5;28;01mtry\u001b[39;00m:\n\u001b[0;32m-> 2137\u001b[0m         blocks \u001b[38;5;241m=\u001b[39m \u001b[43m_form_blocks\u001b[49m\u001b[43m(\u001b[49m\u001b[43marrays\u001b[49m\u001b[43m,\u001b[49m\u001b[43m \u001b[49m\u001b[43mconsolidate\u001b[49m\u001b[43m,\u001b[49m\u001b[43m \u001b[49m\u001b[43mrefs\u001b[49m\u001b[43m)\u001b[49m\n\u001b[1;32m   2138\u001b[0m         mgr \u001b[38;5;241m=\u001b[39m BlockManager(blocks, axes, verify_integrity\u001b[38;5;241m=\u001b[39m\u001b[38;5;28;01mFalse\u001b[39;00m)\n\u001b[1;32m   2139\u001b[0m     \u001b[38;5;28;01mexcept\u001b[39;00m \u001b[38;5;167;01mValueError\u001b[39;00m \u001b[38;5;28;01mas\u001b[39;00m e:\n",
      "File \u001b[0;32m~/.conda/envs/xna_seq/lib/python3.8/site-packages/pandas/core/internals/managers.py:2215\u001b[0m, in \u001b[0;36m_form_blocks\u001b[0;34m(arrays, consolidate, refs)\u001b[0m\n\u001b[1;32m   2212\u001b[0m \u001b[38;5;28;01mif\u001b[39;00m \u001b[38;5;28missubclass\u001b[39m(dtype\u001b[38;5;241m.\u001b[39mtype, (\u001b[38;5;28mstr\u001b[39m, \u001b[38;5;28mbytes\u001b[39m)):\n\u001b[1;32m   2213\u001b[0m     dtype \u001b[38;5;241m=\u001b[39m np\u001b[38;5;241m.\u001b[39mdtype(\u001b[38;5;28mobject\u001b[39m)\n\u001b[0;32m-> 2215\u001b[0m values, placement \u001b[38;5;241m=\u001b[39m \u001b[43m_stack_arrays\u001b[49m\u001b[43m(\u001b[49m\u001b[38;5;28;43mlist\u001b[39;49m\u001b[43m(\u001b[49m\u001b[43mtup_block\u001b[49m\u001b[43m)\u001b[49m\u001b[43m,\u001b[49m\u001b[43m \u001b[49m\u001b[43mdtype\u001b[49m\u001b[43m)\u001b[49m\n\u001b[1;32m   2216\u001b[0m \u001b[38;5;28;01mif\u001b[39;00m is_dtlike:\n\u001b[1;32m   2217\u001b[0m     values \u001b[38;5;241m=\u001b[39m ensure_wrapped_if_datetimelike(values)\n",
      "File \u001b[0;32m~/.conda/envs/xna_seq/lib/python3.8/site-packages/pandas/core/internals/managers.py:2257\u001b[0m, in \u001b[0;36m_stack_arrays\u001b[0;34m(tuples, dtype)\u001b[0m\n\u001b[1;32m   2255\u001b[0m stacked \u001b[38;5;241m=\u001b[39m np\u001b[38;5;241m.\u001b[39mempty(shape, dtype\u001b[38;5;241m=\u001b[39mdtype)\n\u001b[1;32m   2256\u001b[0m \u001b[38;5;28;01mfor\u001b[39;00m i, arr \u001b[38;5;129;01min\u001b[39;00m \u001b[38;5;28menumerate\u001b[39m(arrays):\n\u001b[0;32m-> 2257\u001b[0m     stacked[i] \u001b[38;5;241m=\u001b[39m arr\n\u001b[1;32m   2259\u001b[0m \u001b[38;5;28;01mreturn\u001b[39;00m stacked, placement\n",
      "\u001b[0;31mKeyboardInterrupt\u001b[0m: "
     ]
    }
   ],
   "source": [
    "for ref in (aggregate_refs):\n",
    "    for read in ref.read_iterator:\n",
    "        tmp_df = pd.DataFrame(pz_aligned_bam)\n",
    "        bam_read_info = tmp_df[tmp_df['seq_id'] == str(read.read_id)]\n",
    "        "
   ]
  },
  {
   "cell_type": "code",
   "execution_count": 25,
   "id": "334dd655-ee52-44f2-930e-a1a86c7e2491",
   "metadata": {
    "tags": []
   },
   "outputs": [
    {
     "ename": "KeyboardInterrupt",
     "evalue": "",
     "output_type": "error",
     "traceback": [
      "\u001b[0;31m---------------------------------------------------------------------------\u001b[0m",
      "\u001b[0;31mKeyboardInterrupt\u001b[0m                         Traceback (most recent call last)",
      "Cell \u001b[0;32mIn[25], line 19\u001b[0m\n\u001b[1;32m     16\u001b[0m             out_read \u001b[38;5;241m=\u001b[39m Read(read\u001b[38;5;241m.\u001b[39mread_id, read\u001b[38;5;241m.\u001b[39msignal_pa, read\u001b[38;5;241m.\u001b[39mrun_info\u001b[38;5;241m.\u001b[39msample_rate)\n\u001b[1;32m     17\u001b[0m             \u001b[38;5;28;01myield\u001b[39;00m out_read\n\u001b[0;32m---> 19\u001b[0m \u001b[38;5;28;43mlist\u001b[39;49m\u001b[43m(\u001b[49m\u001b[43miterable_reads\u001b[49m\u001b[43m(\u001b[49m\u001b[43mp5\u001b[49m\u001b[43m,\u001b[49m\u001b[43m \u001b[49m\u001b[43mv_reads\u001b[49m\u001b[43m)\u001b[49m\u001b[43m)\u001b[49m\n",
      "Cell \u001b[0;32mIn[25], line 16\u001b[0m, in \u001b[0;36miterable_reads\u001b[0;34m(p5_path, valid_reads)\u001b[0m\n\u001b[1;32m     14\u001b[0m \u001b[38;5;28;01mwith\u001b[39;00m pod5\u001b[38;5;241m.\u001b[39mReader(Path(p5_path)) \u001b[38;5;28;01mas\u001b[39;00m pod5_file:\n\u001b[1;32m     15\u001b[0m     \u001b[38;5;28;01mfor\u001b[39;00m read \u001b[38;5;129;01min\u001b[39;00m pod5_file\u001b[38;5;241m.\u001b[39mreads(selection\u001b[38;5;241m=\u001b[39mvalid_reads, preload\u001b[38;5;241m=\u001b[39m[\u001b[38;5;124m\"\u001b[39m\u001b[38;5;124msamples\u001b[39m\u001b[38;5;124m\"\u001b[39m]):\n\u001b[0;32m---> 16\u001b[0m         out_read \u001b[38;5;241m=\u001b[39m Read(read\u001b[38;5;241m.\u001b[39mread_id, \u001b[43mread\u001b[49m\u001b[38;5;241;43m.\u001b[39;49m\u001b[43msignal_pa\u001b[49m, read\u001b[38;5;241m.\u001b[39mrun_info\u001b[38;5;241m.\u001b[39msample_rate)\n\u001b[1;32m     17\u001b[0m         \u001b[38;5;28;01myield\u001b[39;00m out_read\n",
      "File \u001b[0;32m~/.conda/envs/xna_seq/lib/python3.8/site-packages/pod5/reader.py:320\u001b[0m, in \u001b[0;36mReadRecord.signal_pa\u001b[0;34m(self)\u001b[0m\n\u001b[1;32m    310\u001b[0m \u001b[38;5;129m@property\u001b[39m\n\u001b[1;32m    311\u001b[0m \u001b[38;5;28;01mdef\u001b[39;00m \u001b[38;5;21msignal_pa\u001b[39m(\u001b[38;5;28mself\u001b[39m) \u001b[38;5;241m-\u001b[39m\u001b[38;5;241m>\u001b[39m npt\u001b[38;5;241m.\u001b[39mNDArray[np\u001b[38;5;241m.\u001b[39mfloat32]:\n\u001b[1;32m    312\u001b[0m \u001b[38;5;250m    \u001b[39m\u001b[38;5;124;03m\"\"\"\u001b[39;00m\n\u001b[1;32m    313\u001b[0m \u001b[38;5;124;03m    Get the full signal for the read, calibrated in pico amps.\u001b[39;00m\n\u001b[1;32m    314\u001b[0m \n\u001b[0;32m   (...)\u001b[0m\n\u001b[1;32m    318\u001b[0m \u001b[38;5;124;03m        A numpy array of signal data in pico amps with float32 type.\u001b[39;00m\n\u001b[1;32m    319\u001b[0m \u001b[38;5;124;03m    \"\"\"\u001b[39;00m\n\u001b[0;32m--> 320\u001b[0m     \u001b[38;5;28;01mreturn\u001b[39;00m \u001b[38;5;28;43mself\u001b[39;49m\u001b[38;5;241;43m.\u001b[39;49m\u001b[43mcalibrate_signal_array\u001b[49m\u001b[43m(\u001b[49m\u001b[38;5;28;43mself\u001b[39;49m\u001b[38;5;241;43m.\u001b[39;49m\u001b[43msignal\u001b[49m\u001b[43m)\u001b[49m\n",
      "File \u001b[0;32m~/.conda/envs/xna_seq/lib/python3.8/site-packages/pod5/reader.py:370\u001b[0m, in \u001b[0;36mReadRecord.calibrate_signal_array\u001b[0;34m(self, signal_array_adc)\u001b[0m\n\u001b[1;32m    362\u001b[0m \u001b[38;5;250m\u001b[39m\u001b[38;5;124;03m\"\"\"\u001b[39;00m\n\u001b[1;32m    363\u001b[0m \u001b[38;5;124;03mTransform an array of int16 signal data from ADC space to pA.\u001b[39;00m\n\u001b[1;32m    364\u001b[0m \n\u001b[0;32m   (...)\u001b[0m\n\u001b[1;32m    367\u001b[0m \u001b[38;5;124;03mA numpy array of signal data with float32 type.\u001b[39;00m\n\u001b[1;32m    368\u001b[0m \u001b[38;5;124;03m\"\"\"\u001b[39;00m\n\u001b[1;32m    369\u001b[0m offset \u001b[38;5;241m=\u001b[39m np\u001b[38;5;241m.\u001b[39mfloat32(\u001b[38;5;28mself\u001b[39m\u001b[38;5;241m.\u001b[39mcalibration\u001b[38;5;241m.\u001b[39moffset)\n\u001b[0;32m--> 370\u001b[0m scale \u001b[38;5;241m=\u001b[39m np\u001b[38;5;241m.\u001b[39mfloat32(\u001b[38;5;28;43mself\u001b[39;49m\u001b[38;5;241;43m.\u001b[39;49m\u001b[43mcalibration\u001b[49m\u001b[38;5;241m.\u001b[39mscale)\n\u001b[1;32m    371\u001b[0m \u001b[38;5;28;01mreturn\u001b[39;00m (signal_array_adc \u001b[38;5;241m+\u001b[39m offset) \u001b[38;5;241m*\u001b[39m scale\n",
      "File \u001b[0;32m~/.conda/envs/xna_seq/lib/python3.8/site-packages/pod5/reader.py:193\u001b[0m, in \u001b[0;36mReadRecord.calibration\u001b[0;34m(self)\u001b[0m\n\u001b[1;32m    188\u001b[0m \u001b[38;5;129m@property\u001b[39m\n\u001b[1;32m    189\u001b[0m \u001b[38;5;28;01mdef\u001b[39;00m \u001b[38;5;21mcalibration\u001b[39m(\u001b[38;5;28mself\u001b[39m) \u001b[38;5;241m-\u001b[39m\u001b[38;5;241m>\u001b[39m Calibration:\n\u001b[1;32m    190\u001b[0m \u001b[38;5;250m    \u001b[39m\u001b[38;5;124;03m\"\"\"\u001b[39;00m\n\u001b[1;32m    191\u001b[0m \u001b[38;5;124;03m    Get the calibration data associated with the read.\u001b[39;00m\n\u001b[1;32m    192\u001b[0m \u001b[38;5;124;03m    \"\"\"\u001b[39;00m\n\u001b[0;32m--> 193\u001b[0m     \u001b[38;5;28;01mreturn\u001b[39;00m \u001b[43mCalibration\u001b[49m\u001b[43m(\u001b[49m\n\u001b[1;32m    194\u001b[0m \u001b[43m        \u001b[49m\u001b[38;5;28;43mself\u001b[39;49m\u001b[38;5;241;43m.\u001b[39;49m\u001b[43m_batch\u001b[49m\u001b[38;5;241;43m.\u001b[39;49m\u001b[43mcolumns\u001b[49m\u001b[38;5;241;43m.\u001b[39;49m\u001b[43mcalibration_offset\u001b[49m\u001b[43m[\u001b[49m\u001b[38;5;28;43mself\u001b[39;49m\u001b[38;5;241;43m.\u001b[39;49m\u001b[43m_row\u001b[49m\u001b[43m]\u001b[49m\u001b[38;5;241;43m.\u001b[39;49m\u001b[43mas_py\u001b[49m\u001b[43m(\u001b[49m\u001b[43m)\u001b[49m\u001b[43m,\u001b[49m\n\u001b[1;32m    195\u001b[0m \u001b[43m        \u001b[49m\u001b[38;5;28;43mself\u001b[39;49m\u001b[38;5;241;43m.\u001b[39;49m\u001b[43m_batch\u001b[49m\u001b[38;5;241;43m.\u001b[39;49m\u001b[43mcolumns\u001b[49m\u001b[38;5;241;43m.\u001b[39;49m\u001b[43mcalibration_scale\u001b[49m\u001b[43m[\u001b[49m\u001b[38;5;28;43mself\u001b[39;49m\u001b[38;5;241;43m.\u001b[39;49m\u001b[43m_row\u001b[49m\u001b[43m]\u001b[49m\u001b[38;5;241;43m.\u001b[39;49m\u001b[43mas_py\u001b[49m\u001b[43m(\u001b[49m\u001b[43m)\u001b[49m\u001b[43m,\u001b[49m\n\u001b[1;32m    196\u001b[0m \u001b[43m    \u001b[49m\u001b[43m)\u001b[49m\n",
      "File \u001b[0;32m<string>:3\u001b[0m, in \u001b[0;36m__init__\u001b[0;34m(self, offset, scale)\u001b[0m\n",
      "\u001b[0;31mKeyboardInterrupt\u001b[0m: "
     ]
    }
   ],
   "source": [
    "from pathlib import Path\n",
    "with pod5.Reader(Path(p5)) as pod5_file:\n",
    "    pod5_read_ids = set(pod5_file.read_ids)\n",
    "# Filter the pod5 read ids to those that are in the bam ids\n",
    "v_reads = list(pod5_read_ids.intersection(bam_seq_ids))\n",
    "\n",
    "class Read:\n",
    "    def __init__(self, rid, sig, freq):\n",
    "        self.read_id = rid\n",
    "        self.sig = np.array(list(sig), dtype=np.float32)\n",
    "        self.freq = freq\n",
    "        \n",
    "def iterable_reads(p5_path, valid_reads):\n",
    "    with pod5.Reader(Path(p5_path)) as pod5_file:\n",
    "        for read in pod5_file.reads(selection=valid_reads, preload=[\"samples\"]):\n",
    "            out_read = Read(read.read_id, read.signal_pa, read.run_info.sample_rate)\n",
    "            yield out_read\n",
    "            \n",
    "readiterator = iterable_reads(p5, v_reads)"
   ]
  },
  {
   "cell_type": "raw",
   "id": "86f20a13-758f-40d2-8242-7a323469a907",
   "metadata": {},
   "source": [
    "# Orders of business for preprocessing training data\n",
    "1 - Aquire Read Dataset, Working Directory, and reference Fasta\n",
    "2 - (preprocessing) - Convert the reads to a merged pod5 file\n",
    "3 - (preprocessing) - basecall using dorado\n",
    "4 - (preprocessing) - align using samtools and minimap2\n",
    "    (preprocessing) = merged pod5, aligned bam\n",
    "    \n",
    "5 - (merge_consensus) - Read the Bamfile\n",
    "6 - (merge_consensus) - Read the reference fasta\n",
    "7 - (merge_consensus) - Read the pod5 files* -- Needs to be split up if the size is larger than something. \n",
    "8 - (merge_consensus) - merge bam, fasta, and pod5\n",
    "9 - (merge_consensus) - export each individual consensus and it's constituent reads as json\n",
    "    (merge_consensus) = directory full of json files {working directory}\n",
    "    \n",
    "Repeat for each json file{\n",
    "10 - (feature_extraction) - Open a json file\n",
    "11 - (feature_extraction) - Subdivide reads into {n} batches \n",
    "12 - (feature_extraction) - Calculate the consensus features\n",
    "13 - (feature_extraction) - assign index of XNA to bases\n",
    "14 - (feature_extraction) - export sub-consensuses to parquet batch files\n",
    "     (feature_extraction) = directory full parquet batch files\n",
    "}\n",
    "() = Directory full of directories of parquet batch files\n",
    "\n",
    "15 - (model_prep) - open directory of directories of parquet batch files\n",
    "16 - (model_prep) - read all the parquet batch files\n",
    "17 - Do some ML stuff to make a model, then Bazinga. Model"
   ]
  },
  {
   "cell_type": "code",
   "execution_count": 1,
   "id": "75031c19-f8fa-48df-8fcb-d92b2a3f5190",
   "metadata": {
    "tags": []
   },
   "outputs": [],
   "source": [
    "p5_path = \"/media/sebastian/Slepnir/xenofind_datasets/Working_directory_PZ/model_training/merged_pod5/merged.pod5\"\n",
    "import pod5_extractor_methods\n",
    "import pandas as pd\n",
    "import sys"
   ]
  },
  {
   "cell_type": "code",
   "execution_count": 2,
   "id": "965e8e44-12e4-4238-ab9f-0e60684796a9",
   "metadata": {
    "tags": []
   },
   "outputs": [
    {
     "name": "stdout",
     "output_type": "stream",
     "text": [
      "on 3: 3/6\n",
      "on 3: [ Memory Report 2024-05-17 20:20:42.083597 ]------------------------------------------------\n",
      "on 3: RSS: 1.049034752 Gb, VMS: 4.116926464 Gb, SHARED: 0.057638912 Gb, DATA: 1.860947968 Gb\n",
      "on 3: --------------------------------------------------------------------------------------------\n",
      "on 6: 6/6\n",
      "on 6: [ Memory Report 2024-05-17 20:20:58.579919 ]------------------------------------------------\n",
      "on 6: RSS: 2.18232832 Gb, VMS: 5.235965952 Gb, SHARED: 0.057638912 Gb, DATA: 2.994057216 Gb\n",
      "on 6: --------------------------------------------------------------------------------------------\n",
      "|████████████████████████████████████████| 6/6 [100%] in 28.3s (0.21/s) \n"
     ]
    }
   ],
   "source": [
    "data_dict = pod5_extractor_methods.extract_pod5_dict(p5_path, 20000, 3)"
   ]
  },
  {
   "cell_type": "code",
   "execution_count": 3,
   "id": "082ae50e-edad-4286-abd0-53b56437c224",
   "metadata": {
    "tags": []
   },
   "outputs": [
    {
     "data": {
      "text/plain": [
       "559972"
      ]
     },
     "execution_count": 3,
     "metadata": {},
     "output_type": "execute_result"
    }
   ],
   "source": [
    "len(data_dict)"
   ]
  },
  {
   "cell_type": "code",
   "execution_count": 3,
   "id": "436b0513-3d52-4cbe-9bc4-3e1984d357cb",
   "metadata": {
    "tags": []
   },
   "outputs": [],
   "source": [
    "pd.DataFrame(data_dict).to_json('reads.json')"
   ]
  },
  {
   "cell_type": "code",
   "execution_count": null,
   "id": "989ca42a-7264-4eb1-b5a6-1bfdc513220f",
   "metadata": {
    "tags": []
   },
   "outputs": [],
   "source": [
    "pd.read_json('reads.json')"
   ]
  },
  {
   "cell_type": "code",
   "execution_count": 12,
   "id": "c5741bf9-ba9b-4dbc-91cd-38f01d88f946",
   "metadata": {
    "tags": []
   },
   "outputs": [
    {
     "data": {
      "text/plain": [
       "Index    1.280000e-07\n",
       "0        4.479776e-03\n",
       "1        4.479776e-03\n",
       "2        1.119944e-03\n",
       "dtype: float64"
      ]
     },
     "execution_count": 12,
     "metadata": {},
     "output_type": "execute_result"
    }
   ],
   "source": [
    "(pd.DataFrame(data_dict)).memory_usage()/(1*10**9)"
   ]
  },
  {
   "cell_type": "code",
   "execution_count": 7,
   "id": "ea56f115-7438-40ec-8467-b3dc0f0b8109",
   "metadata": {
    "tags": []
   },
   "outputs": [
    {
     "data": {
      "text/plain": [
       "120"
      ]
     },
     "execution_count": 7,
     "metadata": {},
     "output_type": "execute_result"
    }
   ],
   "source": [
    "\n",
    "np.int64(120.39091)"
   ]
  },
  {
   "cell_type": "code",
   "execution_count": null,
   "id": "283bfe8d-4c72-45d7-bf88-cc9dce5a7e7a",
   "metadata": {},
   "outputs": [],
   "source": []
  }
 ],
 "metadata": {
  "kernelspec": {
   "display_name": "xna_seq",
   "language": "python",
   "name": "xna_seq"
  },
  "language_info": {
   "codemirror_mode": {
    "name": "ipython",
    "version": 3
   },
   "file_extension": ".py",
   "mimetype": "text/x-python",
   "name": "python",
   "nbconvert_exporter": "python",
   "pygments_lexer": "ipython3",
   "version": "3.8.18"
  }
 },
 "nbformat": 4,
 "nbformat_minor": 5
}
