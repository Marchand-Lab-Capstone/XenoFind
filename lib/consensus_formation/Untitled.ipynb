{
 "cells": [
  {
   "cell_type": "code",
   "execution_count": 1,
   "id": "37d21ed3-3bc9-4b02-a763-8ebd7770e01d",
   "metadata": {},
   "outputs": [],
   "source": [
    "# Temp testing notes\n",
    "import raw_read_merger as rrm\n",
    "import os"
   ]
  },
  {
   "cell_type": "code",
   "execution_count": 2,
   "id": "9377e7e0-44d2-4b0a-a625-04b00e66db7f",
   "metadata": {},
   "outputs": [],
   "source": [
    "f5='../../data/fast5_folder/'\n",
    "p5='../../data/pod5_folder/'\n",
    "tar='../../data/working_directory/merged_pod5/'\n",
    "fname='merged'"
   ]
  },
  {
   "cell_type": "code",
   "execution_count": 4,
   "id": "ed3e7151-5eaf-4643-9562-ff289973f8d6",
   "metadata": {},
   "outputs": [
    {
     "data": {
      "text/plain": [
       "(0, 'fast5', True)"
      ]
     },
     "execution_count": 4,
     "metadata": {},
     "output_type": "execute_result"
    }
   ],
   "source": [
    "rrm.generate_merged_pod5(f5, tar, fname)\n"
   ]
  },
  {
   "cell_type": "code",
   "execution_count": 7,
   "id": "9cd787e1-50ef-425d-b84b-e92fd7e1bff2",
   "metadata": {},
   "outputs": [
    {
     "data": {
      "text/plain": [
       "'pod5 convert fast5 --force-overwrite --recursive ../../data/fast5_folder/ -o ../../data/working_directory/merged_pod5/merged.pod5'"
      ]
     },
     "execution_count": 7,
     "metadata": {},
     "output_type": "execute_result"
    }
   ],
   "source": [
    "rrm.merge_reads_command(f5, 'fast5', tar, fname)"
   ]
  },
  {
   "cell_type": "code",
   "execution_count": 3,
   "id": "4b49ad8f-460d-4a93-9f63-b77b5bd8ecf3",
   "metadata": {},
   "outputs": [
    {
     "data": {
      "text/plain": [
       "''"
      ]
     },
     "execution_count": 3,
     "metadata": {},
     "output_type": "execute_result"
    }
   ],
   "source": [
    "rrm.validate_read_directory('../data/mixed_folder/')"
   ]
  },
  {
   "cell_type": "code",
   "execution_count": 3,
   "id": "3cb6cb6d-d208-476d-8cef-1e6d99f45b5e",
   "metadata": {},
   "outputs": [],
   "source": [
    "st = os.system('pod5 convert fast5 --recursive --force-overwrite ../../data/fast5_folder - o ../../data/working_directory/merged_pod5')"
   ]
  },
  {
   "cell_type": "code",
   "execution_count": 4,
   "id": "0c0bf29d-72dc-45e9-86fb-df17bcccb320",
   "metadata": {},
   "outputs": [
    {
     "data": {
      "text/plain": [
       "2"
      ]
     },
     "execution_count": 4,
     "metadata": {},
     "output_type": "execute_result"
    }
   ],
   "source": [
    "st"
   ]
  },
  {
   "cell_type": "code",
   "execution_count": null,
   "id": "9e4e3cd3-269a-428b-99ce-114cf0ae2bb9",
   "metadata": {},
   "outputs": [],
   "source": [
    "'pod5 convert fast5 --recursive --force-overwrite ../../data/fast5_folder/ -o ../../data/working_directory/merged_pod5/merged.pod5'"
   ]
  }
 ],
 "metadata": {
  "kernelspec": {
   "display_name": "xna_seq",
   "language": "python",
   "name": "xna_seq"
  },
  "language_info": {
   "codemirror_mode": {
    "name": "ipython",
    "version": 3
   },
   "file_extension": ".py",
   "mimetype": "text/x-python",
   "name": "python",
   "nbconvert_exporter": "python",
   "pygments_lexer": "ipython3",
   "version": "3.8.15"
  }
 },
 "nbformat": 4,
 "nbformat_minor": 5
}
