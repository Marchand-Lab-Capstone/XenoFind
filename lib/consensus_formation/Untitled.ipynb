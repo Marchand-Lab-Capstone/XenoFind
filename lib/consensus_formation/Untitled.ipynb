{
 "cells": [
  {
   "cell_type": "code",
   "execution_count": 5,
   "id": "37d21ed3-3bc9-4b02-a763-8ebd7770e01d",
   "metadata": {},
   "outputs": [],
   "source": [
    "# Temp testing notes\n",
    "import raw_read_merger as rrm\n",
    "import os\n",
    "import setup_methods as setup"
   ]
  },
  {
   "cell_type": "code",
   "execution_count": 2,
   "id": "9377e7e0-44d2-4b0a-a625-04b00e66db7f",
   "metadata": {},
   "outputs": [],
   "source": [
    "f5='../../data/fast5_folder/'\n",
    "p5='../../data/pod5_folder/'\n",
    "tar='../../data/working_directory/merged_pod5/' # Should be auto-generated\n",
    "fname='merged'"
   ]
  },
  {
   "cell_type": "code",
   "execution_count": 4,
   "id": "ed3e7151-5eaf-4643-9562-ff289973f8d6",
   "metadata": {},
   "outputs": [
    {
     "data": {
      "text/plain": [
       "(0, 'fast5', True)"
      ]
     },
     "execution_count": 4,
     "metadata": {},
     "output_type": "execute_result"
    }
   ],
   "source": [
    "rrm.generate_merged_pod5(f5, tar, fname)\n"
   ]
  },
  {
   "cell_type": "code",
   "execution_count": 7,
   "id": "9cd787e1-50ef-425d-b84b-e92fd7e1bff2",
   "metadata": {},
   "outputs": [
    {
     "data": {
      "text/plain": [
       "'pod5 convert fast5 --force-overwrite --recursive ../../data/fast5_folder/ -o ../../data/working_directory/merged_pod5/merged.pod5'"
      ]
     },
     "execution_count": 7,
     "metadata": {},
     "output_type": "execute_result"
    }
   ],
   "source": [
    "rrm.merge_reads_command(f5, 'fast5', tar, fname)"
   ]
  },
  {
   "cell_type": "code",
   "execution_count": 3,
   "id": "4b49ad8f-460d-4a93-9f63-b77b5bd8ecf3",
   "metadata": {},
   "outputs": [
    {
     "data": {
      "text/plain": [
       "''"
      ]
     },
     "execution_count": 3,
     "metadata": {},
     "output_type": "execute_result"
    }
   ],
   "source": [
    "rrm.validate_read_directory('../data/mixed_folder/')"
   ]
  },
  {
   "cell_type": "code",
   "execution_count": 3,
   "id": "3cb6cb6d-d208-476d-8cef-1e6d99f45b5e",
   "metadata": {},
   "outputs": [],
   "source": [
    "st = os.system('pod5 convert fast5 --recursive --force-overwrite ../../data/fast5_folder - o ../../data/working_directory/merged_pod5')"
   ]
  },
  {
   "cell_type": "code",
   "execution_count": 10,
   "id": "0c0bf29d-72dc-45e9-86fb-df17bcccb320",
   "metadata": {},
   "outputs": [
    {
     "data": {
      "text/plain": [
       "'C:\\\\Users\\\\Sebastian\\\\Documents\\\\GitHub\\\\xapstone\\\\lib\\\\consensus_formation'"
      ]
     },
     "execution_count": 10,
     "metadata": {},
     "output_type": "execute_result"
    }
   ],
   "source": [
    "os.getcwd()"
   ]
  },
  {
   "cell_type": "code",
   "execution_count": 8,
   "id": "75cbc868-a6a3-4ce6-94d7-2883b1f623b3",
   "metadata": {},
   "outputs": [
    {
     "data": {
      "text/plain": [
       "'C:\\\\Users\\\\Sebastian\\\\Documents\\\\GitHub\\\\xapstone\\\\lib\\\\data\\\\empty_folder/'"
      ]
     },
     "execution_count": 8,
     "metadata": {},
     "output_type": "execute_result"
    }
   ],
   "source": [
    "path= setup.check_make_dir('../data/empty_folder/')\n",
    "path"
   ]
  },
  {
   "cell_type": "code",
   "execution_count": null,
   "id": "9e4e3cd3-269a-428b-99ce-114cf0ae2bb9",
   "metadata": {},
   "outputs": [],
   "source": [
    "'pod5 convert fast5 --recursive --force-overwrite ../../data/fast5_folder/ -o ../../data/working_directory/merged_pod5/merged.pod5'"
   ]
  },
  {
   "cell_type": "code",
   "execution_count": 7,
   "id": "3ddade80-aa4f-4ca6-becd-a6f08323d985",
   "metadata": {},
   "outputs": [
    {
     "ename": "SyntaxError",
     "evalue": "invalid syntax (2869610914.py, line 48)",
     "output_type": "error",
     "traceback": [
      "\u001b[1;36m  Cell \u001b[1;32mIn[7], line 48\u001b[1;36m\u001b[0m\n\u001b[1;33m    map2refcmd = cm.map_to_reference(minimap2_path, barcode_fasta, , basecalled_dir, aligned_bc_name)\u001b[0m\n\u001b[1;37m                                                                   ^\u001b[0m\n\u001b[1;31mSyntaxError\u001b[0m\u001b[1;31m:\u001b[0m invalid syntax\n"
     ]
    }
   ],
   "source": [
    "import consensus_methods.py as cm\n",
    "import raw_read_merger as rrm\n",
    "import setup_methods as setup\n",
    "\n",
    "#THE ONLY PASSED INFORMATION:\n",
    "working_dir = '../../data/working_directory/'\n",
    "reads='../../data/fast5_folder/'\n",
    "barcode_fasta = '../../data/reference_fasta/fastafile.fa' # THIS IS THE BARCODES\n",
    "\n",
    "\n",
    "# Defualt filenames:\n",
    "p5_fname = \"merged\"\n",
    "dorado_path = \"dorado\" # Should be variable \n",
    "basecall_fname = 'basecall' # fq file\n",
    "minimap2_path = 'minimap2' # should be variable\n",
    "aligned_bc_fname = 'bc_aligned' # SAM file\n",
    "trimmed_fname = 'trimmed' # Fasta \n",
    "sorted_fname = 'sorted' # Fasta\n",
    "vsearch_path = 'vsearch' # should be variable\n",
    "vs_cons_fname = 'cons' # Fasta\n",
    "filtered_fname = 'represented_seq' # Fasta\n",
    "medaka_path = 'medaka_consensus' # should be variable\n",
    "polished_fname = 'polished_consensus' # Fasta\n",
    "\n",
    "\n",
    "# Set up the working directory 0\n",
    "#             basecall_directory, 1\n",
    "#             fasta_directory, 2\n",
    "#             merged_pod5, 3\n",
    "#             rough_consensus_output, 4\n",
    "#             xf_consensus_output 5\n",
    "directories_list = setup.setup_directory_system(working_dir)\n",
    "\n",
    "# Using RRM, generate the pod5 from the data directory\n",
    "rrm.generate_merged_pod5(reads,\n",
    "                         directories_list[3],\n",
    "                         p5_fname)\n",
    "\n",
    "#File path string for the merged pod5\n",
    "merged_pod5_path = directories_list[3] + fname + '.pod5'\n",
    "\n",
    "# Generate the dorado basecall command \n",
    "bccmd = cm.basecall_command(dorado_path,\n",
    "                            merged_pod5_path,\n",
    "                            directories_list[1],\n",
    "                            basecall_fname)\n",
    "st = os.system(bccmd)\n",
    "\n",
    "# Filepath string for the basecalled fq \n",
    "basecalled_path = directories_list[1] + basecall_name + '.fq'\n",
    "\n",
    "# use minimap2 to align the basecalled to the basecalled fq\n",
    "map2refcmd = cm.map_to_reference(minimap2_path,\n",
    "                                 barcode_fasta,\n",
    "                                 basecalled_path,\n",
    "                                 directories_list[1],\n",
    "                                 aligned_bc_name)\n",
    "st = os.system(map2refcmd)\n",
    "\n",
    "# Filepath string for the sam file.\n",
    "samfile_path = directories_list[1] + aligned_bc_name + '.sam'\n",
    "\n",
    "# trim down the samfile to a trimmed fasta using default of 95% margin\n",
    "read_trims_list = cm.read_trim(samfile_path)\n",
    "trimmed_fasta_path = cm.write_to_fasta(directories_list[2],\n",
    "                                       trimmed_fname,\n",
    "                                       read_trims_list)\n",
    "\n",
    "# Sort the trimmed fasta\n",
    "sorted_records_list = cm.sort_fasta(trimmed_fasta_path)\n",
    "sorted_fasta_path = cm.write_to_fasta(directories_list[2],\n",
    "                                      sorted_fname,\n",
    "                                      sorted_records_list)\n",
    "\n",
    "# Generate and use vsearch on the fasta\n",
    "vscmd = cm.vsearch_command(vsearch_path,\n",
    "                           sorted_fasta_path,\n",
    "                           directories_list[2],\n",
    "                           vs_cons_fname,\n",
    "                           .95)\n",
    "st = os.system(vscmd)\n",
    "\n",
    "# filepath string for the vsearch fasta\n",
    "vsearch_cons_path = directories_list[2] + vs_cons_fname + '.fasta'\n",
    "\n",
    "# filter the clustering fasta, and then write it out.\n",
    "filtered_list = cm.filter_cluster_size(vsearch_cons_path)\n",
    "filtered_fasta_path = cm.write_to_fasta(directories_list[2],\n",
    "                                        filtered_fname,\n",
    "                                        filtered_list)\n",
    "\n",
    "# Generate the medaka command to perform consensus\n",
    "mdkacmd = cm.medaka_consensus_command(medaka_path,\n",
    "                                      trimmed_fasta_path,\n",
    "                                      filtered_fasta_path,\n",
    "                                      directories_list[2])\n",
    "st = os.system(mdkacmd)\n",
    "\n",
    "# filepath string for the medaka consensus:\n",
    "medak_cons_path = directories_list[2] + 'consensus.fasta'\n",
    "\n",
    "# run vsearch again to polish up the consensus and output it to the rough.\n",
    "vscmd2 = cm.vsearch_command(vsearch_path, medak_cons_path ,directories_list[4] , polished_fname , .9)\n",
    "\n"
   ]
  },
  {
   "cell_type": "code",
   "execution_count": null,
   "id": "7c0837ea-b570-4c06-a59a-f5867ea0e1e2",
   "metadata": {},
   "outputs": [],
   "source": []
  }
 ],
 "metadata": {
  "kernelspec": {
   "display_name": "xna_seq",
   "language": "python",
   "name": "xna_seq"
  },
  "language_info": {
   "codemirror_mode": {
    "name": "ipython",
    "version": 3
   },
   "file_extension": ".py",
   "mimetype": "text/x-python",
   "name": "python",
   "nbconvert_exporter": "python",
   "pygments_lexer": "ipython3",
   "version": "3.8.15"
  }
 },
 "nbformat": 4,
 "nbformat_minor": 5
}
