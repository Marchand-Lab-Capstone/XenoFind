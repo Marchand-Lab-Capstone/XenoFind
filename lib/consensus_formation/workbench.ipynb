{
 "cells": [
  {
   "cell_type": "code",
   "execution_count": 1,
   "id": "ee16bfaa-598c-4feb-be20-f9013a25f508",
   "metadata": {},
   "outputs": [
    {
     "name": "stdout",
     "output_type": "stream",
     "text": [
      "[Mapping]: Command Generated: \"minimap2 -ax map-ont --score-N 0 --MD --min-dp-score 10 /home/sebastian/Documents/GitHub/XenoFind/data/reference_fasta/xBSn_90mer_fake_randomer.fa /home/sebastian/Documents/GitHub/XenoFind/data/working_directory/basecall_directory/basecall.fq > /home/sebastian/Documents/GitHub/XenoFind/data/working_directory/basecall_directory/bc_aligned.sam\"\n",
      "[Trimming]: 7874 unmapped reads, 16 short reads removed.\n",
      "[Writing Fasta]: 2180 lines written to /home/sebastian/Documents/GitHub/XenoFind/data/working_directory/fasta_directory/trimmed.fasta\n",
      "[Sorting]: 2180 records resorted.\n"
     ]
    },
    {
     "name": "stderr",
     "output_type": "stream",
     "text": [
      "[M::mm_idx_gen::0.000*2.54] collected minimizers\n",
      "[M::mm_idx_gen::0.001*2.69] sorted minimizers\n",
      "[M::main::0.001*2.67] loaded/built the index for 1 target sequence(s)\n",
      "[M::mm_mapopt_update::0.001*2.65] mid_occ = 10\n",
      "[M::mm_idx_stat] kmer size: 15; skip: 10; is_hpc: 0; #seq: 1\n",
      "[M::mm_idx_stat::0.001*2.64] distinct minimizers: 5 (100.00% are singletons); average occurrences: 1.000; average spacing: 18.000; total length: 90\n",
      "[M::worker_pipeline::0.024*2.11] mapped 10004 sequences\n",
      "[M::main] Version: 2.27-r1193\n",
      "[M::main] CMD: minimap2 -ax map-ont --score-N 0 --MD --min-dp-score 10 /home/sebastian/Documents/GitHub/XenoFind/data/reference_fasta/xBSn_90mer_fake_randomer.fa /home/sebastian/Documents/GitHub/XenoFind/data/working_directory/basecall_directory/basecall.fq\n",
      "[M::main] Real time: 0.024 sec; CPU: 0.051 sec; Peak RSS: 0.007 GB\n",
      "vsearch v2.27.0_linux_x86_64, 31.0GB RAM, 16 cores\n",
      "https://github.com/torognes/vsearch\n",
      "\n",
      "Reading file /home/sebastian/Documents/GitHub/XenoFind/data/working_directory/fasta_directory/sorted.fasta 100%\n",
      "192814 nt in 2180 seqs, min 77, max 97, avg 88\n",
      "Masking 100%\n",
      "Sorting by length 100%\n",
      "Counting k-mers 100%\n",
      "Clustering 100%\n",
      "Sorting clusters 100%\n",
      "Writing clusters 100%\n",
      "Clusters: 23 Size min 1, max 1539, avg 94.8\n",
      "Singletons: 4, 0.2% of seqs, 17.4% of clusters\n",
      "Multiple alignments 100%\n",
      "vsearch v2.27.0_linux_x86_64, 31.0GB RAM, 16 cores\n",
      "https://github.com/torognes/vsearch\n",
      "\n",
      "Reading file /home/sebastian/Documents/GitHub/XenoFind/data/working_directory/fasta_directory/filtered85.fasta 100%\n",
      "1657 nt in 19 seqs, min 79, max 95, avg 87\n",
      "Masking 100%\n",
      "Sorting by length 100%\n",
      "Counting k-mers 100%\n",
      "Clustering 100%\n",
      "Sorting clusters 100%\n",
      "Writing clusters 100%\n",
      "Clusters: 7 Size min 1, max 13, avg 2.7\n",
      "Singletons: 6, 31.6% of seqs, 85.7% of clusters\n",
      "Multiple alignments 100%\n"
     ]
    },
    {
     "name": "stdout",
     "output_type": "stream",
     "text": [
      "[Writing Fasta]: 2180 lines written to /home/sebastian/Documents/GitHub/XenoFind/data/working_directory/fasta_directory/sorted.fasta\n",
      "[Vsearching]: Command Generated: \"vsearch --cluster_fast /home/sebastian/Documents/GitHub/XenoFind/data/working_directory/fasta_directory/sorted.fasta --id 0.85 --clusterout_sort --consout /home/sebastian/Documents/GitHub/XenoFind/data/working_directory/fasta_directory/cons85.fasta\"\n",
      "[Sorting]: 23 records resorted.\n",
      "[Writing Fasta]: 23 lines written to /home/sebastian/Documents/GitHub/XenoFind/data/working_directory/fasta_directory/subsort85.fasta\n",
      "[Writing Fasta]: 19 lines written to /home/sebastian/Documents/GitHub/XenoFind/data/working_directory/fasta_directory/filtered85.fasta\n",
      "[Vsearching]: Command Generated: \"vsearch --cluster_fast /home/sebastian/Documents/GitHub/XenoFind/data/working_directory/fasta_directory/filtered85.fasta --id 0.9 --clusterout_sort --consout /home/sebastian/Documents/GitHub/XenoFind/data/working_directory/fasta_directory/cons90.fasta\"\n",
      "[Sorting]: 7 records resorted.\n",
      "[Writing Fasta]: 7 lines written to /home/sebastian/Documents/GitHub/XenoFind/data/working_directory/fasta_directory/subsort90.fasta\n",
      "[Writing Fasta]: 1 lines written to /home/sebastian/Documents/GitHub/XenoFind/data/working_directory/fasta_directory/filtered90.fasta\n",
      "[Vsearching]: Command Generated: \"vsearch --cluster_fast /home/sebastian/Documents/GitHub/XenoFind/data/working_directory/fasta_directory/filtered90.fasta --id 0.95 --clusterout_sort --consout /home/sebastian/Documents/GitHub/XenoFind/data/working_directory/fasta_directory/cons95.fasta\"\n",
      "[Sorting]: 1 records resorted.\n",
      "[Writing Fasta]: 1 lines written to /home/sebastian/Documents/GitHub/XenoFind/data/working_directory/fasta_directory/subsort95.fasta\n",
      "[Consensus Forming]: Command Generated: \"medaka_consensus -i /home/sebastian/Documents/GitHub/XenoFind/data/working_directory/fasta_directory/trimmed.fasta -d /home/sebastian/Documents/GitHub/XenoFind/data/working_directory/fasta_directory/subsort95.fasta -o /home/sebastian/Documents/GitHub/XenoFind/data/working_directory/rough_consensus_output/ -m r1041_e82_400bps_hac_v4.2.0 -f -b 300\"\n",
      "TF_CPP_MIN_LOG_LEVEL is set to '3'\n"
     ]
    },
    {
     "name": "stderr",
     "output_type": "stream",
     "text": [
      "vsearch v2.27.0_linux_x86_64, 31.0GB RAM, 16 cores\n",
      "https://github.com/torognes/vsearch\n",
      "\n",
      "Reading file /home/sebastian/Documents/GitHub/XenoFind/data/working_directory/fasta_directory/filtered90.fasta 100%\n",
      "89 nt in 1 seqs, min 89, max 89, avg 89\n",
      "Masking 100%\n",
      "Sorting by length 100%\n",
      "Counting k-mers 100%\n",
      "Clustering 100%\n",
      "Sorting clusters 100%\n",
      "Writing clusters 100%\n",
      "Clusters: 1 Size min 1, max 1, avg 1.0\n",
      "Singletons: 1, 100.0% of seqs, 100.0% of clusters\n",
      "Multiple alignments 100%\n"
     ]
    },
    {
     "name": "stdout",
     "output_type": "stream",
     "text": [
      "Checking program versions\n",
      "This is medaka 1.11.3\n",
      "Program    Version    Required   Pass     \n",
      "bcftools   1.19       1.11       True     \n",
      "bgzip      1.13+ds    1.11       True     \n",
      "minimap2   2.27       2.11       True     \n",
      "samtools   1.19.2     1.11       True     \n",
      "tabix      1.13+ds    1.11       True     \n",
      "WARNING: Output will be overwritten (-f flag)\n"
     ]
    },
    {
     "name": "stderr",
     "output_type": "stream",
     "text": [
      "[09:58:17 - MdlStrTF] Successfully removed temporary files from /tmp/tmpv5d8nenx.\n",
      "[09:58:18 - MdlStrTF] Successfully removed temporary files from /tmp/tmplgzic533.\n",
      "Using the existing fai index file /home/sebastian/Documents/GitHub/XenoFind/data/working_directory/fasta_directory/subsort95.fasta.fai\n",
      "Using the existing mmi index file /home/sebastian/Documents/GitHub/XenoFind/data/working_directory/fasta_directory/subsort95.fasta.map-ont.mmi\n",
      "[M::main::0.001*1.62] loaded/built the index for 1 target sequence(s)\n",
      "[M::mm_mapopt_update::0.001*1.57] mid_occ = 10\n",
      "[M::mm_idx_stat] kmer size: 15; skip: 10; is_hpc: 0; #seq: 1\n",
      "[M::mm_idx_stat::0.001*1.56] distinct minimizers: 15 (100.00% are singletons); average occurrences: 1.000; average spacing: 5.933; total length: 89\n",
      "[M::worker_pipeline::0.018*1.01] mapped 2180 sequences\n",
      "[M::main] Version: 2.27-r1193\n",
      "[M::main] CMD: minimap2 -x map-ont --secondary=no -L --MD -A 2 -B 4 -O 4,24 -E 2,1 -t 1 -a /home/sebastian/Documents/GitHub/XenoFind/data/working_directory/fasta_directory/subsort95.fasta.map-ont.mmi /home/sebastian/Documents/GitHub/XenoFind/data/working_directory/fasta_directory/trimmed.fasta\n",
      "[M::main] Real time: 0.019 sec; CPU: 0.019 sec; Peak RSS: 0.005 GB\n"
     ]
    },
    {
     "name": "stdout",
     "output_type": "stream",
     "text": [
      "Aligning basecalls to draft\n",
      "Running medaka consensus\n"
     ]
    },
    {
     "name": "stderr",
     "output_type": "stream",
     "text": [
      "[09:58:19 - numexpr.utils] Note: NumExpr detected 16 cores but \"NUMEXPR_MAX_THREADS\" not set, so enforcing safe limit of 8.\n",
      "[09:58:19 - numexpr.utils] NumExpr defaulting to 8 threads.\n",
      "[09:58:19 - Predict] Setting tensorflow inter/intra-op threads to 1/1.\n",
      "[09:58:19 - Predict] Processing region(s): centroid=centroid=centroid=d47fb48d-8454-40bb-b01b-c6e2acff486d;seqs=342;seqs=13;seqs=1:0-89\n",
      "[09:58:19 - Predict] Using model: /home/sebastian/.conda/envs/xna_seq/lib/python3.8/site-packages/medaka/data/r1041_e82_400bps_hac_v4.2.0_model.tar.gz.\n",
      "[09:58:20 - BAMFile] Creating pool of 16 BAM file sets.\n",
      "[09:58:20 - Predict] Processing 1 short region(s).\n",
      "[09:58:21 - MdlStrTF] Model <keras.engine.sequential.Sequential object at 0x7f8c74750bb0>\n",
      "[09:58:21 - MdlStrTF] loading weights from /tmp/tmp701h7xr0/model/variables/variables (using expect partial)\n",
      "[09:58:21 - Sampler] Initializing sampler for consensus of region centroid=centroid=centroid=d47fb48d-8454-40bb-b01b-c6e2acff486d;seqs=342;seqs=13;seqs=1:0-89.\n",
      "[09:58:21 - PWorker] Running inference for 0.0M draft bases.\n",
      "[09:58:21 - Feature] Processed centroid=centroid=centroid=d47fb48d-8454-40bb-b01b-c6e2acff486d;seqs=342;seqs=13;seqs=1:0.0-88.0 (median depth 2175.0)\n",
      "[09:58:21 - Sampler] Took 0.10s to make features.\n",
      "[09:58:21 - PWorker] Processed 1 batches\n",
      "[09:58:21 - PWorker] All done, 0 remainder regions.\n",
      "[09:58:21 - Predict] Finished processing all regions.\n",
      "[09:58:21 - MdlStrTF] Successfully removed temporary files from /tmp/tmp701h7xr0.\n",
      "[09:58:22 - DataIndx] Loaded 1/1 (100.00%) sample files.\n",
      "[09:58:22 - Stitcher] Stitching centroid=centroid=centroid=d47fb48d-8454-40bb-b01b-c6e2acff486d;seqs=342;seqs=13;seqs=1:0-89\n"
     ]
    },
    {
     "name": "stdout",
     "output_type": "stream",
     "text": [
      "Polished assembly written to /home/sebastian/Documents/GitHub/XenoFind/data/working_directory/rough_consensus_output//consensus.fasta, have a nice day.\n",
      "[Basecalling]: Command Generated: \"dorado basecaller hac --no-trim --emit-fastq /home/sebastian/Documents/GitHub/XenoFind/data/working_directory/merged_pod5/merged.pod5 > /home/sebastian/Documents/GitHub/XenoFind/data/working_directory/rough_consensus_output/basecall_consensus.fq\"\n"
     ]
    },
    {
     "name": "stderr",
     "output_type": "stream",
     "text": [
      "[2024-03-25 09:58:23.020] [info]  - Note: FASTQ output is not recommended as not all data can be preserved.\n",
      "[2024-03-25 09:58:23.041] [info]  - downloading dna_r10.4.1_e8.2_400bps_hac@v4.3.0 with httplib\n",
      "[2024-03-25 09:58:27.204] [info] > Creating basecall pipeline\n",
      "[2024-03-25 09:58:29.096] [info]  - set batch size for cuda:0 to 256\n",
      "[2024-03-25 09:58:59.961] [info] > Simplex reads basecalled: 10000\n",
      "[2024-03-25 09:58:59.961] [info] > Basecalled @ Samples/s: 5.839811e+05\n",
      "[2024-03-25 09:58:59.975] [info] > Finished\n"
     ]
    },
    {
     "name": "stdout",
     "output_type": "stream",
     "text": [
      "[Mapping]: Command Generated: \"minimap2 -ax map-ont --score-N 0 --MD --min-dp-score 10 /home/sebastian/Documents/GitHub/XenoFind/data/reference_fasta/xBSn_90mer_fake_randomer.fa /home/sebastian/Documents/GitHub/XenoFind/data/working_directory/rough_consensus_output/basecall_consensus.fq > /home/sebastian/Documents/GitHub/XenoFind/data/working_directory/rough_consensus_output/bc_consensus_aligned.sam\"\n"
     ]
    },
    {
     "name": "stderr",
     "output_type": "stream",
     "text": [
      "[M::mm_idx_gen::0.000*2.96] collected minimizers\n",
      "[M::mm_idx_gen::0.001*2.77] sorted minimizers\n",
      "[M::main::0.001*2.73] loaded/built the index for 1 target sequence(s)\n",
      "[M::mm_mapopt_update::0.001*2.67] mid_occ = 10\n",
      "[M::mm_idx_stat] kmer size: 15; skip: 10; is_hpc: 0; #seq: 1\n",
      "[M::mm_idx_stat::0.001*2.62] distinct minimizers: 5 (100.00% are singletons); average occurrences: 1.000; average spacing: 18.000; total length: 90\n",
      "[M::worker_pipeline::0.024*2.11] mapped 10004 sequences\n",
      "[M::main] Version: 2.27-r1193\n",
      "[M::main] CMD: minimap2 -ax map-ont --score-N 0 --MD --min-dp-score 10 /home/sebastian/Documents/GitHub/XenoFind/data/reference_fasta/xBSn_90mer_fake_randomer.fa /home/sebastian/Documents/GitHub/XenoFind/data/working_directory/rough_consensus_output/basecall_consensus.fq\n",
      "[M::main] Real time: 0.024 sec; CPU: 0.051 sec; Peak RSS: 0.007 GB\n"
     ]
    },
    {
     "data": {
      "text/plain": [
       "'minimap2 -ax map-ont --score-N 0 --MD --min-dp-score 10 /home/sebastian/Documents/GitHub/XenoFind/data/reference_fasta/xBSn_90mer_fake_randomer.fa /home/sebastian/Documents/GitHub/XenoFind/data/working_directory/rough_consensus_output/basecall_consensus.fq > /home/sebastian/Documents/GitHub/XenoFind/data/working_directory/rough_consensus_output/bc_consensus_aligned.sam'"
      ]
     },
     "execution_count": 1,
     "metadata": {},
     "output_type": "execute_result"
    }
   ],
   "source": [
    "import consensus_methods as cm\n",
    "wdir = '../../data/working_directory/'\n",
    "rdir = '../../data/reads/'\n",
    "bdir = '../../data/reference_fasta/xBSn_90mer_fake_randomer.fa'\n",
    "cm.first_consensus(wdir, rdir, bdir)"
   ]
  },
  {
   "cell_type": "code",
   "execution_count": null,
   "id": "b5191fa4-c6fd-4425-bbae-f02a4c806dd7",
   "metadata": {},
   "outputs": [],
   "source": [
    "extract_n_indexes, rename_consensus_headers"
   ]
  },
  {
   "cell_type": "code",
   "execution_count": null,
   "id": "763bd96c-a319-4df0-894e-15a6ad2d9d30",
   "metadata": {},
   "outputs": [],
   "source": []
  }
 ],
 "metadata": {
  "kernelspec": {
   "display_name": "xna_seq",
   "language": "python",
   "name": "xna_seq"
  },
  "language_info": {
   "codemirror_mode": {
    "name": "ipython",
    "version": 3
   },
   "file_extension": ".py",
   "mimetype": "text/x-python",
   "name": "python",
   "nbconvert_exporter": "python",
   "pygments_lexer": "ipython3",
   "version": "3.8.18"
  }
 },
 "nbformat": 4,
 "nbformat_minor": 5
}
