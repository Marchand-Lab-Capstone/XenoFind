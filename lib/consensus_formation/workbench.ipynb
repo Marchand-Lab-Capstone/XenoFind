{
 "cells": [
  {
   "cell_type": "code",
   "execution_count": 6,
   "id": "f3a5a1bf-a1e8-4446-a517-3c016d4c6ad4",
   "metadata": {},
   "outputs": [],
   "source": [
    "import os\n",
    "wdir = '../../data/large_working_directory/'\n",
    "rdir = '../../data/reads_large/230725_PZ_lib_v4_r10/20230725_1220_MN37138_APH167_a204cb54/fast5/'\n",
    "bdir = '../../data/reference_fasta/xBSn_90mer_fake_randomer.fa'\n",
    "refdir = \"../../data/reads_large/230725_PZ_lib_v4_r10/fasta/good.fa\""
   ]
  },
  {
   "cell_type": "code",
   "execution_count": 7,
   "id": "e42515ee-929e-4cdb-8e66-1c0e36e0d0ef",
   "metadata": {
    "tags": []
   },
   "outputs": [],
   "source": [
    "from IPython.lib.display import Audio\n",
    "import numpy as np\n",
    "\n",
    "framerate = 4410\n",
    "play_time_seconds = 1\n",
    "\n",
    "t = np.linspace(0, play_time_seconds, framerate*play_time_seconds)\n",
    "audio_data = np.sin(2*np.pi*800*t)*np.sin(2*np.pi*t) + np.sin(2*np.pi*400*t)\n",
    "audio = Audio(audio_data, rate=framerate, autoplay=True)\n",
    "\n",
    "bad_audio_data = np.sin(2*np.pi*800*t)+ np.sin(2*np.pi*700*t)\n",
    "bad_audio = Audio(bad_audio_data, rate=framerate, autoplay=True)"
   ]
  },
  {
   "cell_type": "code",
   "execution_count": 8,
   "id": "120f5c5b-1b3c-49a0-94b2-4c8a4b2f50cc",
   "metadata": {},
   "outputs": [],
   "source": [
    "cmd = \"{} basecaller hac --no-trim --emit-moves --reference {} --verbose --batchsize 400 --secondary n {} > {}{}.bam\".format('dorado',\n",
    "                                                                                                                      refdir,\n",
    "                                                                                                                      wdir+\"merged_pod5/merged.pod5\",\n",
    "                                                                                                                      wdir+'rough_consensus_output/',\n",
    "                                                                                                                      'large_align')"
   ]
  },
  {
   "cell_type": "code",
   "execution_count": 9,
   "id": "8249ea20-3a37-4ff5-aa47-6b6c21371a57",
   "metadata": {
    "tags": []
   },
   "outputs": [],
   "source": [
    "def cmdnotify(status):\n",
    "    if (st == 0):\n",
    "        return audio\n",
    "    else:\n",
    "        return bad_audio"
   ]
  },
  {
   "cell_type": "code",
   "execution_count": 10,
   "id": "b12b55d7-6f63-4a98-8fc3-ff15029eeb17",
   "metadata": {},
   "outputs": [
    {
     "name": "stderr",
     "output_type": "stream",
     "text": [
      "[2024-04-05 11:17:34.558] [info]  - downloading dna_r10.4.1_e8.2_400bps_hac@v4.1.0 with httplib\n",
      "[2024-04-05 11:17:35.690] [info] > Creating basecall pipeline\n",
      "[2024-04-05 11:17:35.836] [debug] cuda:0 memory available: 3.94GB\n",
      "[2024-04-05 11:17:35.836] [debug] Auto batchsize cuda:0: memory limit 2.94GB\n",
      "[2024-04-05 11:17:35.836] [debug] Maximum safe estimated batch size for cuda:0: 384\n",
      "[2024-04-05 11:17:35.836] [debug] Device cuda:0 Model memory 1.78GB\n",
      "[2024-04-05 11:17:35.836] [debug] Device cuda:0 Decode memory 0.89GB\n",
      "[2024-04-05 11:17:35.836] [warning] Specified batch size 448 exceeds maximum batch size based on available memory. Using maximum safe batch size 384.\n",
      "[2024-04-05 11:17:37.162] [warning] - set batch size for cuda:0 to 384\n",
      "[2024-04-05 11:17:37.163] [debug] > Map parameters input by user: dbg print qname=false and aln seq=false.\n",
      "[2024-04-05 11:17:37.202] [debug] Load reads from file ../../data/large_working_directory/merged_pod5/merged.pod5\n",
      "[2024-04-05 11:50:59.858] [info] > Simplex reads basecalled: 403476\n",
      "[2024-04-05 11:50:59.858] [info] > Simplex reads filtered: 50\n",
      "[2024-04-05 11:50:59.858] [info] > Basecalled @ Samples/s: 9.651189e+05\n",
      "[2024-04-05 11:51:00.009] [info] > Finished\n"
     ]
    },
    {
     "data": {
      "text/html": [
       "\n",
       "                <audio  controls=\"controls\" autoplay=\"autoplay\">\n",
       "                    <source src=\"data:audio/wav;base64,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\" type=\"audio/wav\" />\n",
       "                    Your browser does not support the audio element.\n",
       "                </audio>\n",
       "              "
      ],
      "text/plain": [
       "<IPython.lib.display.Audio object>"
      ]
     },
     "execution_count": 10,
     "metadata": {},
     "output_type": "execute_result"
    }
   ],
   "source": [
    "st = os.system(cmd)\n",
    "cmdnotify(st)"
   ]
  },
  {
   "cell_type": "code",
   "execution_count": 4,
   "id": "5d15ecde-8fd2-472c-ac26-07f944429eca",
   "metadata": {},
   "outputs": [
    {
     "name": "stdout",
     "output_type": "stream",
     "text": [
      "[2024-04-04 10:32:29.363] [\u001b[31m\u001b[1merror\u001b[m] 1 argument(s) expected. 0 provided.\n",
      "Usage: dorado [-h] [--device VAR] [--read-ids VAR] [--resume-from VAR] [--max-reads VAR] [--min-qscore VAR] [--batchsize VAR] [--chunksize VAR] [--overlap VAR] [--recursive] [--modified-bases VAR...] [--modified-bases-models VAR] [--modified-bases-threshold VAR] [--emit-fastq] [--emit-sam] [--emit-moves] [--reference VAR] [--kit-name VAR] [--barcode-both-ends] [--no-trim] [--trim VAR] [--sample-sheet VAR] [--barcode-arrangement VAR] [--barcode-sequences VAR] [--estimate-poly-a] [-k VAR] [-w VAR] [-I VAR] [--secondary VAR] [-N VAR] [-Y] [--bandwidth VAR] model data\n",
      "\n",
      "Positional arguments:\n",
      "  model                     \tmodel selection {fast,hac,sup}@v{version} for automatic model selection including modbases, or path to existing model directory \n",
      "  data                      \tthe data directory or file (POD5/FAST5 format). \n",
      "\n",
      "Optional arguments:\n",
      "  -h, --help                \tshows help message and exits \n",
      "  -v, --verbose             \t\n",
      "  -x, --device              \tdevice string in format \"cuda:0,...,N\", \"cuda:all\", \"metal\", \"cpu\" etc.. [default: \"cuda:all\"]\n",
      "  -l, --read-ids            \tA file with a newline-delimited list of reads to basecall. If not provided, all reads will be basecalled [default: \"\"]\n",
      "  --resume-from             \tResume basecalling from the given HTS file. Fully written read records are not processed again. [default: \"\"]\n",
      "  -n, --max-reads           \t[default: 0]\n",
      "  --min-qscore              \tDiscard reads with mean Q-score below this threshold. [default: 0]\n",
      "  -b, --batchsize           \tif 0 an optimal batchsize will be selected. batchsizes are rounded to the closest multiple of 64. [default: 0]\n",
      "  -c, --chunksize           \t[default: 10000]\n",
      "  -o, --overlap             \t[default: 500]\n",
      "  -r, --recursive           \tRecursively scan through directories to load FAST5 and POD5 files \n",
      "  --modified-bases          \t[nargs: 1 or more] \n",
      "  --modified-bases-models   \ta comma separated list of modified base models [default: \"\"]\n",
      "  --modified-bases-threshold\tthe minimum predicted methylation probability for a modified base to be emitted in an all-context model, [0, 1] [default: 0.05]\n",
      "  --emit-fastq              \tOutput in fastq format. \n",
      "  --emit-sam                \tOutput in SAM format. \n",
      "  --emit-moves              \t\n",
      "  --reference               \tPath to reference for alignment. [default: \"\"]\n",
      "  --kit-name                \tEnable barcoding with the provided kit name. Choose from: EXP-NBD103 EXP-NBD104 EXP-NBD114 EXP-NBD196 EXP-PBC001 EXP-PBC096 SQK-16S024 SQK-16S114-24 SQK-LWB001 SQK-MLK111-96-XL SQK-MLK114-96-XL SQK-NBD111-24 SQK-NBD111-96 SQK-NBD114-24 SQK-NBD114-96 SQK-PBK004 SQK-PCB109 SQK-PCB110 SQK-PCB111-24 SQK-PCB114-24 SQK-RAB201 SQK-RAB204 SQK-RBK001 SQK-RBK004 SQK-RBK110-96 SQK-RBK111-24 SQK-RBK111-96 SQK-RBK114-24 SQK-RBK114-96 SQK-RLB001 SQK-RPB004 SQK-RPB114-24 VSK-PTC001 VSK-VMK001 VSK-VMK004 VSK-VPS001. \n",
      "  --barcode-both-ends       \tRequire both ends of a read to be barcoded for a double ended barcode. \n",
      "  --no-trim                 \tSkip trimming of barcodes, adapters, and primers. If option is not chosen, trimming of all three is enabled. \n",
      "  --trim                    \tSpecify what to trim. Options are 'none', 'all', 'adapters', and 'primers'. Default behavior is to trim all detected adapters, primers, or barcodes. Choose 'adapters' to just trim adapters. The 'primers' choice will trim adapters and primers, but not barcodes. The 'none' choice is equivelent to using --no-trim. Note that this only applies to DNA. RNA adapters are always trimmed. [default: \"\"]\n",
      "  --sample-sheet            \tPath to the sample sheet to use. [default: \"\"]\n",
      "  --barcode-arrangement     \tPath to file with custom barcode arrangement. [default: <not representable>]\n",
      "  --barcode-sequences       \tPath to file with custom barcode sequences. [default: <not representable>]\n",
      "  --estimate-poly-a         \tEstimate poly-A/T tail lengths (beta feature). Primarily meant for cDNA and dRNA use cases. Note that if this flag is set, then adapter/primer detection will be disabled. \n",
      "  -k                        \tminimap2 k-mer size for alignment (maximum 28). [default: 15]\n",
      "  -w                        \tminimap2 minimizer window size for alignment. [default: 10]\n",
      "  -I                        \tminimap2 index batch size. [default: \"16G\"]\n",
      "  --secondary               \tminimap2 outputs secondary alignments [default: \"yes\"]\n",
      "  -N                        \tminimap2 retains at most INT secondary alignments [default: 5]\n",
      "  -Y                        \tminimap2 uses soft clipping for supplementary alignments \n",
      "  --bandwidth               \tminimap2 chaining/alignment bandwidth and optionally long-join bandwidth specified as NUM,[NUM] [default: \"500,20K\"]\n",
      "\n"
     ]
    }
   ],
   "source": [
    "!dorado basecaller"
   ]
  },
  {
   "cell_type": "code",
   "execution_count": null,
   "id": "f223b722-4030-47f2-8e3f-2f7f4414ef5a",
   "metadata": {},
   "outputs": [],
   "source": []
  }
 ],
 "metadata": {
  "kernelspec": {
   "display_name": "xna_seq",
   "language": "python",
   "name": "xna_seq"
  },
  "language_info": {
   "codemirror_mode": {
    "name": "ipython",
    "version": 3
   },
   "file_extension": ".py",
   "mimetype": "text/x-python",
   "name": "python",
   "nbconvert_exporter": "python",
   "pygments_lexer": "ipython3",
   "version": "3.8.18"
  }
 },
 "nbformat": 4,
 "nbformat_minor": 5
}
