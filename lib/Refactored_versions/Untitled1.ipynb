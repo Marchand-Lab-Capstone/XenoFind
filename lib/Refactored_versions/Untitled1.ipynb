{
 "cells": [
  {
   "cell_type": "code",
   "execution_count": null,
   "id": "970fa463-4590-44e7-a4fc-f9015c71d1a1",
   "metadata": {},
   "outputs": [
    {
     "data": {
      "text/plain": [
       "'\\nconsensus.py - Steps to make an AGTC referece file for later comparison to xenobases.\\n'"
      ]
     },
     "execution_count": 1,
     "metadata": {},
     "output_type": "execute_result"
    }
   ],
   "source": [
    "\"\"\"\n",
    "consensus.py - Steps to make an AGTC referece file for later comparison to xenobases.\n",
    "\"\"\""
   ]
  },
  {
   "cell_type": "code",
   "execution_count": 2,
   "id": "d0262106-5c18-4c16-bd27-97d99ba58d2d",
   "metadata": {},
   "outputs": [],
   "source": [
    "# Import Statements:\n",
    "import os\n",
    "import random\n",
    "import subprocess\n",
    "from Bio import SeqIO\n",
    "import xf_tools as xt\n",
    "import xf_params as xp"
   ]
  },
  {
   "cell_type": "code",
   "execution_count": 4,
   "id": "edb4c5b9-46ee-4df8-b8fa-14e738d7a4cd",
   "metadata": {},
   "outputs": [],
   "source": [
    "w_dir = os.getcwd()"
   ]
  },
  {
   "cell_type": "code",
   "execution_count": 13,
   "id": "bf22b5fa-d9ec-4b20-ab60-5c4e71f3799a",
   "metadata": {},
   "outputs": [
    {
     "name": "stdout",
     "output_type": "stream",
     "text": [
      "Yes\n"
     ]
    },
    {
     "data": {
      "text/plain": [
       "[]"
      ]
     },
     "execution_count": 13,
     "metadata": {},
     "output_type": "execute_result"
    }
   ],
   "source": [
    "list_working_dirs = os.listdir(w_dir)\n",
    "targets = ['Untitled Folder']\n",
    "files = []\n",
    "for file in list_working_dirs:\n",
    "    if os.path.isdir(file) and (file in targets):\n",
    "        print('Yes')\n",
    "files"
   ]
  },
  {
   "cell_type": "code",
   "execution_count": 33,
   "id": "7b63bbe2-2ab7-4cdb-be25-d10b6afc14d9",
   "metadata": {},
   "outputs": [
    {
     "data": {
      "text/plain": [
       "'Windows'"
      ]
     },
     "execution_count": 33,
     "metadata": {},
     "output_type": "execute_result"
    }
   ],
   "source": [
    "import platform\n",
    "SYS = platform.system()"
   ]
  },
  {
   "cell_type": "code",
   "execution_count": 3,
   "id": "5f5bba8e-a3c0-442b-a4d3-64e6bbf85d99",
   "metadata": {},
   "outputs": [],
   "source": [
    "# Set up booleans --why?\n",
    "basecall = False\n",
    "trim = True\n",
    "VSEARCH_filter = False\n",
    "sort = False\n",
    "fastq_to_fasta = False\n",
    "clustering_VSEARCH = False\n",
    "cluster_filter = False\n",
    "medaka_consensus = False"
   ]
  },
  {
   "cell_type": "code",
   "execution_count": 4,
   "id": "e1f637db-9b89-480c-832e-35d0e0a23c79",
   "metadata": {},
   "outputs": [],
   "source": [
    "def fast5_handler(filepath):\n",
    "    # Get the directory of the fast5 file\n",
    "    file_dir = filepath.split(\".fast5\")[0]\n",
    "    \n",
    "    # Create the output filepath for the pod5 file\n",
    "    output_filepath = file_dir + \".pod5\"\n",
    "    \n",
    "    # Create empty status variable:\n",
    "    status = None\n",
    "    \n",
    "    # If the pod5 conversion doesn't exist\n",
    "    if (not os.path.isfile(output_filepath)):\n",
    "        # Convert the fast5 at the filepath to a pod5 file\n",
    "        cmd = \"pod5 convert fast5 {} -o {}\".format(filepath, output_filepath)\n",
    "        st = os.system(cmd)\n",
    "        \n",
    "        # Create a status string to check in case of verbosity\n",
    "        status = (\"Error! failed in \"*st) +\"Converted {} to {}\".format(filepath, output_filepath)\n",
    "        \n",
    "        # Return the output filepath\n",
    "        return output_filepath\n",
    "    \n",
    "    # If pod5 conversion exists, \n",
    "    else:\n",
    "        # Return the pod5 filepath\n",
    "        status = \"{} already exists.\".format(output_filepath)\n",
    "        print(status)\n",
    "        return output_filepath\n"
   ]
  },
  {
   "cell_type": "code",
   "execution_count": null,
   "id": "e92dce8a-7f34-403f-8782-2e74985d4f38",
   "metadata": {},
   "outputs": [],
   "source": []
  },
  {
   "cell_type": "code",
   "execution_count": 39,
   "id": "b2d63989-5e94-4bc8-9e93-b239f8da43da",
   "metadata": {},
   "outputs": [],
   "source": [
    "def pod5_handler(filepath):\n",
    "    print(\"{} found\".format(filepath))\n",
    "    return filepath"
   ]
  },
  {
   "cell_type": "code",
   "execution_count": 43,
   "id": "fe6075aa-6536-40e5-a71e-5ec96d4f2adb",
   "metadata": {},
   "outputs": [],
   "source": [
    "def get_read_data(in_dir, out_dir, filename):\n",
    "    # Get all the read files in the specified directory,\n",
    "    # and convert them ot a merged pod5 file in the output dir\n",
    "    \n",
    "    # List all the files in the directory\n",
    "    list_files = os.listdir(in_dir)\n",
    "    \n",
    "    # Create an empty list to store all the files to be merged\n",
    "    files_to_merge = []\n",
    "    \n",
    "    # Check if the output path exists:\n",
    "    if (not os.path.exists(out_dir)):\n",
    "        \n",
    "        # if not, make it exist\n",
    "        os.mkdir(out_dir)\n",
    "    \n",
    "    # Loop through each file in the list\n",
    "    for file in list_files:\n",
    "        \n",
    "        # get the filepath\n",
    "        filepath = in_dir + file\n",
    "        \n",
    "        # Get the extension of the file\n",
    "        extension = file.split(\".\")[1]\n",
    "        \n",
    "        # handle each extension type\n",
    "        switch = {\"fast5\": fast5_handler,\n",
    "                  \"pod5\": pod5_handler\n",
    "                  #Extension name: extension conversion handler,\n",
    "                 }\n",
    "        \n",
    "        # Get the path of the corresponding pod5 file based on the case\n",
    "        pod5_version_path = \"\"\n",
    "        try:\n",
    "            pod5_version_path = switch[extension](filepath)\n",
    "        except:\n",
    "            pod5_version_path = \"err\"\n",
    "        \n",
    "        # Merge the \n",
    "        files_to_merge.append(pod5_version_path)\n",
    "    \n",
    "    # remove duplicates from the merge list:\n",
    "    files_to_merge = list(set(files_to_merge))\n",
    "    \n",
    "    # Get the output filename:\n",
    "    output_filename = \"{}{}.pod5\".format(out_dir, filename)\n",
    "    \n",
    "    # if the output file does not yet exist:\n",
    "    if (not os.path.exists(output_filename)):\n",
    "        # merge the files using pod5:\n",
    "        \n",
    "        # Generate the command based on filesystem structure type\n",
    "        cmd = \"\"\n",
    "        if (SYS == 'Windows'):\n",
    "            cmd = \"pod5 merge --recursive {} -o {}\".format(in_dir, output_filename)\n",
    "        else:\n",
    "            cmd = \"pod5 merge {}*.pod5 -o {}\".format(in_dir, output_filename)\n",
    "        st = os.system(cmd)\n",
    "    \n",
    "    return files_to_merge\n",
    "    \n",
    "    "
   ]
  },
  {
   "cell_type": "code",
   "execution_count": 38,
   "id": "992dd01c-ed1d-474a-81ac-563f0e37ac9b",
   "metadata": {},
   "outputs": [
    {
     "data": {
      "text/plain": [
       "['../Data/sample_fast5/subset_fast5/APH167_a204cb54_df11909c_55.pod5',\n",
       " '../Data/sample_fast5/subset_fast5/APH167_a204cb54_df11909c_76.pod5',\n",
       " '../Data/sample_fast5/subset_fast5/APH167_a204cb54_df11909c_5.pod5',\n",
       " '../Data/sample_fast5/subset_fast5/APH167_a204cb54_df11909c_63.pod5',\n",
       " '../Data/sample_fast5/subset_fast5/APH167_a204cb54_df11909c_67.pod5',\n",
       " '../Data/sample_fast5/subset_fast5/APH167_a204cb54_df11909c_88.pod5',\n",
       " '../Data/sample_fast5/subset_fast5/APH167_a204cb54_df11909c_18.pod5',\n",
       " '../Data/sample_fast5/subset_fast5/APH167_a204cb54_df11909c_85.pod5',\n",
       " '../Data/sample_fast5/subset_fast5/APH167_a204cb54_df11909c_64.pod5',\n",
       " '../Data/sample_fast5/subset_fast5/APH167_a204cb54_df11909c_68.pod5',\n",
       " '../Data/sample_fast5/subset_fast5/APH167_a204cb54_df11909c_47.pod5',\n",
       " '../Data/sample_fast5/subset_fast5/APH167_a204cb54_df11909c_21.pod5',\n",
       " '../Data/sample_fast5/subset_fast5/APH167_a204cb54_df11909c_2.pod5',\n",
       " '../Data/sample_fast5/subset_fast5/APH167_a204cb54_df11909c_13.pod5',\n",
       " '../Data/sample_fast5/subset_fast5/APH167_a204cb54_df11909c_16.pod5',\n",
       " '../Data/sample_fast5/subset_fast5/APH167_a204cb54_df11909c_30.pod5',\n",
       " '../Data/sample_fast5/subset_fast5/APH167_a204cb54_df11909c_66.pod5',\n",
       " '../Data/sample_fast5/subset_fast5/APH167_a204cb54_df11909c_65.pod5',\n",
       " '../Data/sample_fast5/subset_fast5/APH167_a204cb54_df11909c_82.pod5',\n",
       " '../Data/sample_fast5/subset_fast5/APH167_a204cb54_df11909c_70.pod5',\n",
       " '../Data/sample_fast5/subset_fast5/APH167_a204cb54_df11909c_51.pod5',\n",
       " '../Data/sample_fast5/subset_fast5/APH167_a204cb54_df11909c_92.pod5',\n",
       " '../Data/sample_fast5/subset_fast5/APH167_a204cb54_df11909c_44.pod5',\n",
       " '../Data/sample_fast5/subset_fast5/APH167_a204cb54_df11909c_53.pod5',\n",
       " '../Data/sample_fast5/subset_fast5/APH167_a204cb54_df11909c_62.pod5',\n",
       " '../Data/sample_fast5/subset_fast5/APH167_a204cb54_df11909c_46.pod5',\n",
       " '../Data/sample_fast5/subset_fast5/APH167_a204cb54_df11909c_90.pod5',\n",
       " '../Data/sample_fast5/subset_fast5/APH167_a204cb54_df11909c_91.pod5',\n",
       " '../Data/sample_fast5/subset_fast5/APH167_a204cb54_df11909c_86.pod5',\n",
       " '../Data/sample_fast5/subset_fast5/APH167_a204cb54_df11909c_43.pod5',\n",
       " '../Data/sample_fast5/subset_fast5/APH167_a204cb54_df11909c_8.pod5',\n",
       " '../Data/sample_fast5/subset_fast5/APH167_a204cb54_df11909c_11.pod5',\n",
       " '../Data/sample_fast5/subset_fast5/APH167_a204cb54_df11909c_52.pod5',\n",
       " '../Data/sample_fast5/subset_fast5/APH167_a204cb54_df11909c_81.pod5',\n",
       " '../Data/sample_fast5/subset_fast5/APH167_a204cb54_df11909c_95.pod5',\n",
       " '../Data/sample_fast5/subset_fast5/APH167_a204cb54_df11909c_80.pod5',\n",
       " '../Data/sample_fast5/subset_fast5/APH167_a204cb54_df11909c_94.pod5',\n",
       " '../Data/sample_fast5/subset_fast5/APH167_a204cb54_df11909c_50.pod5',\n",
       " '../Data/sample_fast5/subset_fast5/APH167_a204cb54_df11909c_93.pod5',\n",
       " '../Data/sample_fast5/subset_fast5/APH167_a204cb54_df11909c_72.pod5',\n",
       " '../Data/sample_fast5/subset_fast5/APH167_a204cb54_df11909c_41.pod5',\n",
       " '../Data/sample_fast5/subset_fast5/APH167_a204cb54_df11909c_31.pod5',\n",
       " '../Data/sample_fast5/subset_fast5/APH167_a204cb54_df11909c_69.pod5',\n",
       " '../Data/sample_fast5/subset_fast5/APH167_a204cb54_df11909c_49.pod5',\n",
       " '../Data/sample_fast5/subset_fast5/APH167_a204cb54_df11909c_38.pod5',\n",
       " '../Data/sample_fast5/subset_fast5/APH167_a204cb54_df11909c_23.pod5',\n",
       " '../Data/sample_fast5/subset_fast5/APH167_a204cb54_df11909c_59.pod5',\n",
       " '../Data/sample_fast5/subset_fast5/APH167_a204cb54_df11909c_35.pod5',\n",
       " '../Data/sample_fast5/subset_fast5/APH167_a204cb54_df11909c_22.pod5',\n",
       " '../Data/sample_fast5/subset_fast5/APH167_a204cb54_df11909c_34.pod5',\n",
       " '../Data/sample_fast5/subset_fast5/APH167_a204cb54_df11909c_1.pod5',\n",
       " '../Data/sample_fast5/subset_fast5/APH167_a204cb54_df11909c_27.pod5',\n",
       " '../Data/sample_fast5/subset_fast5/APH167_a204cb54_df11909c_36.pod5',\n",
       " '../Data/sample_fast5/subset_fast5/APH167_a204cb54_df11909c_58.pod5',\n",
       " '../Data/sample_fast5/subset_fast5/APH167_a204cb54_df11909c_12.pod5',\n",
       " '../Data/sample_fast5/subset_fast5/APH167_a204cb54_df11909c_61.pod5',\n",
       " '../Data/sample_fast5/subset_fast5/APH167_a204cb54_df11909c_26.pod5',\n",
       " '../Data/sample_fast5/subset_fast5/APH167_a204cb54_df11909c_20.pod5',\n",
       " '../Data/sample_fast5/subset_fast5/APH167_a204cb54_df11909c_4.pod5',\n",
       " '../Data/sample_fast5/subset_fast5/APH167_a204cb54_df11909c_54.pod5',\n",
       " '../Data/sample_fast5/subset_fast5/APH167_a204cb54_df11909c_84.pod5',\n",
       " '../Data/sample_fast5/subset_fast5/APH167_a204cb54_df11909c_37.pod5',\n",
       " '../Data/sample_fast5/subset_fast5/APH167_a204cb54_df11909c_73.pod5',\n",
       " '../Data/sample_fast5/subset_fast5/APH167_a204cb54_df11909c_57.pod5',\n",
       " '../Data/sample_fast5/subset_fast5/APH167_a204cb54_df11909c_33.pod5',\n",
       " '../Data/sample_fast5/subset_fast5/APH167_a204cb54_df11909c_48.pod5',\n",
       " '../Data/sample_fast5/subset_fast5/APH167_a204cb54_df11909c_0.pod5',\n",
       " '../Data/sample_fast5/subset_fast5/APH167_a204cb54_df11909c_24.pod5',\n",
       " '../Data/sample_fast5/subset_fast5/APH167_a204cb54_df11909c_42.pod5',\n",
       " '../Data/sample_fast5/subset_fast5/APH167_a204cb54_df11909c_14.pod5',\n",
       " '../Data/sample_fast5/subset_fast5/APH167_a204cb54_df11909c_89.pod5',\n",
       " '../Data/sample_fast5/subset_fast5/APH167_a204cb54_df11909c_74.pod5',\n",
       " '../Data/sample_fast5/subset_fast5/APH167_a204cb54_df11909c_15.pod5',\n",
       " '../Data/sample_fast5/subset_fast5/APH167_a204cb54_df11909c_19.pod5',\n",
       " '../Data/sample_fast5/subset_fast5/APH167_a204cb54_df11909c_45.pod5',\n",
       " '../Data/sample_fast5/subset_fast5/APH167_a204cb54_df11909c_83.pod5',\n",
       " '../Data/sample_fast5/subset_fast5/APH167_a204cb54_df11909c_78.pod5',\n",
       " '../Data/sample_fast5/subset_fast5/APH167_a204cb54_df11909c_40.pod5',\n",
       " '../Data/sample_fast5/subset_fast5/APH167_a204cb54_df11909c_6.pod5',\n",
       " '../Data/sample_fast5/subset_fast5/APH167_a204cb54_df11909c_7.pod5',\n",
       " '../Data/sample_fast5/subset_fast5/APH167_a204cb54_df11909c_75.pod5',\n",
       " '../Data/sample_fast5/subset_fast5/APH167_a204cb54_df11909c_9.pod5',\n",
       " '../Data/sample_fast5/subset_fast5/APH167_a204cb54_df11909c_32.pod5',\n",
       " '../Data/sample_fast5/subset_fast5/APH167_a204cb54_df11909c_29.pod5',\n",
       " '../Data/sample_fast5/subset_fast5/APH167_a204cb54_df11909c_3.pod5',\n",
       " '../Data/sample_fast5/subset_fast5/APH167_a204cb54_df11909c_28.pod5',\n",
       " '../Data/sample_fast5/subset_fast5/APH167_a204cb54_df11909c_17.pod5',\n",
       " '../Data/sample_fast5/subset_fast5/APH167_a204cb54_df11909c_39.pod5',\n",
       " '../Data/sample_fast5/subset_fast5/APH167_a204cb54_df11909c_25.pod5',\n",
       " '../Data/sample_fast5/subset_fast5/APH167_a204cb54_df11909c_79.pod5',\n",
       " '../Data/sample_fast5/subset_fast5/APH167_a204cb54_df11909c_10.pod5',\n",
       " '../Data/sample_fast5/subset_fast5/APH167_a204cb54_df11909c_60.pod5',\n",
       " '../Data/sample_fast5/subset_fast5/APH167_a204cb54_df11909c_77.pod5',\n",
       " '../Data/sample_fast5/subset_fast5/APH167_a204cb54_df11909c_56.pod5',\n",
       " '../Data/sample_fast5/subset_fast5/APH167_a204cb54_df11909c_87.pod5',\n",
       " '../Data/sample_fast5/subset_fast5/APH167_a204cb54_df11909c_71.pod5']"
      ]
     },
     "execution_count": 38,
     "metadata": {},
     "output_type": "execute_result"
    }
   ],
   "source": [
    "get_read_data(\"../Data/sample_fast5/subset_fast5/\", \"../Data/sample_fast5/merged_folder/\", \"merged\")"
   ]
  },
  {
   "cell_type": "code",
   "execution_count": 34,
   "id": "4b18d6dc-4068-402f-8df7-3a1bef60d1c5",
   "metadata": {},
   "outputs": [
    {
     "name": "stdout",
     "output_type": "stream",
     "text": [
      "pod5 merge --recursive ../Data/sample_fast5/subset_fast5/ -o ../Data/sample_fast5/merged_folder/merged.pod5\n"
     ]
    }
   ],
   "source": [
    "cmd = \"pod5 merge --recursive ../Data/sample_fast5/subset_fast5/ -o ../Data/sample_fast5/merged_folder/merged.pod5\"\n",
    "\n",
    "print(cmd)\n"
   ]
  },
  {
   "cell_type": "code",
   "execution_count": 35,
   "id": "89428f3b-8db9-4daa-8c69-7dbe8d81ec68",
   "metadata": {},
   "outputs": [
    {
     "name": "stdout",
     "output_type": "stream",
     "text": [
      "b'Merging reads from 96 files\\r\\n'\n"
     ]
    }
   ],
   "source": [
    "try:\n",
    "    print(subprocess.check_output(cmd))\n",
    "except subprocess.CalledProcessError as err:\n",
    "    print(err)"
   ]
  },
  {
   "cell_type": "code",
   "execution_count": 23,
   "id": "2f69a237-3d40-425e-81f7-0d2057175e85",
   "metadata": {},
   "outputs": [
    {
     "data": {
      "text/plain": [
       "0"
      ]
     },
     "execution_count": 23,
     "metadata": {},
     "output_type": "execute_result"
    }
   ],
   "source": [
    "os.system(\"pod5 convert fast5 ../Data/sample_fast5/subset_fast5/APH167_a204cb54_df11909c_0.fast5 -o ../Data/sample_fast5/subset_fast5/APH167_a204cb54_df11909c_0.pod5\")"
   ]
  },
  {
   "cell_type": "code",
   "execution_count": 29,
   "id": "a5c22477-9e2c-4b8a-9e11-de767fef75c9",
   "metadata": {},
   "outputs": [
    {
     "data": {
      "text/plain": [
       "'C:\\\\Users\\\\Sebastian\\\\documents\\\\github\\\\xapstone\\\\lib'"
      ]
     },
     "execution_count": 29,
     "metadata": {},
     "output_type": "execute_result"
    }
   ],
   "source": [
    "os.getcwd()"
   ]
  },
  {
   "cell_type": "code",
   "execution_count": 32,
   "id": "e3739291-1975-4392-a8a0-e55ee05bee9f",
   "metadata": {},
   "outputs": [
    {
     "name": "stdout",
     "output_type": "stream",
     "text": [
      "b'\\r\\n'\n",
      "b\"POD5 has encountered an error: '1 inputs do not exist: {WindowsPath('../Data/sample_fast5/subset_fast5/*.pod5')}'\\r\\n\"\n",
      "b'\\r\\n'\n",
      "b\"For detailed information set POD5_DEBUG=1'\\r\\n\"\n",
      "b''\n",
      "b''\n",
      "b''\n",
      "b''\n",
      "b''\n",
      "b''\n",
      "b''\n",
      "b''\n",
      "b''\n",
      "b''\n",
      "b''\n",
      "b''\n",
      "b''\n",
      "b''\n",
      "b''\n",
      "b''\n",
      "b''\n",
      "b''\n",
      "b''\n",
      "b''\n",
      "b''\n",
      "b''\n",
      "b''\n",
      "b''\n",
      "b''\n",
      "b''\n",
      "b''\n",
      "b''\n",
      "b''\n",
      "b''\n",
      "b''\n",
      "b''\n",
      "b''\n",
      "b''\n",
      "b''\n",
      "b''\n",
      "b''\n",
      "b''\n",
      "b''\n",
      "b''\n",
      "b''\n",
      "b''\n",
      "b''\n",
      "b''\n",
      "b''\n",
      "b''\n",
      "b''\n",
      "b''\n",
      "b''\n",
      "b''\n"
     ]
    },
    {
     "ename": "NameError",
     "evalue": "name 'self' is not defined",
     "output_type": "error",
     "traceback": [
      "\u001b[1;31m---------------------------------------------------------------------------\u001b[0m",
      "\u001b[1;31mNameError\u001b[0m                                 Traceback (most recent call last)",
      "Cell \u001b[1;32mIn[32], line 4\u001b[0m\n\u001b[0;32m      2\u001b[0m \u001b[38;5;28;01mwhile\u001b[39;00m proc\u001b[38;5;241m.\u001b[39mpoll() \u001b[38;5;129;01mis\u001b[39;00m \u001b[38;5;28;01mNone\u001b[39;00m:\n\u001b[0;32m      3\u001b[0m     \u001b[38;5;28mprint\u001b[39m(proc\u001b[38;5;241m.\u001b[39mstdout\u001b[38;5;241m.\u001b[39mreadline()) \u001b[38;5;66;03m#give output from your execution/your own message\u001b[39;00m\n\u001b[1;32m----> 4\u001b[0m \u001b[38;5;28;43mself\u001b[39;49m\u001b[38;5;241m.\u001b[39mcommandResult \u001b[38;5;241m=\u001b[39m proc\u001b[38;5;241m.\u001b[39mwait()\n",
      "\u001b[1;31mNameError\u001b[0m: name 'self' is not defined"
     ]
    }
   ],
   "source": [
    "proc = subprocess.Popen(cmd, shell=True, stdout=subprocess.PIPE, stderr=subprocess.STDOUT)\n",
    "while proc.poll() is None:\n",
    "    print(proc.stdout.readline()) #give output from your execution/your own message\n",
    "self.commandResult = proc.wait() #catch return code "
   ]
  },
  {
   "cell_type": "code",
   "execution_count": null,
   "id": "0346a92f-a7d1-4b3a-b182-b6f4cb048183",
   "metadata": {},
   "outputs": [],
   "source": []
  }
 ],
 "metadata": {
  "kernelspec": {
   "display_name": "xna_seq",
   "language": "python",
   "name": "xna_seq"
  },
  "language_info": {
   "codemirror_mode": {
    "name": "ipython",
    "version": 3
   },
   "file_extension": ".py",
   "mimetype": "text/x-python",
   "name": "python",
   "nbconvert_exporter": "python",
   "pygments_lexer": "ipython3",
   "version": "3.8.15"
  }
 },
 "nbformat": 4,
 "nbformat_minor": 5
}
